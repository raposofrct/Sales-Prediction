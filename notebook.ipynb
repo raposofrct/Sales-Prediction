{
 "cells": [
  {
   "cell_type": "markdown",
   "id": "c5fc8220",
   "metadata": {},
   "source": [
    "# 0.0 Imports"
   ]
  },
  {
   "cell_type": "markdown",
   "id": "14de2721",
   "metadata": {},
   "source": [
    "## 0.1 Libraries"
   ]
  },
  {
   "cell_type": "code",
   "execution_count": 2,
   "id": "a11dd82d",
   "metadata": {
    "ExecuteTime": {
     "end_time": "2021-12-27T23:20:18.061556Z",
     "start_time": "2021-12-27T23:20:16.341069Z"
    }
   },
   "outputs": [],
   "source": [
    "import pandas as pd\n",
    "import numpy as np\n",
    "import inflection\n",
    "import seaborn as sns\n",
    "import matplotlib.pyplot as plt\n",
    "import datetime\n",
    "import warnings\n",
    "warnings.filterwarnings('ignore')\n",
    "pd.set_option('display.max_columns', None)"
   ]
  },
  {
   "cell_type": "markdown",
   "id": "e3b22be8",
   "metadata": {
    "ExecuteTime": {
     "end_time": "2021-12-16T18:40:49.592216Z",
     "start_time": "2021-12-16T18:40:49.588129Z"
    }
   },
   "source": [
    "## 0.2 Data"
   ]
  },
  {
   "cell_type": "code",
   "execution_count": 44,
   "id": "0e1e5311",
   "metadata": {
    "ExecuteTime": {
     "end_time": "2021-12-26T17:02:24.507345Z",
     "start_time": "2021-12-26T17:02:23.868311Z"
    }
   },
   "outputs": [
    {
     "data": {
      "text/html": [
       "<div>\n",
       "<style scoped>\n",
       "    .dataframe tbody tr th:only-of-type {\n",
       "        vertical-align: middle;\n",
       "    }\n",
       "\n",
       "    .dataframe tbody tr th {\n",
       "        vertical-align: top;\n",
       "    }\n",
       "\n",
       "    .dataframe thead th {\n",
       "        text-align: right;\n",
       "    }\n",
       "</style>\n",
       "<table border=\"1\" class=\"dataframe\">\n",
       "  <thead>\n",
       "    <tr style=\"text-align: right;\">\n",
       "      <th></th>\n",
       "      <th>Store</th>\n",
       "      <th>DayOfWeek</th>\n",
       "      <th>Date</th>\n",
       "      <th>Sales</th>\n",
       "      <th>Customers</th>\n",
       "      <th>Open</th>\n",
       "      <th>Promo</th>\n",
       "      <th>StateHoliday</th>\n",
       "      <th>SchoolHoliday</th>\n",
       "      <th>StoreType</th>\n",
       "      <th>Assortment</th>\n",
       "      <th>CompetitionDistance</th>\n",
       "      <th>CompetitionOpenSinceMonth</th>\n",
       "      <th>CompetitionOpenSinceYear</th>\n",
       "      <th>Promo2</th>\n",
       "      <th>Promo2SinceWeek</th>\n",
       "      <th>Promo2SinceYear</th>\n",
       "      <th>PromoInterval</th>\n",
       "    </tr>\n",
       "  </thead>\n",
       "  <tbody>\n",
       "    <tr>\n",
       "      <th>0</th>\n",
       "      <td>965</td>\n",
       "      <td>7</td>\n",
       "      <td>2014-11-02</td>\n",
       "      <td>0</td>\n",
       "      <td>0</td>\n",
       "      <td>0</td>\n",
       "      <td>0</td>\n",
       "      <td>0</td>\n",
       "      <td>0</td>\n",
       "      <td>a</td>\n",
       "      <td>c</td>\n",
       "      <td>110.0</td>\n",
       "      <td>NaN</td>\n",
       "      <td>NaN</td>\n",
       "      <td>0</td>\n",
       "      <td>NaN</td>\n",
       "      <td>NaN</td>\n",
       "      <td>NaN</td>\n",
       "    </tr>\n",
       "    <tr>\n",
       "      <th>1</th>\n",
       "      <td>268</td>\n",
       "      <td>1</td>\n",
       "      <td>2013-12-30</td>\n",
       "      <td>6995</td>\n",
       "      <td>814</td>\n",
       "      <td>1</td>\n",
       "      <td>0</td>\n",
       "      <td>0</td>\n",
       "      <td>1</td>\n",
       "      <td>a</td>\n",
       "      <td>a</td>\n",
       "      <td>4520.0</td>\n",
       "      <td>2.0</td>\n",
       "      <td>2014.0</td>\n",
       "      <td>0</td>\n",
       "      <td>NaN</td>\n",
       "      <td>NaN</td>\n",
       "      <td>NaN</td>\n",
       "    </tr>\n",
       "    <tr>\n",
       "      <th>2</th>\n",
       "      <td>1112</td>\n",
       "      <td>6</td>\n",
       "      <td>2015-03-28</td>\n",
       "      <td>8671</td>\n",
       "      <td>774</td>\n",
       "      <td>1</td>\n",
       "      <td>0</td>\n",
       "      <td>0</td>\n",
       "      <td>0</td>\n",
       "      <td>c</td>\n",
       "      <td>c</td>\n",
       "      <td>1880.0</td>\n",
       "      <td>4.0</td>\n",
       "      <td>2006.0</td>\n",
       "      <td>0</td>\n",
       "      <td>NaN</td>\n",
       "      <td>NaN</td>\n",
       "      <td>NaN</td>\n",
       "    </tr>\n",
       "    <tr>\n",
       "      <th>3</th>\n",
       "      <td>128</td>\n",
       "      <td>1</td>\n",
       "      <td>2014-07-21</td>\n",
       "      <td>6675</td>\n",
       "      <td>534</td>\n",
       "      <td>1</td>\n",
       "      <td>0</td>\n",
       "      <td>0</td>\n",
       "      <td>0</td>\n",
       "      <td>d</td>\n",
       "      <td>c</td>\n",
       "      <td>2000.0</td>\n",
       "      <td>NaN</td>\n",
       "      <td>NaN</td>\n",
       "      <td>1</td>\n",
       "      <td>1.0</td>\n",
       "      <td>2013.0</td>\n",
       "      <td>Jan,Apr,Jul,Oct</td>\n",
       "    </tr>\n",
       "    <tr>\n",
       "      <th>4</th>\n",
       "      <td>687</td>\n",
       "      <td>4</td>\n",
       "      <td>2015-06-11</td>\n",
       "      <td>6961</td>\n",
       "      <td>675</td>\n",
       "      <td>1</td>\n",
       "      <td>0</td>\n",
       "      <td>0</td>\n",
       "      <td>0</td>\n",
       "      <td>d</td>\n",
       "      <td>c</td>\n",
       "      <td>2770.0</td>\n",
       "      <td>NaN</td>\n",
       "      <td>NaN</td>\n",
       "      <td>0</td>\n",
       "      <td>NaN</td>\n",
       "      <td>NaN</td>\n",
       "      <td>NaN</td>\n",
       "    </tr>\n",
       "  </tbody>\n",
       "</table>\n",
       "</div>"
      ],
      "text/plain": [
       "   Store  DayOfWeek        Date  Sales  Customers  Open  Promo StateHoliday  \\\n",
       "0    965          7  2014-11-02      0          0     0      0            0   \n",
       "1    268          1  2013-12-30   6995        814     1      0            0   \n",
       "2   1112          6  2015-03-28   8671        774     1      0            0   \n",
       "3    128          1  2014-07-21   6675        534     1      0            0   \n",
       "4    687          4  2015-06-11   6961        675     1      0            0   \n",
       "\n",
       "   SchoolHoliday StoreType Assortment  CompetitionDistance  \\\n",
       "0              0         a          c                110.0   \n",
       "1              1         a          a               4520.0   \n",
       "2              0         c          c               1880.0   \n",
       "3              0         d          c               2000.0   \n",
       "4              0         d          c               2770.0   \n",
       "\n",
       "   CompetitionOpenSinceMonth  CompetitionOpenSinceYear  Promo2  \\\n",
       "0                        NaN                       NaN       0   \n",
       "1                        2.0                    2014.0       0   \n",
       "2                        4.0                    2006.0       0   \n",
       "3                        NaN                       NaN       1   \n",
       "4                        NaN                       NaN       0   \n",
       "\n",
       "   Promo2SinceWeek  Promo2SinceYear    PromoInterval  \n",
       "0              NaN              NaN              NaN  \n",
       "1              NaN              NaN              NaN  \n",
       "2              NaN              NaN              NaN  \n",
       "3              1.0           2013.0  Jan,Apr,Jul,Oct  \n",
       "4              NaN              NaN              NaN  "
      ]
     },
     "execution_count": 44,
     "metadata": {},
     "output_type": "execute_result"
    }
   ],
   "source": [
    "dados_sales = pd.read_csv('/Users/nando/Comunidade DS/ds_em_producao/data/train.csv',low_memory=False)\n",
    "dados_stores = pd.read_csv('/Users/nando/Comunidade DS/ds_em_producao/data/store.csv')\n",
    "dados = pd.merge(dados_sales,dados_stores,how='left',on='Store')\n",
    "dados = dados.sample(int(round(dados.shape[0]/10,0)),random_state=101) # Reduce the size of the dataset in 10 (Too big)\n",
    "dados.reset_index(drop=True,inplace=True)\n",
    "dados.head()"
   ]
  },
  {
   "cell_type": "markdown",
   "id": "25794f77",
   "metadata": {},
   "source": [
    "## 0.3 Helper Functions"
   ]
  },
  {
   "cell_type": "code",
   "execution_count": null,
   "id": "85ab3a5a",
   "metadata": {},
   "outputs": [],
   "source": []
  },
  {
   "cell_type": "markdown",
   "id": "a39fa3ef",
   "metadata": {},
   "source": [
    "# 1.0 Data Description and Cleaning"
   ]
  },
  {
   "cell_type": "markdown",
   "id": "f6876a06",
   "metadata": {},
   "source": [
    "## 1.1 Rename Columns and Values"
   ]
  },
  {
   "cell_type": "code",
   "execution_count": 45,
   "id": "6cc3fe60",
   "metadata": {
    "ExecuteTime": {
     "end_time": "2021-12-26T17:02:27.352502Z",
     "start_time": "2021-12-26T17:02:27.342085Z"
    }
   },
   "outputs": [],
   "source": [
    "# CamelCase to snake_case\n",
    "for c in range(len(dados.columns)):\n",
    "    dados.rename(columns={dados.columns.values[c]:inflection.underscore(dados.columns.values[c])},inplace=True)"
   ]
  },
  {
   "cell_type": "code",
   "execution_count": 46,
   "id": "25059ac9",
   "metadata": {
    "ExecuteTime": {
     "end_time": "2021-12-26T17:02:27.956468Z",
     "start_time": "2021-12-26T17:02:27.926461Z"
    }
   },
   "outputs": [],
   "source": [
    "dados['state_holiday'] = dados['state_holiday'].map({'a':'public holiday', 'b':'Easter holiday', 'c':'Christmas', '0':'None'})\n",
    "dados['assortment'] = dados['assortment'].map({'a':'basic','b':'extra','c':'extended'})"
   ]
  },
  {
   "cell_type": "markdown",
   "id": "4f382ce6",
   "metadata": {
    "ExecuteTime": {
     "end_time": "2021-12-16T19:18:02.398816Z",
     "start_time": "2021-12-16T19:18:02.370580Z"
    }
   },
   "source": [
    "## 1.2 Data Dimension"
   ]
  },
  {
   "cell_type": "code",
   "execution_count": 47,
   "id": "cfb3f3c1",
   "metadata": {
    "ExecuteTime": {
     "end_time": "2021-12-26T17:02:28.728430Z",
     "start_time": "2021-12-26T17:02:28.724825Z"
    }
   },
   "outputs": [
    {
     "name": "stdout",
     "output_type": "stream",
     "text": [
      "Rows: 101721\n",
      "Columns: 18\n"
     ]
    }
   ],
   "source": [
    "print(f'Rows: {dados.shape[0]}\\nColumns: {dados.shape[1]}')"
   ]
  },
  {
   "cell_type": "markdown",
   "id": "7fa5b314",
   "metadata": {},
   "source": [
    "## 1.3 Data Types"
   ]
  },
  {
   "cell_type": "markdown",
   "id": "bf41c1c4",
   "metadata": {},
   "source": [
    "### 1.3.1 Check"
   ]
  },
  {
   "cell_type": "code",
   "execution_count": 48,
   "id": "5b99bc16",
   "metadata": {
    "ExecuteTime": {
     "end_time": "2021-12-26T17:02:29.708597Z",
     "start_time": "2021-12-26T17:02:29.702267Z"
    }
   },
   "outputs": [
    {
     "data": {
      "text/plain": [
       "store                             int64\n",
       "day_of_week                       int64\n",
       "date                             object\n",
       "sales                             int64\n",
       "customers                         int64\n",
       "open                              int64\n",
       "promo                             int64\n",
       "state_holiday                    object\n",
       "school_holiday                    int64\n",
       "store_type                       object\n",
       "assortment                       object\n",
       "competition_distance            float64\n",
       "competition_open_since_month    float64\n",
       "competition_open_since_year     float64\n",
       "promo2                            int64\n",
       "promo2_since_week               float64\n",
       "promo2_since_year               float64\n",
       "promo_interval                   object\n",
       "dtype: object"
      ]
     },
     "execution_count": 48,
     "metadata": {},
     "output_type": "execute_result"
    }
   ],
   "source": [
    "dados.dtypes"
   ]
  },
  {
   "cell_type": "markdown",
   "id": "0c4574e3",
   "metadata": {},
   "source": [
    "### 1.3.2 Change"
   ]
  },
  {
   "cell_type": "code",
   "execution_count": 49,
   "id": "60123fc5",
   "metadata": {
    "ExecuteTime": {
     "end_time": "2021-12-26T17:02:30.190612Z",
     "start_time": "2021-12-26T17:02:30.159737Z"
    }
   },
   "outputs": [],
   "source": [
    "# date to datetime64\n",
    "dados['date'] = pd.to_datetime(dados['date'])"
   ]
  },
  {
   "cell_type": "markdown",
   "id": "8b8a8d57",
   "metadata": {},
   "source": [
    "## 1.4 NaN"
   ]
  },
  {
   "cell_type": "markdown",
   "id": "8d1ff290",
   "metadata": {},
   "source": [
    "### 1.4.1 Check"
   ]
  },
  {
   "cell_type": "code",
   "execution_count": 50,
   "id": "140267ab",
   "metadata": {
    "ExecuteTime": {
     "end_time": "2021-12-26T17:02:31.109721Z",
     "start_time": "2021-12-26T17:02:31.073513Z"
    }
   },
   "outputs": [
    {
     "data": {
      "text/plain": [
       "store                               0\n",
       "day_of_week                         0\n",
       "date                                0\n",
       "sales                               0\n",
       "customers                           0\n",
       "open                                0\n",
       "promo                               0\n",
       "state_holiday                       0\n",
       "school_holiday                      0\n",
       "store_type                          0\n",
       "assortment                          0\n",
       "competition_distance              257\n",
       "competition_open_since_month    32411\n",
       "competition_open_since_year     32411\n",
       "promo2                              0\n",
       "promo2_since_week               50900\n",
       "promo2_since_year               50900\n",
       "promo_interval                  50900\n",
       "dtype: int64"
      ]
     },
     "execution_count": 50,
     "metadata": {},
     "output_type": "execute_result"
    }
   ],
   "source": [
    "dados.isna().sum()"
   ]
  },
  {
   "cell_type": "markdown",
   "id": "75fda637",
   "metadata": {},
   "source": [
    "### 1.4.2 Dealing With"
   ]
  },
  {
   "cell_type": "code",
   "execution_count": 51,
   "id": "ca5e164f",
   "metadata": {
    "ExecuteTime": {
     "end_time": "2021-12-26T17:02:31.913554Z",
     "start_time": "2021-12-26T17:02:31.902637Z"
    }
   },
   "outputs": [
    {
     "data": {
      "text/plain": [
       "store                             0\n",
       "day_of_week                       0\n",
       "date                              0\n",
       "sales                             0\n",
       "customers                         0\n",
       "open                              0\n",
       "promo                             0\n",
       "state_holiday                     0\n",
       "school_holiday                    0\n",
       "store_type                        0\n",
       "assortment                        0\n",
       "competition_distance            257\n",
       "competition_open_since_month    257\n",
       "competition_open_since_year     257\n",
       "promo2                            0\n",
       "promo2_since_week               179\n",
       "promo2_since_year               179\n",
       "promo_interval                  179\n",
       "dtype: int64"
      ]
     },
     "execution_count": 51,
     "metadata": {},
     "output_type": "execute_result"
    }
   ],
   "source": [
    "## competition_distance, competition_open_since_month, competition_open_since_year\n",
    "\n",
    "# I suppose that the competition_distance == nan refers that there's no competition!\n",
    "# Lets'se if it's true\n",
    "\n",
    "dados[dados['competition_distance'].isna()].isna().sum()"
   ]
  },
  {
   "cell_type": "markdown",
   "id": "336e81ad",
   "metadata": {},
   "source": [
    "Yeah, thats true. \n",
    "\n",
    "All of the empty distances have empty competition_open_since.. what confirm that the competition has never been started! "
   ]
  },
  {
   "cell_type": "code",
   "execution_count": 52,
   "id": "855e4b84",
   "metadata": {
    "ExecuteTime": {
     "end_time": "2021-12-26T17:02:33.548853Z",
     "start_time": "2021-12-26T17:02:33.415481Z"
    }
   },
   "outputs": [],
   "source": [
    "for index in dados[dados['competition_distance'].isna()].index:\n",
    "    dados.loc[index,'competition_distance'] = 999999 # High values suggests that the competitors are so far that there's no competition\n",
    "    dados.loc[index,'competition_open_since_month'] = 0 # It suggets that it has never been opened\n",
    "    dados.loc[index,'competition_open_since_year'] = 0 # It suggets that it has never been opened"
   ]
  },
  {
   "cell_type": "code",
   "execution_count": 53,
   "id": "b28aa6b6",
   "metadata": {
    "ExecuteTime": {
     "end_time": "2021-12-26T17:02:34.584081Z",
     "start_time": "2021-12-26T17:02:34.557705Z"
    }
   },
   "outputs": [
    {
     "data": {
      "text/plain": [
       "store                               0\n",
       "day_of_week                         0\n",
       "date                                0\n",
       "sales                               0\n",
       "customers                           0\n",
       "open                                0\n",
       "promo                               0\n",
       "state_holiday                       0\n",
       "school_holiday                      0\n",
       "store_type                          0\n",
       "assortment                          0\n",
       "competition_distance                0\n",
       "competition_open_since_month    32154\n",
       "competition_open_since_year     32154\n",
       "promo2                              0\n",
       "promo2_since_week               13746\n",
       "promo2_since_year               13746\n",
       "promo_interval                  13746\n",
       "dtype: int64"
      ]
     },
     "execution_count": 53,
     "metadata": {},
     "output_type": "execute_result"
    }
   ],
   "source": [
    "## competition_open_since_month, competition_open_since_year\n",
    "\n",
    "# I suppose that if there's no year, there's no month and vice-versa\n",
    "# Let's se if it's true\n",
    "\n",
    "dados[dados['competition_open_since_month'].isna()].isna().sum()"
   ]
  },
  {
   "cell_type": "markdown",
   "id": "a36c0f26",
   "metadata": {},
   "source": [
    "Yeah, 100% true!\n",
    "\n",
    "Then, i suppose that we do not have these dates by some reason"
   ]
  },
  {
   "cell_type": "code",
   "execution_count": 54,
   "id": "b662a8b1",
   "metadata": {
    "ExecuteTime": {
     "end_time": "2021-12-26T17:02:50.581944Z",
     "start_time": "2021-12-26T17:02:42.323438Z"
    }
   },
   "outputs": [],
   "source": [
    "month_median = round(dados['competition_open_since_month'].median(),0)\n",
    "year_median = round(dados['competition_open_since_year'].median(),0)\n",
    "for index in dados[dados['competition_open_since_month'].isna()].index:\n",
    "    dados.loc[index,'competition_open_since_month'] = month_median # Im gonna use median and round to have discret values\n",
    "    dados.loc[index,'competition_open_since_year'] = year_median # Im gonna use median and round to have discret values"
   ]
  },
  {
   "cell_type": "code",
   "execution_count": 55,
   "id": "cf3f6eb9",
   "metadata": {
    "ExecuteTime": {
     "end_time": "2021-12-26T17:02:50.593959Z",
     "start_time": "2021-12-26T17:02:50.582861Z"
    }
   },
   "outputs": [
    {
     "data": {
      "text/plain": [
       "store                               0\n",
       "day_of_week                         0\n",
       "date                                0\n",
       "sales                               0\n",
       "customers                           0\n",
       "open                                0\n",
       "promo                               0\n",
       "state_holiday                       0\n",
       "school_holiday                      0\n",
       "store_type                          0\n",
       "assortment                          0\n",
       "competition_distance                0\n",
       "competition_open_since_month        0\n",
       "competition_open_since_year         0\n",
       "promo2                              0\n",
       "promo2_since_week               50900\n",
       "promo2_since_year               50900\n",
       "promo_interval                  50900\n",
       "dtype: int64"
      ]
     },
     "execution_count": 55,
     "metadata": {},
     "output_type": "execute_result"
    }
   ],
   "source": [
    "## promo_interval, promo2_since_week, promo2_since_year\n",
    "\n",
    "# I wanna check if the NaN in these columns are just when promo2 is 0 (no promo2) what would be very logic.\n",
    "# Because if there's no promo2, theres no since date or interval\n",
    "\n",
    "(dados[dados['promo2']==0].isna()).sum()"
   ]
  },
  {
   "cell_type": "markdown",
   "id": "9f721c85",
   "metadata": {},
   "source": [
    "So true! \n",
    "\n",
    "Every NaN in the last 3 columns is because promo2 has never been started!"
   ]
  },
  {
   "cell_type": "code",
   "execution_count": 56,
   "id": "5c29e984",
   "metadata": {
    "ExecuteTime": {
     "end_time": "2021-12-26T17:03:57.742412Z",
     "start_time": "2021-12-26T17:02:50.594723Z"
    }
   },
   "outputs": [],
   "source": [
    "for index in dados[dados['promo2_since_week'].isna()].index:\n",
    "    dados.loc[index, 'promo2_since_week'] = 0 # It suggets that there's no promo2 week start\n",
    "    dados.loc[index, 'promo2_since_year'] = 0 # It suggets that there's no promo2 year start\n",
    "    dados.loc[index, 'promo_interval'] = 'No promo2' # For now, im going to substitute with this"
   ]
  },
  {
   "cell_type": "markdown",
   "id": "685c8076",
   "metadata": {},
   "source": [
    "### 1.4.3 Final Check"
   ]
  },
  {
   "cell_type": "code",
   "execution_count": 57,
   "id": "bd8dd0b8",
   "metadata": {
    "ExecuteTime": {
     "end_time": "2021-12-26T17:03:57.755959Z",
     "start_time": "2021-12-26T17:03:57.743535Z"
    }
   },
   "outputs": [
    {
     "data": {
      "text/plain": [
       "store                           0\n",
       "day_of_week                     0\n",
       "date                            0\n",
       "sales                           0\n",
       "customers                       0\n",
       "open                            0\n",
       "promo                           0\n",
       "state_holiday                   0\n",
       "school_holiday                  0\n",
       "store_type                      0\n",
       "assortment                      0\n",
       "competition_distance            0\n",
       "competition_open_since_month    0\n",
       "competition_open_since_year     0\n",
       "promo2                          0\n",
       "promo2_since_week               0\n",
       "promo2_since_year               0\n",
       "promo_interval                  0\n",
       "dtype: int64"
      ]
     },
     "execution_count": 57,
     "metadata": {},
     "output_type": "execute_result"
    }
   ],
   "source": [
    "dados.isna().sum()"
   ]
  },
  {
   "cell_type": "markdown",
   "id": "096e1267",
   "metadata": {},
   "source": [
    "## 1.5 Data Types (after NaN)"
   ]
  },
  {
   "cell_type": "markdown",
   "id": "a9ab923e",
   "metadata": {},
   "source": [
    "### 1.5.1 Check"
   ]
  },
  {
   "cell_type": "code",
   "execution_count": 58,
   "id": "55ca9922",
   "metadata": {
    "ExecuteTime": {
     "end_time": "2021-12-26T17:03:57.759071Z",
     "start_time": "2021-12-26T17:03:57.756624Z"
    }
   },
   "outputs": [
    {
     "data": {
      "text/plain": [
       "store                                    int64\n",
       "day_of_week                              int64\n",
       "date                            datetime64[ns]\n",
       "sales                                    int64\n",
       "customers                                int64\n",
       "open                                     int64\n",
       "promo                                    int64\n",
       "state_holiday                           object\n",
       "school_holiday                           int64\n",
       "store_type                              object\n",
       "assortment                              object\n",
       "competition_distance                   float64\n",
       "competition_open_since_month           float64\n",
       "competition_open_since_year            float64\n",
       "promo2                                   int64\n",
       "promo2_since_week                      float64\n",
       "promo2_since_year                      float64\n",
       "promo_interval                          object\n",
       "dtype: object"
      ]
     },
     "execution_count": 58,
     "metadata": {},
     "output_type": "execute_result"
    }
   ],
   "source": [
    "dados.dtypes"
   ]
  },
  {
   "cell_type": "markdown",
   "id": "92c1c63b",
   "metadata": {},
   "source": [
    "### 1.5.2 Change"
   ]
  },
  {
   "cell_type": "code",
   "execution_count": 59,
   "id": "a56add5f",
   "metadata": {
    "ExecuteTime": {
     "end_time": "2021-12-26T17:03:57.763265Z",
     "start_time": "2021-12-26T17:03:57.759603Z"
    }
   },
   "outputs": [],
   "source": [
    "# float to int in columns related to dates\n",
    "dados['competition_open_since_month'] = dados['competition_open_since_month'].astype(int)\n",
    "dados['competition_open_since_year'] = dados['competition_open_since_year'].astype(int)\n",
    "dados['promo2_since_week'] = dados['promo2_since_week'].astype(int)\n",
    "dados['promo2_since_year'] = dados['promo2_since_year'].astype(int)"
   ]
  },
  {
   "cell_type": "markdown",
   "id": "d30005e9",
   "metadata": {},
   "source": [
    "## 1.6 Descriptive Statistics"
   ]
  },
  {
   "cell_type": "markdown",
   "id": "4a221d0b",
   "metadata": {},
   "source": [
    "### 1.6.1 Separate Categorical and Numeric Variables"
   ]
  },
  {
   "cell_type": "code",
   "execution_count": 60,
   "id": "32f34a8f",
   "metadata": {
    "ExecuteTime": {
     "end_time": "2021-12-26T17:09:29.144225Z",
     "start_time": "2021-12-26T17:09:29.115989Z"
    }
   },
   "outputs": [
    {
     "data": {
      "text/html": [
       "<div>\n",
       "<style scoped>\n",
       "    .dataframe tbody tr th:only-of-type {\n",
       "        vertical-align: middle;\n",
       "    }\n",
       "\n",
       "    .dataframe tbody tr th {\n",
       "        vertical-align: top;\n",
       "    }\n",
       "\n",
       "    .dataframe thead th {\n",
       "        text-align: right;\n",
       "    }\n",
       "</style>\n",
       "<table border=\"1\" class=\"dataframe\">\n",
       "  <thead>\n",
       "    <tr style=\"text-align: right;\">\n",
       "      <th></th>\n",
       "      <th>store</th>\n",
       "      <th>day_of_week</th>\n",
       "      <th>date</th>\n",
       "      <th>sales</th>\n",
       "      <th>customers</th>\n",
       "      <th>open</th>\n",
       "      <th>promo</th>\n",
       "      <th>state_holiday</th>\n",
       "      <th>school_holiday</th>\n",
       "      <th>store_type</th>\n",
       "      <th>assortment</th>\n",
       "      <th>competition_distance</th>\n",
       "      <th>competition_open_since_month</th>\n",
       "      <th>competition_open_since_year</th>\n",
       "      <th>promo2</th>\n",
       "      <th>promo2_since_week</th>\n",
       "      <th>promo2_since_year</th>\n",
       "      <th>promo_interval</th>\n",
       "    </tr>\n",
       "  </thead>\n",
       "  <tbody>\n",
       "    <tr>\n",
       "      <th>0</th>\n",
       "      <td>965</td>\n",
       "      <td>7</td>\n",
       "      <td>2014-11-02</td>\n",
       "      <td>0</td>\n",
       "      <td>0</td>\n",
       "      <td>0</td>\n",
       "      <td>0</td>\n",
       "      <td>None</td>\n",
       "      <td>0</td>\n",
       "      <td>a</td>\n",
       "      <td>extended</td>\n",
       "      <td>110.0</td>\n",
       "      <td>8</td>\n",
       "      <td>2009</td>\n",
       "      <td>0</td>\n",
       "      <td>0</td>\n",
       "      <td>0</td>\n",
       "      <td>No promo2</td>\n",
       "    </tr>\n",
       "    <tr>\n",
       "      <th>1</th>\n",
       "      <td>268</td>\n",
       "      <td>1</td>\n",
       "      <td>2013-12-30</td>\n",
       "      <td>6995</td>\n",
       "      <td>814</td>\n",
       "      <td>1</td>\n",
       "      <td>0</td>\n",
       "      <td>None</td>\n",
       "      <td>1</td>\n",
       "      <td>a</td>\n",
       "      <td>basic</td>\n",
       "      <td>4520.0</td>\n",
       "      <td>2</td>\n",
       "      <td>2014</td>\n",
       "      <td>0</td>\n",
       "      <td>0</td>\n",
       "      <td>0</td>\n",
       "      <td>No promo2</td>\n",
       "    </tr>\n",
       "    <tr>\n",
       "      <th>2</th>\n",
       "      <td>1112</td>\n",
       "      <td>6</td>\n",
       "      <td>2015-03-28</td>\n",
       "      <td>8671</td>\n",
       "      <td>774</td>\n",
       "      <td>1</td>\n",
       "      <td>0</td>\n",
       "      <td>None</td>\n",
       "      <td>0</td>\n",
       "      <td>c</td>\n",
       "      <td>extended</td>\n",
       "      <td>1880.0</td>\n",
       "      <td>4</td>\n",
       "      <td>2006</td>\n",
       "      <td>0</td>\n",
       "      <td>0</td>\n",
       "      <td>0</td>\n",
       "      <td>No promo2</td>\n",
       "    </tr>\n",
       "    <tr>\n",
       "      <th>3</th>\n",
       "      <td>128</td>\n",
       "      <td>1</td>\n",
       "      <td>2014-07-21</td>\n",
       "      <td>6675</td>\n",
       "      <td>534</td>\n",
       "      <td>1</td>\n",
       "      <td>0</td>\n",
       "      <td>None</td>\n",
       "      <td>0</td>\n",
       "      <td>d</td>\n",
       "      <td>extended</td>\n",
       "      <td>2000.0</td>\n",
       "      <td>8</td>\n",
       "      <td>2009</td>\n",
       "      <td>1</td>\n",
       "      <td>1</td>\n",
       "      <td>2013</td>\n",
       "      <td>Jan,Apr,Jul,Oct</td>\n",
       "    </tr>\n",
       "    <tr>\n",
       "      <th>4</th>\n",
       "      <td>687</td>\n",
       "      <td>4</td>\n",
       "      <td>2015-06-11</td>\n",
       "      <td>6961</td>\n",
       "      <td>675</td>\n",
       "      <td>1</td>\n",
       "      <td>0</td>\n",
       "      <td>None</td>\n",
       "      <td>0</td>\n",
       "      <td>d</td>\n",
       "      <td>extended</td>\n",
       "      <td>2770.0</td>\n",
       "      <td>8</td>\n",
       "      <td>2009</td>\n",
       "      <td>0</td>\n",
       "      <td>0</td>\n",
       "      <td>0</td>\n",
       "      <td>No promo2</td>\n",
       "    </tr>\n",
       "    <tr>\n",
       "      <th>...</th>\n",
       "      <td>...</td>\n",
       "      <td>...</td>\n",
       "      <td>...</td>\n",
       "      <td>...</td>\n",
       "      <td>...</td>\n",
       "      <td>...</td>\n",
       "      <td>...</td>\n",
       "      <td>...</td>\n",
       "      <td>...</td>\n",
       "      <td>...</td>\n",
       "      <td>...</td>\n",
       "      <td>...</td>\n",
       "      <td>...</td>\n",
       "      <td>...</td>\n",
       "      <td>...</td>\n",
       "      <td>...</td>\n",
       "      <td>...</td>\n",
       "      <td>...</td>\n",
       "    </tr>\n",
       "    <tr>\n",
       "      <th>101716</th>\n",
       "      <td>410</td>\n",
       "      <td>1</td>\n",
       "      <td>2013-04-15</td>\n",
       "      <td>4233</td>\n",
       "      <td>618</td>\n",
       "      <td>1</td>\n",
       "      <td>0</td>\n",
       "      <td>None</td>\n",
       "      <td>0</td>\n",
       "      <td>c</td>\n",
       "      <td>basic</td>\n",
       "      <td>40.0</td>\n",
       "      <td>11</td>\n",
       "      <td>2011</td>\n",
       "      <td>1</td>\n",
       "      <td>22</td>\n",
       "      <td>2012</td>\n",
       "      <td>Mar,Jun,Sept,Dec</td>\n",
       "    </tr>\n",
       "    <tr>\n",
       "      <th>101717</th>\n",
       "      <td>1111</td>\n",
       "      <td>3</td>\n",
       "      <td>2014-12-03</td>\n",
       "      <td>6008</td>\n",
       "      <td>485</td>\n",
       "      <td>1</td>\n",
       "      <td>1</td>\n",
       "      <td>None</td>\n",
       "      <td>0</td>\n",
       "      <td>a</td>\n",
       "      <td>basic</td>\n",
       "      <td>1900.0</td>\n",
       "      <td>6</td>\n",
       "      <td>2014</td>\n",
       "      <td>1</td>\n",
       "      <td>31</td>\n",
       "      <td>2013</td>\n",
       "      <td>Jan,Apr,Jul,Oct</td>\n",
       "    </tr>\n",
       "    <tr>\n",
       "      <th>101718</th>\n",
       "      <td>262</td>\n",
       "      <td>2</td>\n",
       "      <td>2014-04-08</td>\n",
       "      <td>17914</td>\n",
       "      <td>3279</td>\n",
       "      <td>1</td>\n",
       "      <td>0</td>\n",
       "      <td>None</td>\n",
       "      <td>0</td>\n",
       "      <td>b</td>\n",
       "      <td>basic</td>\n",
       "      <td>1180.0</td>\n",
       "      <td>5</td>\n",
       "      <td>2013</td>\n",
       "      <td>0</td>\n",
       "      <td>0</td>\n",
       "      <td>0</td>\n",
       "      <td>No promo2</td>\n",
       "    </tr>\n",
       "    <tr>\n",
       "      <th>101719</th>\n",
       "      <td>849</td>\n",
       "      <td>6</td>\n",
       "      <td>2013-01-19</td>\n",
       "      <td>8214</td>\n",
       "      <td>922</td>\n",
       "      <td>1</td>\n",
       "      <td>0</td>\n",
       "      <td>None</td>\n",
       "      <td>0</td>\n",
       "      <td>c</td>\n",
       "      <td>extended</td>\n",
       "      <td>5000.0</td>\n",
       "      <td>8</td>\n",
       "      <td>2009</td>\n",
       "      <td>0</td>\n",
       "      <td>0</td>\n",
       "      <td>0</td>\n",
       "      <td>No promo2</td>\n",
       "    </tr>\n",
       "    <tr>\n",
       "      <th>101720</th>\n",
       "      <td>696</td>\n",
       "      <td>2</td>\n",
       "      <td>2013-02-19</td>\n",
       "      <td>7704</td>\n",
       "      <td>953</td>\n",
       "      <td>1</td>\n",
       "      <td>1</td>\n",
       "      <td>None</td>\n",
       "      <td>0</td>\n",
       "      <td>a</td>\n",
       "      <td>extended</td>\n",
       "      <td>430.0</td>\n",
       "      <td>8</td>\n",
       "      <td>2009</td>\n",
       "      <td>0</td>\n",
       "      <td>0</td>\n",
       "      <td>0</td>\n",
       "      <td>No promo2</td>\n",
       "    </tr>\n",
       "  </tbody>\n",
       "</table>\n",
       "<p>101721 rows × 18 columns</p>\n",
       "</div>"
      ],
      "text/plain": [
       "        store  day_of_week       date  sales  customers  open  promo  \\\n",
       "0         965            7 2014-11-02      0          0     0      0   \n",
       "1         268            1 2013-12-30   6995        814     1      0   \n",
       "2        1112            6 2015-03-28   8671        774     1      0   \n",
       "3         128            1 2014-07-21   6675        534     1      0   \n",
       "4         687            4 2015-06-11   6961        675     1      0   \n",
       "...       ...          ...        ...    ...        ...   ...    ...   \n",
       "101716    410            1 2013-04-15   4233        618     1      0   \n",
       "101717   1111            3 2014-12-03   6008        485     1      1   \n",
       "101718    262            2 2014-04-08  17914       3279     1      0   \n",
       "101719    849            6 2013-01-19   8214        922     1      0   \n",
       "101720    696            2 2013-02-19   7704        953     1      1   \n",
       "\n",
       "       state_holiday  school_holiday store_type assortment  \\\n",
       "0               None               0          a   extended   \n",
       "1               None               1          a      basic   \n",
       "2               None               0          c   extended   \n",
       "3               None               0          d   extended   \n",
       "4               None               0          d   extended   \n",
       "...              ...             ...        ...        ...   \n",
       "101716          None               0          c      basic   \n",
       "101717          None               0          a      basic   \n",
       "101718          None               0          b      basic   \n",
       "101719          None               0          c   extended   \n",
       "101720          None               0          a   extended   \n",
       "\n",
       "        competition_distance  competition_open_since_month  \\\n",
       "0                      110.0                             8   \n",
       "1                     4520.0                             2   \n",
       "2                     1880.0                             4   \n",
       "3                     2000.0                             8   \n",
       "4                     2770.0                             8   \n",
       "...                      ...                           ...   \n",
       "101716                  40.0                            11   \n",
       "101717                1900.0                             6   \n",
       "101718                1180.0                             5   \n",
       "101719                5000.0                             8   \n",
       "101720                 430.0                             8   \n",
       "\n",
       "        competition_open_since_year  promo2  promo2_since_week  \\\n",
       "0                              2009       0                  0   \n",
       "1                              2014       0                  0   \n",
       "2                              2006       0                  0   \n",
       "3                              2009       1                  1   \n",
       "4                              2009       0                  0   \n",
       "...                             ...     ...                ...   \n",
       "101716                         2011       1                 22   \n",
       "101717                         2014       1                 31   \n",
       "101718                         2013       0                  0   \n",
       "101719                         2009       0                  0   \n",
       "101720                         2009       0                  0   \n",
       "\n",
       "        promo2_since_year    promo_interval  \n",
       "0                       0         No promo2  \n",
       "1                       0         No promo2  \n",
       "2                       0         No promo2  \n",
       "3                    2013   Jan,Apr,Jul,Oct  \n",
       "4                       0         No promo2  \n",
       "...                   ...               ...  \n",
       "101716               2012  Mar,Jun,Sept,Dec  \n",
       "101717               2013   Jan,Apr,Jul,Oct  \n",
       "101718                  0         No promo2  \n",
       "101719                  0         No promo2  \n",
       "101720                  0         No promo2  \n",
       "\n",
       "[101721 rows x 18 columns]"
      ]
     },
     "execution_count": 60,
     "metadata": {},
     "output_type": "execute_result"
    }
   ],
   "source": [
    "dados"
   ]
  },
  {
   "cell_type": "code",
   "execution_count": 62,
   "id": "0bca237a",
   "metadata": {
    "ExecuteTime": {
     "end_time": "2021-12-26T17:13:15.709390Z",
     "start_time": "2021-12-26T17:13:15.687563Z"
    }
   },
   "outputs": [],
   "source": [
    "# separar direito isso\n",
    "dados_num = dados[['store','day_of_week','sales','customers','competition_distance','competition_open_since_month','competition_open_since_year','promo2_since_week','promo2_since_year']]\n",
    "dados_cat = dados.drop(['store','day_of_week','sales','customers','competition_distance','competition_open_since_month','competition_open_since_year','promo2_since_week','promo2_since_year','date'],axis=1)"
   ]
  },
  {
   "cell_type": "markdown",
   "id": "336ae0fe",
   "metadata": {},
   "source": [
    "### 1.6.2 Numeric Variables Analysis"
   ]
  },
  {
   "cell_type": "code",
   "execution_count": 67,
   "id": "eda33e43",
   "metadata": {
    "ExecuteTime": {
     "end_time": "2021-12-26T17:15:28.845213Z",
     "start_time": "2021-12-26T17:15:28.775115Z"
    }
   },
   "outputs": [
    {
     "data": {
      "text/html": [
       "<div>\n",
       "<style scoped>\n",
       "    .dataframe tbody tr th:only-of-type {\n",
       "        vertical-align: middle;\n",
       "    }\n",
       "\n",
       "    .dataframe tbody tr th {\n",
       "        vertical-align: top;\n",
       "    }\n",
       "\n",
       "    .dataframe thead th {\n",
       "        text-align: right;\n",
       "    }\n",
       "</style>\n",
       "<table border=\"1\" class=\"dataframe\">\n",
       "  <thead>\n",
       "    <tr style=\"text-align: right;\">\n",
       "      <th></th>\n",
       "      <th>mean</th>\n",
       "      <th>std</th>\n",
       "      <th>min</th>\n",
       "      <th>25%</th>\n",
       "      <th>50%</th>\n",
       "      <th>75%</th>\n",
       "      <th>max</th>\n",
       "      <th>kurtosis</th>\n",
       "      <th>skew</th>\n",
       "      <th>range</th>\n",
       "    </tr>\n",
       "  </thead>\n",
       "  <tbody>\n",
       "    <tr>\n",
       "      <th>store</th>\n",
       "      <td>559.726094</td>\n",
       "      <td>322.250508</td>\n",
       "      <td>1.0</td>\n",
       "      <td>281.0</td>\n",
       "      <td>559.0</td>\n",
       "      <td>839.0</td>\n",
       "      <td>1115.0</td>\n",
       "      <td>-1.204181</td>\n",
       "      <td>-0.002491</td>\n",
       "      <td>1114.0</td>\n",
       "    </tr>\n",
       "    <tr>\n",
       "      <th>day_of_week</th>\n",
       "      <td>3.998496</td>\n",
       "      <td>2.001751</td>\n",
       "      <td>1.0</td>\n",
       "      <td>2.0</td>\n",
       "      <td>4.0</td>\n",
       "      <td>6.0</td>\n",
       "      <td>7.0</td>\n",
       "      <td>-1.254069</td>\n",
       "      <td>0.001339</td>\n",
       "      <td>6.0</td>\n",
       "    </tr>\n",
       "    <tr>\n",
       "      <th>sales</th>\n",
       "      <td>5778.703041</td>\n",
       "      <td>3852.887607</td>\n",
       "      <td>0.0</td>\n",
       "      <td>3731.0</td>\n",
       "      <td>5745.0</td>\n",
       "      <td>7861.0</td>\n",
       "      <td>33913.0</td>\n",
       "      <td>1.858952</td>\n",
       "      <td>0.655340</td>\n",
       "      <td>33913.0</td>\n",
       "    </tr>\n",
       "    <tr>\n",
       "      <th>customers</th>\n",
       "      <td>634.492445</td>\n",
       "      <td>466.300820</td>\n",
       "      <td>0.0</td>\n",
       "      <td>405.0</td>\n",
       "      <td>610.0</td>\n",
       "      <td>838.0</td>\n",
       "      <td>5106.0</td>\n",
       "      <td>7.278215</td>\n",
       "      <td>1.631200</td>\n",
       "      <td>5106.0</td>\n",
       "    </tr>\n",
       "    <tr>\n",
       "      <th>competition_distance</th>\n",
       "      <td>7914.821649</td>\n",
       "      <td>50515.263406</td>\n",
       "      <td>20.0</td>\n",
       "      <td>710.0</td>\n",
       "      <td>2330.0</td>\n",
       "      <td>6890.0</td>\n",
       "      <td>999999.0</td>\n",
       "      <td>372.892805</td>\n",
       "      <td>19.145517</td>\n",
       "      <td>999979.0</td>\n",
       "    </tr>\n",
       "    <tr>\n",
       "      <th>competition_open_since_month</th>\n",
       "      <td>7.462717</td>\n",
       "      <td>2.696725</td>\n",
       "      <td>0.0</td>\n",
       "      <td>6.0</td>\n",
       "      <td>8.0</td>\n",
       "      <td>9.0</td>\n",
       "      <td>12.0</td>\n",
       "      <td>-0.348431</td>\n",
       "      <td>-0.497024</td>\n",
       "      <td>12.0</td>\n",
       "    </tr>\n",
       "    <tr>\n",
       "      <th>competition_open_since_year</th>\n",
       "      <td>2003.716381</td>\n",
       "      <td>100.964931</td>\n",
       "      <td>0.0</td>\n",
       "      <td>2008.0</td>\n",
       "      <td>2009.0</td>\n",
       "      <td>2011.0</td>\n",
       "      <td>2015.0</td>\n",
       "      <td>388.936828</td>\n",
       "      <td>-19.749031</td>\n",
       "      <td>2015.0</td>\n",
       "    </tr>\n",
       "    <tr>\n",
       "      <th>promo2_since_week</th>\n",
       "      <td>11.635483</td>\n",
       "      <td>15.333271</td>\n",
       "      <td>0.0</td>\n",
       "      <td>0.0</td>\n",
       "      <td>0.0</td>\n",
       "      <td>22.0</td>\n",
       "      <td>50.0</td>\n",
       "      <td>-0.496872</td>\n",
       "      <td>1.005324</td>\n",
       "      <td>50.0</td>\n",
       "    </tr>\n",
       "    <tr>\n",
       "      <th>promo2_since_year</th>\n",
       "      <td>1005.093147</td>\n",
       "      <td>1005.879672</td>\n",
       "      <td>0.0</td>\n",
       "      <td>0.0</td>\n",
       "      <td>0.0</td>\n",
       "      <td>2012.0</td>\n",
       "      <td>2015.0</td>\n",
       "      <td>-2.000031</td>\n",
       "      <td>0.001557</td>\n",
       "      <td>2015.0</td>\n",
       "    </tr>\n",
       "  </tbody>\n",
       "</table>\n",
       "</div>"
      ],
      "text/plain": [
       "                                     mean           std   min     25%     50%  \\\n",
       "store                          559.726094    322.250508   1.0   281.0   559.0   \n",
       "day_of_week                      3.998496      2.001751   1.0     2.0     4.0   \n",
       "sales                         5778.703041   3852.887607   0.0  3731.0  5745.0   \n",
       "customers                      634.492445    466.300820   0.0   405.0   610.0   \n",
       "competition_distance          7914.821649  50515.263406  20.0   710.0  2330.0   \n",
       "competition_open_since_month     7.462717      2.696725   0.0     6.0     8.0   \n",
       "competition_open_since_year   2003.716381    100.964931   0.0  2008.0  2009.0   \n",
       "promo2_since_week               11.635483     15.333271   0.0     0.0     0.0   \n",
       "promo2_since_year             1005.093147   1005.879672   0.0     0.0     0.0   \n",
       "\n",
       "                                 75%       max    kurtosis       skew  \\\n",
       "store                          839.0    1115.0   -1.204181  -0.002491   \n",
       "day_of_week                      6.0       7.0   -1.254069   0.001339   \n",
       "sales                         7861.0   33913.0    1.858952   0.655340   \n",
       "customers                      838.0    5106.0    7.278215   1.631200   \n",
       "competition_distance          6890.0  999999.0  372.892805  19.145517   \n",
       "competition_open_since_month     9.0      12.0   -0.348431  -0.497024   \n",
       "competition_open_since_year   2011.0    2015.0  388.936828 -19.749031   \n",
       "promo2_since_week               22.0      50.0   -0.496872   1.005324   \n",
       "promo2_since_year             2012.0    2015.0   -2.000031   0.001557   \n",
       "\n",
       "                                 range  \n",
       "store                           1114.0  \n",
       "day_of_week                        6.0  \n",
       "sales                          33913.0  \n",
       "customers                       5106.0  \n",
       "competition_distance          999979.0  \n",
       "competition_open_since_month      12.0  \n",
       "competition_open_since_year     2015.0  \n",
       "promo2_since_week                 50.0  \n",
       "promo2_since_year               2015.0  "
      ]
     },
     "execution_count": 67,
     "metadata": {},
     "output_type": "execute_result"
    }
   ],
   "source": [
    "# Distribution in numbers\n",
    "\n",
    "num_kurt = dados_num.apply(lambda x: x.kurtosis()) # Add kurtosis\n",
    "num_skew = dados_num.apply(lambda x: x.skew()) # Add skew\n",
    "num_range = dados_num.apply(lambda x: x.max() - x.min()) # Add range\n",
    "pd.concat([dados_num.describe().T,num_kurt,num_skew,num_range],axis=1).rename(columns={0:'kurtosis',1:'skew',2:'range'}).drop('count',1)"
   ]
  },
  {
   "cell_type": "markdown",
   "id": "a570522f",
   "metadata": {},
   "source": [
    "Nothing strange.\n",
    "\n",
    "The only strange values that we see were the ones that we chose arbitraly to substitute."
   ]
  },
  {
   "cell_type": "markdown",
   "id": "f1a30180",
   "metadata": {},
   "source": [
    "### 1.6.3 Categorical Variables Analysis"
   ]
  },
  {
   "cell_type": "code",
   "execution_count": 78,
   "id": "b60431f7",
   "metadata": {
    "ExecuteTime": {
     "end_time": "2021-12-26T17:23:34.313910Z",
     "start_time": "2021-12-26T17:23:34.272466Z"
    }
   },
   "outputs": [
    {
     "name": "stdout",
     "output_type": "stream",
     "text": [
      "OPEN:\n",
      "1    83.09\n",
      "0    16.91\n",
      "Name: open, dtype: float64\n",
      "\n",
      "PROMO:\n",
      "0    61.89\n",
      "1    38.11\n",
      "Name: promo, dtype: float64\n",
      "\n",
      "STATE_HOLIDAY:\n",
      "None              97.07\n",
      "public holiday     1.91\n",
      "Easter holiday     0.64\n",
      "Christmas          0.38\n",
      "Name: state_holiday, dtype: float64\n",
      "\n",
      "SCHOOL_HOLIDAY:\n",
      "0    82.19\n",
      "1    17.81\n",
      "Name: school_holiday, dtype: float64\n",
      "\n",
      "STORE_TYPE:\n",
      "a    54.20\n",
      "d    30.74\n",
      "c    13.44\n",
      "b     1.62\n",
      "Name: store_type, dtype: float64\n",
      "\n",
      "ASSORTMENT:\n",
      "basic       52.97\n",
      "extended    46.17\n",
      "extra        0.86\n",
      "Name: assortment, dtype: float64\n",
      "\n",
      "PROMO2:\n",
      "0    50.04\n",
      "1    49.96\n",
      "Name: promo2, dtype: float64\n",
      "\n",
      "PROMO_INTERVAL:\n",
      "No promo2           50.04\n",
      "Jan,Apr,Jul,Oct     28.85\n",
      "Feb,May,Aug,Nov     11.67\n",
      "Mar,Jun,Sept,Dec     9.45\n",
      "Name: promo_interval, dtype: float64\n",
      "\n"
     ]
    }
   ],
   "source": [
    "for column in dados_cat.columns.values:\n",
    "    print(column.upper()+':')\n",
    "    print(round(dados_cat[column].value_counts(normalize=True)*100,2))\n",
    "    print('')"
   ]
  },
  {
   "cell_type": "markdown",
   "id": "2ce0f81f",
   "metadata": {},
   "source": [
    "Everything looks nice."
   ]
  },
  {
   "cell_type": "markdown",
   "id": "3ad4044c",
   "metadata": {
    "ExecuteTime": {
     "end_time": "2021-12-26T17:26:38.537896Z",
     "start_time": "2021-12-26T17:26:38.509893Z"
    }
   },
   "source": [
    "## 1.7 Columns and Values Filtering"
   ]
  },
  {
   "cell_type": "code",
   "execution_count": 83,
   "id": "b7d4d3fa",
   "metadata": {
    "ExecuteTime": {
     "end_time": "2021-12-26T17:39:47.760016Z",
     "start_time": "2021-12-26T17:39:47.726958Z"
    }
   },
   "outputs": [],
   "source": [
    "# Let's filter what is useful and useless for our prediction based on the business demand\n",
    "dados.drop('customers',axis=1,inplace=True) # We can't predict using this, because we don't have this answer to input\n",
    "dados = dados[dados['open']==1] # We want to predict sales when the store is open. When it's closed, sales == 0\n",
    "dados.drop('open',axis=1,inplace=True) # This column would be constant == 1, useless for our prediction"
   ]
  },
  {
   "cell_type": "markdown",
   "id": "b45befe5",
   "metadata": {},
   "source": [
    "## 1.8 Finishing Data Cleaning"
   ]
  },
  {
   "cell_type": "code",
   "execution_count": 86,
   "id": "0d60a7e6",
   "metadata": {
    "ExecuteTime": {
     "end_time": "2021-12-27T02:07:12.093357Z",
     "start_time": "2021-12-27T02:07:11.658307Z"
    }
   },
   "outputs": [],
   "source": [
    "dados.to_csv('/Users/nando/Comunidade DS/ds_em_producao/data/data_cleaned.csv',index=False)"
   ]
  },
  {
   "cell_type": "markdown",
   "id": "6a213c01",
   "metadata": {},
   "source": [
    "# 2.0 Exploratory Data Analysis"
   ]
  },
  {
   "cell_type": "markdown",
   "id": "7deec34f",
   "metadata": {},
   "source": [
    "## 2.1 Import Data"
   ]
  },
  {
   "cell_type": "code",
   "execution_count": 3,
   "id": "c560f13f",
   "metadata": {
    "ExecuteTime": {
     "end_time": "2021-12-27T23:20:21.923696Z",
     "start_time": "2021-12-27T23:20:21.819976Z"
    }
   },
   "outputs": [],
   "source": [
    "dados = pd.read_csv('/Users/nando/Comunidade DS/ds_em_producao/data/data_cleaned.csv')"
   ]
  },
  {
   "cell_type": "markdown",
   "id": "7c17ea70",
   "metadata": {},
   "source": [
    "## 2.2 Hyphotesis"
   ]
  },
  {
   "cell_type": "markdown",
   "id": "d21d46ea",
   "metadata": {},
   "source": [
    "**DATE**\n",
    "\n",
    "**1 -** As lojas vendem muito mais no começo do mês do que no final\n",
    "\n",
    "**2 -** Houve um crescimento de vendas ao longo dos anos\n",
    "\n",
    "**3 -** Lojas vendem mais no fim de semana\n",
    "\n",
    "**4 -** Lojas vendem mais em feriados\n",
    "\n",
    "**5 -** Lojas vendem mais no segundo semestre\n",
    "\n",
    "**6 -** Lojas vendem mais no 2º e 3º trimestre.\n",
    "\n",
    "**7 -** Lojas vendem mais no verão\n",
    "\n",
    "**COMPETITION**\n",
    "\n",
    "**8 -** Se a loja tem competidor ela vende menos\n",
    "\n",
    "**9 -** Quanto mais velha é a competição, menos a loja vende\n",
    "\n",
    "**10 -** Quanto mais longe é o competidor, mais vende a loja\n",
    "\n",
    "**STORE**\n",
    "\n",
    "**11 -** Existem tipos de loja que vendem substancialmente mais\n",
    "\n",
    "**12 -** Quanto mais diversa é a loja, mais ela vende\n",
    "\n",
    "**PROMOTIONS**\n",
    "\n",
    "**13 -** Quando tem promoção as lojas vendem mais\n",
    "\n",
    "**14 -** Quanto mais vezes se tem promoção em um período, menos eficaz ela fica\n",
    "\n",
    "**15 -** Quanto mais vezes se tem promoção em um período, mais a loja vende\n",
    "\n",
    "**16 -** Se a loja acatar a promo2 ela vende mais\n",
    "\n",
    "**17 -** Existem períodos onde a promo2 é mais eficaz em relação às vendas\n",
    "\n",
    "**18 -** Quanto mais antiga a promo2, menos a loja vende"
   ]
  },
  {
   "cell_type": "markdown",
   "id": "e23ed3e2",
   "metadata": {
    "ExecuteTime": {
     "end_time": "2021-12-27T23:27:02.131185Z",
     "start_time": "2021-12-27T23:27:02.128588Z"
    }
   },
   "source": [
    "## 2.3 Feature Engineering"
   ]
  },
  {
   "cell_type": "code",
   "execution_count": 98,
   "id": "2ec6997f",
   "metadata": {
    "ExecuteTime": {
     "end_time": "2021-12-28T01:05:58.593500Z",
     "start_time": "2021-12-28T01:05:58.504929Z"
    }
   },
   "outputs": [],
   "source": [
    "# Day, Month, Week and Year Variables\n",
    "dados['day'] = pd.to_datetime(dados['date']).dt.day\n",
    "dados['month'] = pd.to_datetime(dados['date']).dt.month\n",
    "dados['year'] = pd.to_datetime(dados['date']).dt.year\n",
    "dados['week'] = pd.to_datetime(dados['date']).dt.week"
   ]
  },
  {
   "cell_type": "code",
   "execution_count": 40,
   "id": "c7cf1094",
   "metadata": {
    "ExecuteTime": {
     "end_time": "2021-12-28T00:26:24.169694Z",
     "start_time": "2021-12-28T00:26:24.094466Z"
    }
   },
   "outputs": [],
   "source": [
    "# Semester and Quarter\n",
    "dados['quarter'] = pd.to_datetime(dados['date']).dt.quarter\n",
    "dados['semester'] = pd.to_datetime(dados['date']).dt.quarter.apply(lambda x: 1 if x == 1 or x == 2 else 2)"
   ]
  },
  {
   "cell_type": "code",
   "execution_count": 52,
   "id": "7cde7ec6",
   "metadata": {
    "ExecuteTime": {
     "end_time": "2021-12-28T00:34:55.176453Z",
     "start_time": "2021-12-28T00:34:45.581398Z"
    }
   },
   "outputs": [],
   "source": [
    "# Season\n",
    "def season_of_date(date):\n",
    "    year = str(date.year)\n",
    "    seasons = {'spring': pd.date_range(start='21/03/'+year, end='20/06/'+year),\n",
    "               'summer': pd.date_range(start='21/06/'+year, end='22/09/'+year),\n",
    "               'autumn': pd.date_range(start='23/09/'+year, end='20/12/'+year)}\n",
    "    if date in seasons['spring']:\n",
    "        return 'spring'\n",
    "    if date in seasons['summer']:\n",
    "        return 'summer'\n",
    "    if date in seasons['autumn']:\n",
    "        return 'autumn'\n",
    "    else:\n",
    "        return 'winter'\n",
    "\n",
    "dados['season'] = pd.to_datetime(dados['date']).map(season_of_date)"
   ]
  },
  {
   "cell_type": "code",
   "execution_count": 85,
   "id": "9a01e6a6",
   "metadata": {
    "ExecuteTime": {
     "end_time": "2021-12-28T00:53:07.074767Z",
     "start_time": "2021-12-28T00:52:48.524575Z"
    }
   },
   "outputs": [],
   "source": [
    "# Competition Lifetime\n",
    "dados['competition_lifetime'] = np.nan\n",
    "for index in range(dados.shape[0]):\n",
    "    try:\n",
    "        data = datetime.datetime(dados.loc[index,'competition_open_since_year'],dados.loc[index,'competition_open_since_month'],1)\n",
    "        dados.loc[index, 'competition_lifetime'] = (pd.to_datetime(dados.loc[index,'date']) - data).days\n",
    "        \n",
    "    except:\n",
    "        dados.loc[index,'competition_lifetime'] = -999 # Never opened\n",
    "dados['competition_lifetime'] = dados['competition_lifetime'].astype('int')"
   ]
  },
  {
   "cell_type": "code",
   "execution_count": 73,
   "id": "1868da7d",
   "metadata": {
    "ExecuteTime": {
     "end_time": "2021-12-28T00:49:11.644875Z",
     "start_time": "2021-12-28T00:49:11.606824Z"
    }
   },
   "outputs": [],
   "source": [
    "# Competition\n",
    "dados['competition'] = dados['competition_open_since_month'].apply(lambda x: 0 if x == 0 else 1)"
   ]
  },
  {
   "cell_type": "code",
   "execution_count": 90,
   "id": "b06eec58",
   "metadata": {
    "ExecuteTime": {
     "end_time": "2021-12-28T01:03:13.299740Z",
     "start_time": "2021-12-28T01:02:56.663534Z"
    }
   },
   "outputs": [],
   "source": [
    "# Promo2 Lifetime\n",
    "dados['promo2_lifetime'] = np.nan\n",
    "for index in range(dados.shape[0]):\n",
    "    if dados.loc[index,'promo_interval'] != 'No promo2':\n",
    "        year = dados.loc[index,'promo2_since_year']\n",
    "        week = dados.loc[index,'promo2_since_week']\n",
    "        date = \"{}-W{}\".format(year,week)\n",
    "        date_datetime = datetime.datetime.strptime(date + '-1', \"%Y-W%W-%w\")\n",
    "        dados.loc[index,'promo2_lifetime'] = (pd.to_datetime(dados.loc[index,'date']) - date_datetime).days\n",
    "    else:\n",
    "        dados.loc[index,'promo2_lifetime'] = -999\n",
    "dados['promo2_lifetime'] = dados['promo2_lifetime'].astype(int)"
   ]
  },
  {
   "cell_type": "code",
   "execution_count": 134,
   "id": "f30916fa",
   "metadata": {
    "ExecuteTime": {
     "end_time": "2021-12-28T01:40:48.933969Z",
     "start_time": "2021-12-28T01:39:34.669878Z"
    }
   },
   "outputs": [],
   "source": [
    "# Promo Count per Week\n",
    "dados['promo_count_per_week'] = np.nan\n",
    "for index in range(dados.shape[0]):\n",
    "    week = dados.loc[index,'week']\n",
    "    store = dados.loc[index,'store']\n",
    "    try:\n",
    "        dados.loc[index,'promo_count_per_week'] = dados[dados['store']==store].groupby('week').sum()['promo'][week]\n",
    "    except:\n",
    "        dados.loc[index,'promo_count_per_week'] = 0\n",
    "dados['promo_count_per_week'] = dados['promo_count_per_week'].astype('int')"
   ]
  },
  {
   "cell_type": "markdown",
   "id": "09df1f99",
   "metadata": {},
   "source": [
    "## 2.3 Finishing Feature Engineering"
   ]
  },
  {
   "cell_type": "code",
   "execution_count": 135,
   "id": "43c51afb",
   "metadata": {
    "ExecuteTime": {
     "end_time": "2021-12-28T01:45:09.641142Z",
     "start_time": "2021-12-28T01:45:09.303729Z"
    }
   },
   "outputs": [],
   "source": [
    "dados.to_csv('/Users/nando/Comunidade DS/ds_em_producao/data/data_feature_engineering')"
   ]
  },
  {
   "cell_type": "code",
   "execution_count": null,
   "id": "38501321",
   "metadata": {},
   "outputs": [],
   "source": []
  }
 ],
 "metadata": {
  "kernelspec": {
   "display_name": "Python 3 (ipykernel)",
   "language": "python",
   "name": "python3"
  },
  "language_info": {
   "codemirror_mode": {
    "name": "ipython",
    "version": 3
   },
   "file_extension": ".py",
   "mimetype": "text/x-python",
   "name": "python",
   "nbconvert_exporter": "python",
   "pygments_lexer": "ipython3",
   "version": "3.9.2"
  }
 },
 "nbformat": 4,
 "nbformat_minor": 5
}
