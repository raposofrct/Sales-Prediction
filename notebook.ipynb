{
 "cells": [
  {
   "cell_type": "markdown",
   "id": "c5fc8220",
   "metadata": {},
   "source": [
    "# 0.0 Imports"
   ]
  },
  {
   "cell_type": "markdown",
   "id": "14de2721",
   "metadata": {},
   "source": [
    "## 0.1 Libraries"
   ]
  },
  {
   "cell_type": "code",
   "execution_count": 1,
   "id": "a11dd82d",
   "metadata": {
    "ExecuteTime": {
     "end_time": "2021-12-31T18:34:31.440808Z",
     "start_time": "2021-12-31T18:34:30.444785Z"
    }
   },
   "outputs": [],
   "source": [
    "import pandas as pd\n",
    "import numpy as np\n",
    "import inflection\n",
    "import seaborn as sns\n",
    "import matplotlib.pyplot as plt\n",
    "import datetime\n",
    "import warnings\n",
    "warnings.filterwarnings('ignore')\n",
    "pd.set_option('display.max_columns', None)"
   ]
  },
  {
   "cell_type": "markdown",
   "id": "e3b22be8",
   "metadata": {
    "ExecuteTime": {
     "end_time": "2021-12-16T18:40:49.592216Z",
     "start_time": "2021-12-16T18:40:49.588129Z"
    }
   },
   "source": [
    "## 0.2 Data"
   ]
  },
  {
   "cell_type": "code",
   "execution_count": 44,
   "id": "0e1e5311",
   "metadata": {
    "ExecuteTime": {
     "end_time": "2021-12-26T17:02:24.507345Z",
     "start_time": "2021-12-26T17:02:23.868311Z"
    }
   },
   "outputs": [
    {
     "data": {
      "text/html": [
       "<div>\n",
       "<style scoped>\n",
       "    .dataframe tbody tr th:only-of-type {\n",
       "        vertical-align: middle;\n",
       "    }\n",
       "\n",
       "    .dataframe tbody tr th {\n",
       "        vertical-align: top;\n",
       "    }\n",
       "\n",
       "    .dataframe thead th {\n",
       "        text-align: right;\n",
       "    }\n",
       "</style>\n",
       "<table border=\"1\" class=\"dataframe\">\n",
       "  <thead>\n",
       "    <tr style=\"text-align: right;\">\n",
       "      <th></th>\n",
       "      <th>Store</th>\n",
       "      <th>DayOfWeek</th>\n",
       "      <th>Date</th>\n",
       "      <th>Sales</th>\n",
       "      <th>Customers</th>\n",
       "      <th>Open</th>\n",
       "      <th>Promo</th>\n",
       "      <th>StateHoliday</th>\n",
       "      <th>SchoolHoliday</th>\n",
       "      <th>StoreType</th>\n",
       "      <th>Assortment</th>\n",
       "      <th>CompetitionDistance</th>\n",
       "      <th>CompetitionOpenSinceMonth</th>\n",
       "      <th>CompetitionOpenSinceYear</th>\n",
       "      <th>Promo2</th>\n",
       "      <th>Promo2SinceWeek</th>\n",
       "      <th>Promo2SinceYear</th>\n",
       "      <th>PromoInterval</th>\n",
       "    </tr>\n",
       "  </thead>\n",
       "  <tbody>\n",
       "    <tr>\n",
       "      <th>0</th>\n",
       "      <td>965</td>\n",
       "      <td>7</td>\n",
       "      <td>2014-11-02</td>\n",
       "      <td>0</td>\n",
       "      <td>0</td>\n",
       "      <td>0</td>\n",
       "      <td>0</td>\n",
       "      <td>0</td>\n",
       "      <td>0</td>\n",
       "      <td>a</td>\n",
       "      <td>c</td>\n",
       "      <td>110.0</td>\n",
       "      <td>NaN</td>\n",
       "      <td>NaN</td>\n",
       "      <td>0</td>\n",
       "      <td>NaN</td>\n",
       "      <td>NaN</td>\n",
       "      <td>NaN</td>\n",
       "    </tr>\n",
       "    <tr>\n",
       "      <th>1</th>\n",
       "      <td>268</td>\n",
       "      <td>1</td>\n",
       "      <td>2013-12-30</td>\n",
       "      <td>6995</td>\n",
       "      <td>814</td>\n",
       "      <td>1</td>\n",
       "      <td>0</td>\n",
       "      <td>0</td>\n",
       "      <td>1</td>\n",
       "      <td>a</td>\n",
       "      <td>a</td>\n",
       "      <td>4520.0</td>\n",
       "      <td>2.0</td>\n",
       "      <td>2014.0</td>\n",
       "      <td>0</td>\n",
       "      <td>NaN</td>\n",
       "      <td>NaN</td>\n",
       "      <td>NaN</td>\n",
       "    </tr>\n",
       "    <tr>\n",
       "      <th>2</th>\n",
       "      <td>1112</td>\n",
       "      <td>6</td>\n",
       "      <td>2015-03-28</td>\n",
       "      <td>8671</td>\n",
       "      <td>774</td>\n",
       "      <td>1</td>\n",
       "      <td>0</td>\n",
       "      <td>0</td>\n",
       "      <td>0</td>\n",
       "      <td>c</td>\n",
       "      <td>c</td>\n",
       "      <td>1880.0</td>\n",
       "      <td>4.0</td>\n",
       "      <td>2006.0</td>\n",
       "      <td>0</td>\n",
       "      <td>NaN</td>\n",
       "      <td>NaN</td>\n",
       "      <td>NaN</td>\n",
       "    </tr>\n",
       "    <tr>\n",
       "      <th>3</th>\n",
       "      <td>128</td>\n",
       "      <td>1</td>\n",
       "      <td>2014-07-21</td>\n",
       "      <td>6675</td>\n",
       "      <td>534</td>\n",
       "      <td>1</td>\n",
       "      <td>0</td>\n",
       "      <td>0</td>\n",
       "      <td>0</td>\n",
       "      <td>d</td>\n",
       "      <td>c</td>\n",
       "      <td>2000.0</td>\n",
       "      <td>NaN</td>\n",
       "      <td>NaN</td>\n",
       "      <td>1</td>\n",
       "      <td>1.0</td>\n",
       "      <td>2013.0</td>\n",
       "      <td>Jan,Apr,Jul,Oct</td>\n",
       "    </tr>\n",
       "    <tr>\n",
       "      <th>4</th>\n",
       "      <td>687</td>\n",
       "      <td>4</td>\n",
       "      <td>2015-06-11</td>\n",
       "      <td>6961</td>\n",
       "      <td>675</td>\n",
       "      <td>1</td>\n",
       "      <td>0</td>\n",
       "      <td>0</td>\n",
       "      <td>0</td>\n",
       "      <td>d</td>\n",
       "      <td>c</td>\n",
       "      <td>2770.0</td>\n",
       "      <td>NaN</td>\n",
       "      <td>NaN</td>\n",
       "      <td>0</td>\n",
       "      <td>NaN</td>\n",
       "      <td>NaN</td>\n",
       "      <td>NaN</td>\n",
       "    </tr>\n",
       "  </tbody>\n",
       "</table>\n",
       "</div>"
      ],
      "text/plain": [
       "   Store  DayOfWeek        Date  Sales  Customers  Open  Promo StateHoliday  \\\n",
       "0    965          7  2014-11-02      0          0     0      0            0   \n",
       "1    268          1  2013-12-30   6995        814     1      0            0   \n",
       "2   1112          6  2015-03-28   8671        774     1      0            0   \n",
       "3    128          1  2014-07-21   6675        534     1      0            0   \n",
       "4    687          4  2015-06-11   6961        675     1      0            0   \n",
       "\n",
       "   SchoolHoliday StoreType Assortment  CompetitionDistance  \\\n",
       "0              0         a          c                110.0   \n",
       "1              1         a          a               4520.0   \n",
       "2              0         c          c               1880.0   \n",
       "3              0         d          c               2000.0   \n",
       "4              0         d          c               2770.0   \n",
       "\n",
       "   CompetitionOpenSinceMonth  CompetitionOpenSinceYear  Promo2  \\\n",
       "0                        NaN                       NaN       0   \n",
       "1                        2.0                    2014.0       0   \n",
       "2                        4.0                    2006.0       0   \n",
       "3                        NaN                       NaN       1   \n",
       "4                        NaN                       NaN       0   \n",
       "\n",
       "   Promo2SinceWeek  Promo2SinceYear    PromoInterval  \n",
       "0              NaN              NaN              NaN  \n",
       "1              NaN              NaN              NaN  \n",
       "2              NaN              NaN              NaN  \n",
       "3              1.0           2013.0  Jan,Apr,Jul,Oct  \n",
       "4              NaN              NaN              NaN  "
      ]
     },
     "execution_count": 44,
     "metadata": {},
     "output_type": "execute_result"
    }
   ],
   "source": [
    "dados_sales = pd.read_csv('/Users/nando/Comunidade DS/ds_em_producao/data/train.csv',low_memory=False)\n",
    "dados_stores = pd.read_csv('/Users/nando/Comunidade DS/ds_em_producao/data/store.csv')\n",
    "dados = pd.merge(dados_sales,dados_stores,how='left',on='Store')\n",
    "dados = dados.sample(int(round(dados.shape[0]/10,0)),random_state=101) # Reduce the size of the dataset in 10 (Too big)\n",
    "dados.reset_index(drop=True,inplace=True)\n",
    "dados.head()"
   ]
  },
  {
   "cell_type": "markdown",
   "id": "25794f77",
   "metadata": {},
   "source": [
    "## 0.3 Helper Functions"
   ]
  },
  {
   "cell_type": "code",
   "execution_count": null,
   "id": "85ab3a5a",
   "metadata": {},
   "outputs": [],
   "source": []
  },
  {
   "cell_type": "markdown",
   "id": "a39fa3ef",
   "metadata": {},
   "source": [
    "# 1.0 Data Description and Cleaning"
   ]
  },
  {
   "cell_type": "markdown",
   "id": "f6876a06",
   "metadata": {},
   "source": [
    "## 1.1 Rename Columns and Values"
   ]
  },
  {
   "cell_type": "code",
   "execution_count": 45,
   "id": "6cc3fe60",
   "metadata": {
    "ExecuteTime": {
     "end_time": "2021-12-26T17:02:27.352502Z",
     "start_time": "2021-12-26T17:02:27.342085Z"
    }
   },
   "outputs": [],
   "source": [
    "# CamelCase to snake_case\n",
    "for c in range(len(dados.columns)):\n",
    "    dados.rename(columns={dados.columns.values[c]:inflection.underscore(dados.columns.values[c])},inplace=True)"
   ]
  },
  {
   "cell_type": "code",
   "execution_count": 46,
   "id": "25059ac9",
   "metadata": {
    "ExecuteTime": {
     "end_time": "2021-12-26T17:02:27.956468Z",
     "start_time": "2021-12-26T17:02:27.926461Z"
    }
   },
   "outputs": [],
   "source": [
    "dados['state_holiday'] = dados['state_holiday'].map({'a':'public holiday', 'b':'Easter holiday', 'c':'Christmas', '0':'None'})\n",
    "dados['assortment'] = dados['assortment'].map({'a':'basic','b':'extra','c':'extended'})"
   ]
  },
  {
   "cell_type": "markdown",
   "id": "4f382ce6",
   "metadata": {
    "ExecuteTime": {
     "end_time": "2021-12-16T19:18:02.398816Z",
     "start_time": "2021-12-16T19:18:02.370580Z"
    }
   },
   "source": [
    "## 1.2 Data Dimension"
   ]
  },
  {
   "cell_type": "code",
   "execution_count": 47,
   "id": "cfb3f3c1",
   "metadata": {
    "ExecuteTime": {
     "end_time": "2021-12-26T17:02:28.728430Z",
     "start_time": "2021-12-26T17:02:28.724825Z"
    }
   },
   "outputs": [
    {
     "name": "stdout",
     "output_type": "stream",
     "text": [
      "Rows: 101721\n",
      "Columns: 18\n"
     ]
    }
   ],
   "source": [
    "print(f'Rows: {dados.shape[0]}\\nColumns: {dados.shape[1]}')"
   ]
  },
  {
   "cell_type": "markdown",
   "id": "7fa5b314",
   "metadata": {},
   "source": [
    "## 1.3 Data Types"
   ]
  },
  {
   "cell_type": "markdown",
   "id": "bf41c1c4",
   "metadata": {},
   "source": [
    "### 1.3.1 Check"
   ]
  },
  {
   "cell_type": "code",
   "execution_count": 48,
   "id": "5b99bc16",
   "metadata": {
    "ExecuteTime": {
     "end_time": "2021-12-26T17:02:29.708597Z",
     "start_time": "2021-12-26T17:02:29.702267Z"
    }
   },
   "outputs": [
    {
     "data": {
      "text/plain": [
       "store                             int64\n",
       "day_of_week                       int64\n",
       "date                             object\n",
       "sales                             int64\n",
       "customers                         int64\n",
       "open                              int64\n",
       "promo                             int64\n",
       "state_holiday                    object\n",
       "school_holiday                    int64\n",
       "store_type                       object\n",
       "assortment                       object\n",
       "competition_distance            float64\n",
       "competition_open_since_month    float64\n",
       "competition_open_since_year     float64\n",
       "promo2                            int64\n",
       "promo2_since_week               float64\n",
       "promo2_since_year               float64\n",
       "promo_interval                   object\n",
       "dtype: object"
      ]
     },
     "execution_count": 48,
     "metadata": {},
     "output_type": "execute_result"
    }
   ],
   "source": [
    "dados.dtypes"
   ]
  },
  {
   "cell_type": "markdown",
   "id": "0c4574e3",
   "metadata": {},
   "source": [
    "### 1.3.2 Change"
   ]
  },
  {
   "cell_type": "code",
   "execution_count": 49,
   "id": "60123fc5",
   "metadata": {
    "ExecuteTime": {
     "end_time": "2021-12-26T17:02:30.190612Z",
     "start_time": "2021-12-26T17:02:30.159737Z"
    }
   },
   "outputs": [],
   "source": [
    "# date to datetime64\n",
    "dados['date'] = pd.to_datetime(dados['date'])"
   ]
  },
  {
   "cell_type": "markdown",
   "id": "8b8a8d57",
   "metadata": {},
   "source": [
    "## 1.4 NaN"
   ]
  },
  {
   "cell_type": "markdown",
   "id": "8d1ff290",
   "metadata": {},
   "source": [
    "### 1.4.1 Check"
   ]
  },
  {
   "cell_type": "code",
   "execution_count": 50,
   "id": "140267ab",
   "metadata": {
    "ExecuteTime": {
     "end_time": "2021-12-26T17:02:31.109721Z",
     "start_time": "2021-12-26T17:02:31.073513Z"
    }
   },
   "outputs": [
    {
     "data": {
      "text/plain": [
       "store                               0\n",
       "day_of_week                         0\n",
       "date                                0\n",
       "sales                               0\n",
       "customers                           0\n",
       "open                                0\n",
       "promo                               0\n",
       "state_holiday                       0\n",
       "school_holiday                      0\n",
       "store_type                          0\n",
       "assortment                          0\n",
       "competition_distance              257\n",
       "competition_open_since_month    32411\n",
       "competition_open_since_year     32411\n",
       "promo2                              0\n",
       "promo2_since_week               50900\n",
       "promo2_since_year               50900\n",
       "promo_interval                  50900\n",
       "dtype: int64"
      ]
     },
     "execution_count": 50,
     "metadata": {},
     "output_type": "execute_result"
    }
   ],
   "source": [
    "dados.isna().sum()"
   ]
  },
  {
   "cell_type": "markdown",
   "id": "75fda637",
   "metadata": {},
   "source": [
    "### 1.4.2 Dealing With"
   ]
  },
  {
   "cell_type": "code",
   "execution_count": 51,
   "id": "ca5e164f",
   "metadata": {
    "ExecuteTime": {
     "end_time": "2021-12-26T17:02:31.913554Z",
     "start_time": "2021-12-26T17:02:31.902637Z"
    }
   },
   "outputs": [
    {
     "data": {
      "text/plain": [
       "store                             0\n",
       "day_of_week                       0\n",
       "date                              0\n",
       "sales                             0\n",
       "customers                         0\n",
       "open                              0\n",
       "promo                             0\n",
       "state_holiday                     0\n",
       "school_holiday                    0\n",
       "store_type                        0\n",
       "assortment                        0\n",
       "competition_distance            257\n",
       "competition_open_since_month    257\n",
       "competition_open_since_year     257\n",
       "promo2                            0\n",
       "promo2_since_week               179\n",
       "promo2_since_year               179\n",
       "promo_interval                  179\n",
       "dtype: int64"
      ]
     },
     "execution_count": 51,
     "metadata": {},
     "output_type": "execute_result"
    }
   ],
   "source": [
    "## competition_distance, competition_open_since_month, competition_open_since_year\n",
    "\n",
    "# I suppose that the competition_distance == nan refers that there's no competition!\n",
    "# Lets'se if it's true\n",
    "\n",
    "dados[dados['competition_distance'].isna()].isna().sum()"
   ]
  },
  {
   "cell_type": "markdown",
   "id": "336e81ad",
   "metadata": {},
   "source": [
    "Yeah, thats true. \n",
    "\n",
    "All of the empty distances have empty competition_open_since.. what confirm that the competition has never been started! "
   ]
  },
  {
   "cell_type": "code",
   "execution_count": 52,
   "id": "855e4b84",
   "metadata": {
    "ExecuteTime": {
     "end_time": "2021-12-26T17:02:33.548853Z",
     "start_time": "2021-12-26T17:02:33.415481Z"
    }
   },
   "outputs": [],
   "source": [
    "for index in dados[dados['competition_distance'].isna()].index:\n",
    "    dados.loc[index,'competition_distance'] = 999999 # High values suggests that the competitors are so far that there's no competition\n",
    "    dados.loc[index,'competition_open_since_month'] = 0 # It suggets that it has never been opened\n",
    "    dados.loc[index,'competition_open_since_year'] = 0 # It suggets that it has never been opened"
   ]
  },
  {
   "cell_type": "code",
   "execution_count": 53,
   "id": "b28aa6b6",
   "metadata": {
    "ExecuteTime": {
     "end_time": "2021-12-26T17:02:34.584081Z",
     "start_time": "2021-12-26T17:02:34.557705Z"
    }
   },
   "outputs": [
    {
     "data": {
      "text/plain": [
       "store                               0\n",
       "day_of_week                         0\n",
       "date                                0\n",
       "sales                               0\n",
       "customers                           0\n",
       "open                                0\n",
       "promo                               0\n",
       "state_holiday                       0\n",
       "school_holiday                      0\n",
       "store_type                          0\n",
       "assortment                          0\n",
       "competition_distance                0\n",
       "competition_open_since_month    32154\n",
       "competition_open_since_year     32154\n",
       "promo2                              0\n",
       "promo2_since_week               13746\n",
       "promo2_since_year               13746\n",
       "promo_interval                  13746\n",
       "dtype: int64"
      ]
     },
     "execution_count": 53,
     "metadata": {},
     "output_type": "execute_result"
    }
   ],
   "source": [
    "## competition_open_since_month, competition_open_since_year\n",
    "\n",
    "# I suppose that if there's no year, there's no month and vice-versa\n",
    "# Let's se if it's true\n",
    "\n",
    "dados[dados['competition_open_since_month'].isna()].isna().sum()"
   ]
  },
  {
   "cell_type": "markdown",
   "id": "a36c0f26",
   "metadata": {},
   "source": [
    "Yeah, 100% true!\n",
    "\n",
    "Then, i suppose that we do not have these dates by some reason"
   ]
  },
  {
   "cell_type": "code",
   "execution_count": 54,
   "id": "b662a8b1",
   "metadata": {
    "ExecuteTime": {
     "end_time": "2021-12-26T17:02:50.581944Z",
     "start_time": "2021-12-26T17:02:42.323438Z"
    }
   },
   "outputs": [],
   "source": [
    "month_median = round(dados['competition_open_since_month'].median(),0)\n",
    "year_median = round(dados['competition_open_since_year'].median(),0)\n",
    "for index in dados[dados['competition_open_since_month'].isna()].index:\n",
    "    dados.loc[index,'competition_open_since_month'] = month_median # Im gonna use median and round to have discret values\n",
    "    dados.loc[index,'competition_open_since_year'] = year_median # Im gonna use median and round to have discret values"
   ]
  },
  {
   "cell_type": "code",
   "execution_count": 55,
   "id": "cf3f6eb9",
   "metadata": {
    "ExecuteTime": {
     "end_time": "2021-12-26T17:02:50.593959Z",
     "start_time": "2021-12-26T17:02:50.582861Z"
    }
   },
   "outputs": [
    {
     "data": {
      "text/plain": [
       "store                               0\n",
       "day_of_week                         0\n",
       "date                                0\n",
       "sales                               0\n",
       "customers                           0\n",
       "open                                0\n",
       "promo                               0\n",
       "state_holiday                       0\n",
       "school_holiday                      0\n",
       "store_type                          0\n",
       "assortment                          0\n",
       "competition_distance                0\n",
       "competition_open_since_month        0\n",
       "competition_open_since_year         0\n",
       "promo2                              0\n",
       "promo2_since_week               50900\n",
       "promo2_since_year               50900\n",
       "promo_interval                  50900\n",
       "dtype: int64"
      ]
     },
     "execution_count": 55,
     "metadata": {},
     "output_type": "execute_result"
    }
   ],
   "source": [
    "## promo_interval, promo2_since_week, promo2_since_year\n",
    "\n",
    "# I wanna check if the NaN in these columns are just when promo2 is 0 (no promo2) what would be very logic.\n",
    "# Because if there's no promo2, theres no since date or interval\n",
    "\n",
    "(dados[dados['promo2']==0].isna()).sum()"
   ]
  },
  {
   "cell_type": "markdown",
   "id": "9f721c85",
   "metadata": {},
   "source": [
    "So true! \n",
    "\n",
    "Every NaN in the last 3 columns is because promo2 has never been started!"
   ]
  },
  {
   "cell_type": "code",
   "execution_count": 56,
   "id": "5c29e984",
   "metadata": {
    "ExecuteTime": {
     "end_time": "2021-12-26T17:03:57.742412Z",
     "start_time": "2021-12-26T17:02:50.594723Z"
    }
   },
   "outputs": [],
   "source": [
    "for index in dados[dados['promo2_since_week'].isna()].index:\n",
    "    dados.loc[index, 'promo2_since_week'] = 0 # It suggets that there's no promo2 week start\n",
    "    dados.loc[index, 'promo2_since_year'] = 0 # It suggets that there's no promo2 year start\n",
    "    dados.loc[index, 'promo_interval'] = 'No promo2' # For now, im going to substitute with this"
   ]
  },
  {
   "cell_type": "markdown",
   "id": "685c8076",
   "metadata": {},
   "source": [
    "### 1.4.3 Final Check"
   ]
  },
  {
   "cell_type": "code",
   "execution_count": 57,
   "id": "bd8dd0b8",
   "metadata": {
    "ExecuteTime": {
     "end_time": "2021-12-26T17:03:57.755959Z",
     "start_time": "2021-12-26T17:03:57.743535Z"
    }
   },
   "outputs": [
    {
     "data": {
      "text/plain": [
       "store                           0\n",
       "day_of_week                     0\n",
       "date                            0\n",
       "sales                           0\n",
       "customers                       0\n",
       "open                            0\n",
       "promo                           0\n",
       "state_holiday                   0\n",
       "school_holiday                  0\n",
       "store_type                      0\n",
       "assortment                      0\n",
       "competition_distance            0\n",
       "competition_open_since_month    0\n",
       "competition_open_since_year     0\n",
       "promo2                          0\n",
       "promo2_since_week               0\n",
       "promo2_since_year               0\n",
       "promo_interval                  0\n",
       "dtype: int64"
      ]
     },
     "execution_count": 57,
     "metadata": {},
     "output_type": "execute_result"
    }
   ],
   "source": [
    "dados.isna().sum()"
   ]
  },
  {
   "cell_type": "markdown",
   "id": "096e1267",
   "metadata": {},
   "source": [
    "## 1.5 Data Types (after NaN)"
   ]
  },
  {
   "cell_type": "markdown",
   "id": "a9ab923e",
   "metadata": {},
   "source": [
    "### 1.5.1 Check"
   ]
  },
  {
   "cell_type": "code",
   "execution_count": 58,
   "id": "55ca9922",
   "metadata": {
    "ExecuteTime": {
     "end_time": "2021-12-26T17:03:57.759071Z",
     "start_time": "2021-12-26T17:03:57.756624Z"
    }
   },
   "outputs": [
    {
     "data": {
      "text/plain": [
       "store                                    int64\n",
       "day_of_week                              int64\n",
       "date                            datetime64[ns]\n",
       "sales                                    int64\n",
       "customers                                int64\n",
       "open                                     int64\n",
       "promo                                    int64\n",
       "state_holiday                           object\n",
       "school_holiday                           int64\n",
       "store_type                              object\n",
       "assortment                              object\n",
       "competition_distance                   float64\n",
       "competition_open_since_month           float64\n",
       "competition_open_since_year            float64\n",
       "promo2                                   int64\n",
       "promo2_since_week                      float64\n",
       "promo2_since_year                      float64\n",
       "promo_interval                          object\n",
       "dtype: object"
      ]
     },
     "execution_count": 58,
     "metadata": {},
     "output_type": "execute_result"
    }
   ],
   "source": [
    "dados.dtypes"
   ]
  },
  {
   "cell_type": "markdown",
   "id": "92c1c63b",
   "metadata": {},
   "source": [
    "### 1.5.2 Change"
   ]
  },
  {
   "cell_type": "code",
   "execution_count": 59,
   "id": "a56add5f",
   "metadata": {
    "ExecuteTime": {
     "end_time": "2021-12-26T17:03:57.763265Z",
     "start_time": "2021-12-26T17:03:57.759603Z"
    }
   },
   "outputs": [],
   "source": [
    "# float to int in columns related to dates\n",
    "dados['competition_open_since_month'] = dados['competition_open_since_month'].astype(int)\n",
    "dados['competition_open_since_year'] = dados['competition_open_since_year'].astype(int)\n",
    "dados['promo2_since_week'] = dados['promo2_since_week'].astype(int)\n",
    "dados['promo2_since_year'] = dados['promo2_since_year'].astype(int)"
   ]
  },
  {
   "cell_type": "markdown",
   "id": "d30005e9",
   "metadata": {},
   "source": [
    "## 1.6 Descriptive Statistics"
   ]
  },
  {
   "cell_type": "markdown",
   "id": "4a221d0b",
   "metadata": {},
   "source": [
    "### 1.6.1 Separate Categorical and Numeric Variables"
   ]
  },
  {
   "cell_type": "code",
   "execution_count": 60,
   "id": "32f34a8f",
   "metadata": {
    "ExecuteTime": {
     "end_time": "2021-12-26T17:09:29.144225Z",
     "start_time": "2021-12-26T17:09:29.115989Z"
    }
   },
   "outputs": [
    {
     "data": {
      "text/html": [
       "<div>\n",
       "<style scoped>\n",
       "    .dataframe tbody tr th:only-of-type {\n",
       "        vertical-align: middle;\n",
       "    }\n",
       "\n",
       "    .dataframe tbody tr th {\n",
       "        vertical-align: top;\n",
       "    }\n",
       "\n",
       "    .dataframe thead th {\n",
       "        text-align: right;\n",
       "    }\n",
       "</style>\n",
       "<table border=\"1\" class=\"dataframe\">\n",
       "  <thead>\n",
       "    <tr style=\"text-align: right;\">\n",
       "      <th></th>\n",
       "      <th>store</th>\n",
       "      <th>day_of_week</th>\n",
       "      <th>date</th>\n",
       "      <th>sales</th>\n",
       "      <th>customers</th>\n",
       "      <th>open</th>\n",
       "      <th>promo</th>\n",
       "      <th>state_holiday</th>\n",
       "      <th>school_holiday</th>\n",
       "      <th>store_type</th>\n",
       "      <th>assortment</th>\n",
       "      <th>competition_distance</th>\n",
       "      <th>competition_open_since_month</th>\n",
       "      <th>competition_open_since_year</th>\n",
       "      <th>promo2</th>\n",
       "      <th>promo2_since_week</th>\n",
       "      <th>promo2_since_year</th>\n",
       "      <th>promo_interval</th>\n",
       "    </tr>\n",
       "  </thead>\n",
       "  <tbody>\n",
       "    <tr>\n",
       "      <th>0</th>\n",
       "      <td>965</td>\n",
       "      <td>7</td>\n",
       "      <td>2014-11-02</td>\n",
       "      <td>0</td>\n",
       "      <td>0</td>\n",
       "      <td>0</td>\n",
       "      <td>0</td>\n",
       "      <td>None</td>\n",
       "      <td>0</td>\n",
       "      <td>a</td>\n",
       "      <td>extended</td>\n",
       "      <td>110.0</td>\n",
       "      <td>8</td>\n",
       "      <td>2009</td>\n",
       "      <td>0</td>\n",
       "      <td>0</td>\n",
       "      <td>0</td>\n",
       "      <td>No promo2</td>\n",
       "    </tr>\n",
       "    <tr>\n",
       "      <th>1</th>\n",
       "      <td>268</td>\n",
       "      <td>1</td>\n",
       "      <td>2013-12-30</td>\n",
       "      <td>6995</td>\n",
       "      <td>814</td>\n",
       "      <td>1</td>\n",
       "      <td>0</td>\n",
       "      <td>None</td>\n",
       "      <td>1</td>\n",
       "      <td>a</td>\n",
       "      <td>basic</td>\n",
       "      <td>4520.0</td>\n",
       "      <td>2</td>\n",
       "      <td>2014</td>\n",
       "      <td>0</td>\n",
       "      <td>0</td>\n",
       "      <td>0</td>\n",
       "      <td>No promo2</td>\n",
       "    </tr>\n",
       "    <tr>\n",
       "      <th>2</th>\n",
       "      <td>1112</td>\n",
       "      <td>6</td>\n",
       "      <td>2015-03-28</td>\n",
       "      <td>8671</td>\n",
       "      <td>774</td>\n",
       "      <td>1</td>\n",
       "      <td>0</td>\n",
       "      <td>None</td>\n",
       "      <td>0</td>\n",
       "      <td>c</td>\n",
       "      <td>extended</td>\n",
       "      <td>1880.0</td>\n",
       "      <td>4</td>\n",
       "      <td>2006</td>\n",
       "      <td>0</td>\n",
       "      <td>0</td>\n",
       "      <td>0</td>\n",
       "      <td>No promo2</td>\n",
       "    </tr>\n",
       "    <tr>\n",
       "      <th>3</th>\n",
       "      <td>128</td>\n",
       "      <td>1</td>\n",
       "      <td>2014-07-21</td>\n",
       "      <td>6675</td>\n",
       "      <td>534</td>\n",
       "      <td>1</td>\n",
       "      <td>0</td>\n",
       "      <td>None</td>\n",
       "      <td>0</td>\n",
       "      <td>d</td>\n",
       "      <td>extended</td>\n",
       "      <td>2000.0</td>\n",
       "      <td>8</td>\n",
       "      <td>2009</td>\n",
       "      <td>1</td>\n",
       "      <td>1</td>\n",
       "      <td>2013</td>\n",
       "      <td>Jan,Apr,Jul,Oct</td>\n",
       "    </tr>\n",
       "    <tr>\n",
       "      <th>4</th>\n",
       "      <td>687</td>\n",
       "      <td>4</td>\n",
       "      <td>2015-06-11</td>\n",
       "      <td>6961</td>\n",
       "      <td>675</td>\n",
       "      <td>1</td>\n",
       "      <td>0</td>\n",
       "      <td>None</td>\n",
       "      <td>0</td>\n",
       "      <td>d</td>\n",
       "      <td>extended</td>\n",
       "      <td>2770.0</td>\n",
       "      <td>8</td>\n",
       "      <td>2009</td>\n",
       "      <td>0</td>\n",
       "      <td>0</td>\n",
       "      <td>0</td>\n",
       "      <td>No promo2</td>\n",
       "    </tr>\n",
       "    <tr>\n",
       "      <th>...</th>\n",
       "      <td>...</td>\n",
       "      <td>...</td>\n",
       "      <td>...</td>\n",
       "      <td>...</td>\n",
       "      <td>...</td>\n",
       "      <td>...</td>\n",
       "      <td>...</td>\n",
       "      <td>...</td>\n",
       "      <td>...</td>\n",
       "      <td>...</td>\n",
       "      <td>...</td>\n",
       "      <td>...</td>\n",
       "      <td>...</td>\n",
       "      <td>...</td>\n",
       "      <td>...</td>\n",
       "      <td>...</td>\n",
       "      <td>...</td>\n",
       "      <td>...</td>\n",
       "    </tr>\n",
       "    <tr>\n",
       "      <th>101716</th>\n",
       "      <td>410</td>\n",
       "      <td>1</td>\n",
       "      <td>2013-04-15</td>\n",
       "      <td>4233</td>\n",
       "      <td>618</td>\n",
       "      <td>1</td>\n",
       "      <td>0</td>\n",
       "      <td>None</td>\n",
       "      <td>0</td>\n",
       "      <td>c</td>\n",
       "      <td>basic</td>\n",
       "      <td>40.0</td>\n",
       "      <td>11</td>\n",
       "      <td>2011</td>\n",
       "      <td>1</td>\n",
       "      <td>22</td>\n",
       "      <td>2012</td>\n",
       "      <td>Mar,Jun,Sept,Dec</td>\n",
       "    </tr>\n",
       "    <tr>\n",
       "      <th>101717</th>\n",
       "      <td>1111</td>\n",
       "      <td>3</td>\n",
       "      <td>2014-12-03</td>\n",
       "      <td>6008</td>\n",
       "      <td>485</td>\n",
       "      <td>1</td>\n",
       "      <td>1</td>\n",
       "      <td>None</td>\n",
       "      <td>0</td>\n",
       "      <td>a</td>\n",
       "      <td>basic</td>\n",
       "      <td>1900.0</td>\n",
       "      <td>6</td>\n",
       "      <td>2014</td>\n",
       "      <td>1</td>\n",
       "      <td>31</td>\n",
       "      <td>2013</td>\n",
       "      <td>Jan,Apr,Jul,Oct</td>\n",
       "    </tr>\n",
       "    <tr>\n",
       "      <th>101718</th>\n",
       "      <td>262</td>\n",
       "      <td>2</td>\n",
       "      <td>2014-04-08</td>\n",
       "      <td>17914</td>\n",
       "      <td>3279</td>\n",
       "      <td>1</td>\n",
       "      <td>0</td>\n",
       "      <td>None</td>\n",
       "      <td>0</td>\n",
       "      <td>b</td>\n",
       "      <td>basic</td>\n",
       "      <td>1180.0</td>\n",
       "      <td>5</td>\n",
       "      <td>2013</td>\n",
       "      <td>0</td>\n",
       "      <td>0</td>\n",
       "      <td>0</td>\n",
       "      <td>No promo2</td>\n",
       "    </tr>\n",
       "    <tr>\n",
       "      <th>101719</th>\n",
       "      <td>849</td>\n",
       "      <td>6</td>\n",
       "      <td>2013-01-19</td>\n",
       "      <td>8214</td>\n",
       "      <td>922</td>\n",
       "      <td>1</td>\n",
       "      <td>0</td>\n",
       "      <td>None</td>\n",
       "      <td>0</td>\n",
       "      <td>c</td>\n",
       "      <td>extended</td>\n",
       "      <td>5000.0</td>\n",
       "      <td>8</td>\n",
       "      <td>2009</td>\n",
       "      <td>0</td>\n",
       "      <td>0</td>\n",
       "      <td>0</td>\n",
       "      <td>No promo2</td>\n",
       "    </tr>\n",
       "    <tr>\n",
       "      <th>101720</th>\n",
       "      <td>696</td>\n",
       "      <td>2</td>\n",
       "      <td>2013-02-19</td>\n",
       "      <td>7704</td>\n",
       "      <td>953</td>\n",
       "      <td>1</td>\n",
       "      <td>1</td>\n",
       "      <td>None</td>\n",
       "      <td>0</td>\n",
       "      <td>a</td>\n",
       "      <td>extended</td>\n",
       "      <td>430.0</td>\n",
       "      <td>8</td>\n",
       "      <td>2009</td>\n",
       "      <td>0</td>\n",
       "      <td>0</td>\n",
       "      <td>0</td>\n",
       "      <td>No promo2</td>\n",
       "    </tr>\n",
       "  </tbody>\n",
       "</table>\n",
       "<p>101721 rows × 18 columns</p>\n",
       "</div>"
      ],
      "text/plain": [
       "        store  day_of_week       date  sales  customers  open  promo  \\\n",
       "0         965            7 2014-11-02      0          0     0      0   \n",
       "1         268            1 2013-12-30   6995        814     1      0   \n",
       "2        1112            6 2015-03-28   8671        774     1      0   \n",
       "3         128            1 2014-07-21   6675        534     1      0   \n",
       "4         687            4 2015-06-11   6961        675     1      0   \n",
       "...       ...          ...        ...    ...        ...   ...    ...   \n",
       "101716    410            1 2013-04-15   4233        618     1      0   \n",
       "101717   1111            3 2014-12-03   6008        485     1      1   \n",
       "101718    262            2 2014-04-08  17914       3279     1      0   \n",
       "101719    849            6 2013-01-19   8214        922     1      0   \n",
       "101720    696            2 2013-02-19   7704        953     1      1   \n",
       "\n",
       "       state_holiday  school_holiday store_type assortment  \\\n",
       "0               None               0          a   extended   \n",
       "1               None               1          a      basic   \n",
       "2               None               0          c   extended   \n",
       "3               None               0          d   extended   \n",
       "4               None               0          d   extended   \n",
       "...              ...             ...        ...        ...   \n",
       "101716          None               0          c      basic   \n",
       "101717          None               0          a      basic   \n",
       "101718          None               0          b      basic   \n",
       "101719          None               0          c   extended   \n",
       "101720          None               0          a   extended   \n",
       "\n",
       "        competition_distance  competition_open_since_month  \\\n",
       "0                      110.0                             8   \n",
       "1                     4520.0                             2   \n",
       "2                     1880.0                             4   \n",
       "3                     2000.0                             8   \n",
       "4                     2770.0                             8   \n",
       "...                      ...                           ...   \n",
       "101716                  40.0                            11   \n",
       "101717                1900.0                             6   \n",
       "101718                1180.0                             5   \n",
       "101719                5000.0                             8   \n",
       "101720                 430.0                             8   \n",
       "\n",
       "        competition_open_since_year  promo2  promo2_since_week  \\\n",
       "0                              2009       0                  0   \n",
       "1                              2014       0                  0   \n",
       "2                              2006       0                  0   \n",
       "3                              2009       1                  1   \n",
       "4                              2009       0                  0   \n",
       "...                             ...     ...                ...   \n",
       "101716                         2011       1                 22   \n",
       "101717                         2014       1                 31   \n",
       "101718                         2013       0                  0   \n",
       "101719                         2009       0                  0   \n",
       "101720                         2009       0                  0   \n",
       "\n",
       "        promo2_since_year    promo_interval  \n",
       "0                       0         No promo2  \n",
       "1                       0         No promo2  \n",
       "2                       0         No promo2  \n",
       "3                    2013   Jan,Apr,Jul,Oct  \n",
       "4                       0         No promo2  \n",
       "...                   ...               ...  \n",
       "101716               2012  Mar,Jun,Sept,Dec  \n",
       "101717               2013   Jan,Apr,Jul,Oct  \n",
       "101718                  0         No promo2  \n",
       "101719                  0         No promo2  \n",
       "101720                  0         No promo2  \n",
       "\n",
       "[101721 rows x 18 columns]"
      ]
     },
     "execution_count": 60,
     "metadata": {},
     "output_type": "execute_result"
    }
   ],
   "source": [
    "dados"
   ]
  },
  {
   "cell_type": "code",
   "execution_count": 62,
   "id": "0bca237a",
   "metadata": {
    "ExecuteTime": {
     "end_time": "2021-12-26T17:13:15.709390Z",
     "start_time": "2021-12-26T17:13:15.687563Z"
    }
   },
   "outputs": [],
   "source": [
    "# separar direito isso\n",
    "dados_num = dados[['store','day_of_week','sales','customers','competition_distance','competition_open_since_month','competition_open_since_year','promo2_since_week','promo2_since_year']]\n",
    "dados_cat = dados.drop(['store','day_of_week','sales','customers','competition_distance','competition_open_since_month','competition_open_since_year','promo2_since_week','promo2_since_year','date'],axis=1)"
   ]
  },
  {
   "cell_type": "markdown",
   "id": "336ae0fe",
   "metadata": {},
   "source": [
    "### 1.6.2 Numeric Variables Analysis"
   ]
  },
  {
   "cell_type": "code",
   "execution_count": 67,
   "id": "eda33e43",
   "metadata": {
    "ExecuteTime": {
     "end_time": "2021-12-26T17:15:28.845213Z",
     "start_time": "2021-12-26T17:15:28.775115Z"
    }
   },
   "outputs": [
    {
     "data": {
      "text/html": [
       "<div>\n",
       "<style scoped>\n",
       "    .dataframe tbody tr th:only-of-type {\n",
       "        vertical-align: middle;\n",
       "    }\n",
       "\n",
       "    .dataframe tbody tr th {\n",
       "        vertical-align: top;\n",
       "    }\n",
       "\n",
       "    .dataframe thead th {\n",
       "        text-align: right;\n",
       "    }\n",
       "</style>\n",
       "<table border=\"1\" class=\"dataframe\">\n",
       "  <thead>\n",
       "    <tr style=\"text-align: right;\">\n",
       "      <th></th>\n",
       "      <th>mean</th>\n",
       "      <th>std</th>\n",
       "      <th>min</th>\n",
       "      <th>25%</th>\n",
       "      <th>50%</th>\n",
       "      <th>75%</th>\n",
       "      <th>max</th>\n",
       "      <th>kurtosis</th>\n",
       "      <th>skew</th>\n",
       "      <th>range</th>\n",
       "    </tr>\n",
       "  </thead>\n",
       "  <tbody>\n",
       "    <tr>\n",
       "      <th>store</th>\n",
       "      <td>559.726094</td>\n",
       "      <td>322.250508</td>\n",
       "      <td>1.0</td>\n",
       "      <td>281.0</td>\n",
       "      <td>559.0</td>\n",
       "      <td>839.0</td>\n",
       "      <td>1115.0</td>\n",
       "      <td>-1.204181</td>\n",
       "      <td>-0.002491</td>\n",
       "      <td>1114.0</td>\n",
       "    </tr>\n",
       "    <tr>\n",
       "      <th>day_of_week</th>\n",
       "      <td>3.998496</td>\n",
       "      <td>2.001751</td>\n",
       "      <td>1.0</td>\n",
       "      <td>2.0</td>\n",
       "      <td>4.0</td>\n",
       "      <td>6.0</td>\n",
       "      <td>7.0</td>\n",
       "      <td>-1.254069</td>\n",
       "      <td>0.001339</td>\n",
       "      <td>6.0</td>\n",
       "    </tr>\n",
       "    <tr>\n",
       "      <th>sales</th>\n",
       "      <td>5778.703041</td>\n",
       "      <td>3852.887607</td>\n",
       "      <td>0.0</td>\n",
       "      <td>3731.0</td>\n",
       "      <td>5745.0</td>\n",
       "      <td>7861.0</td>\n",
       "      <td>33913.0</td>\n",
       "      <td>1.858952</td>\n",
       "      <td>0.655340</td>\n",
       "      <td>33913.0</td>\n",
       "    </tr>\n",
       "    <tr>\n",
       "      <th>customers</th>\n",
       "      <td>634.492445</td>\n",
       "      <td>466.300820</td>\n",
       "      <td>0.0</td>\n",
       "      <td>405.0</td>\n",
       "      <td>610.0</td>\n",
       "      <td>838.0</td>\n",
       "      <td>5106.0</td>\n",
       "      <td>7.278215</td>\n",
       "      <td>1.631200</td>\n",
       "      <td>5106.0</td>\n",
       "    </tr>\n",
       "    <tr>\n",
       "      <th>competition_distance</th>\n",
       "      <td>7914.821649</td>\n",
       "      <td>50515.263406</td>\n",
       "      <td>20.0</td>\n",
       "      <td>710.0</td>\n",
       "      <td>2330.0</td>\n",
       "      <td>6890.0</td>\n",
       "      <td>999999.0</td>\n",
       "      <td>372.892805</td>\n",
       "      <td>19.145517</td>\n",
       "      <td>999979.0</td>\n",
       "    </tr>\n",
       "    <tr>\n",
       "      <th>competition_open_since_month</th>\n",
       "      <td>7.462717</td>\n",
       "      <td>2.696725</td>\n",
       "      <td>0.0</td>\n",
       "      <td>6.0</td>\n",
       "      <td>8.0</td>\n",
       "      <td>9.0</td>\n",
       "      <td>12.0</td>\n",
       "      <td>-0.348431</td>\n",
       "      <td>-0.497024</td>\n",
       "      <td>12.0</td>\n",
       "    </tr>\n",
       "    <tr>\n",
       "      <th>competition_open_since_year</th>\n",
       "      <td>2003.716381</td>\n",
       "      <td>100.964931</td>\n",
       "      <td>0.0</td>\n",
       "      <td>2008.0</td>\n",
       "      <td>2009.0</td>\n",
       "      <td>2011.0</td>\n",
       "      <td>2015.0</td>\n",
       "      <td>388.936828</td>\n",
       "      <td>-19.749031</td>\n",
       "      <td>2015.0</td>\n",
       "    </tr>\n",
       "    <tr>\n",
       "      <th>promo2_since_week</th>\n",
       "      <td>11.635483</td>\n",
       "      <td>15.333271</td>\n",
       "      <td>0.0</td>\n",
       "      <td>0.0</td>\n",
       "      <td>0.0</td>\n",
       "      <td>22.0</td>\n",
       "      <td>50.0</td>\n",
       "      <td>-0.496872</td>\n",
       "      <td>1.005324</td>\n",
       "      <td>50.0</td>\n",
       "    </tr>\n",
       "    <tr>\n",
       "      <th>promo2_since_year</th>\n",
       "      <td>1005.093147</td>\n",
       "      <td>1005.879672</td>\n",
       "      <td>0.0</td>\n",
       "      <td>0.0</td>\n",
       "      <td>0.0</td>\n",
       "      <td>2012.0</td>\n",
       "      <td>2015.0</td>\n",
       "      <td>-2.000031</td>\n",
       "      <td>0.001557</td>\n",
       "      <td>2015.0</td>\n",
       "    </tr>\n",
       "  </tbody>\n",
       "</table>\n",
       "</div>"
      ],
      "text/plain": [
       "                                     mean           std   min     25%     50%  \\\n",
       "store                          559.726094    322.250508   1.0   281.0   559.0   \n",
       "day_of_week                      3.998496      2.001751   1.0     2.0     4.0   \n",
       "sales                         5778.703041   3852.887607   0.0  3731.0  5745.0   \n",
       "customers                      634.492445    466.300820   0.0   405.0   610.0   \n",
       "competition_distance          7914.821649  50515.263406  20.0   710.0  2330.0   \n",
       "competition_open_since_month     7.462717      2.696725   0.0     6.0     8.0   \n",
       "competition_open_since_year   2003.716381    100.964931   0.0  2008.0  2009.0   \n",
       "promo2_since_week               11.635483     15.333271   0.0     0.0     0.0   \n",
       "promo2_since_year             1005.093147   1005.879672   0.0     0.0     0.0   \n",
       "\n",
       "                                 75%       max    kurtosis       skew  \\\n",
       "store                          839.0    1115.0   -1.204181  -0.002491   \n",
       "day_of_week                      6.0       7.0   -1.254069   0.001339   \n",
       "sales                         7861.0   33913.0    1.858952   0.655340   \n",
       "customers                      838.0    5106.0    7.278215   1.631200   \n",
       "competition_distance          6890.0  999999.0  372.892805  19.145517   \n",
       "competition_open_since_month     9.0      12.0   -0.348431  -0.497024   \n",
       "competition_open_since_year   2011.0    2015.0  388.936828 -19.749031   \n",
       "promo2_since_week               22.0      50.0   -0.496872   1.005324   \n",
       "promo2_since_year             2012.0    2015.0   -2.000031   0.001557   \n",
       "\n",
       "                                 range  \n",
       "store                           1114.0  \n",
       "day_of_week                        6.0  \n",
       "sales                          33913.0  \n",
       "customers                       5106.0  \n",
       "competition_distance          999979.0  \n",
       "competition_open_since_month      12.0  \n",
       "competition_open_since_year     2015.0  \n",
       "promo2_since_week                 50.0  \n",
       "promo2_since_year               2015.0  "
      ]
     },
     "execution_count": 67,
     "metadata": {},
     "output_type": "execute_result"
    }
   ],
   "source": [
    "# Distribution in numbers\n",
    "\n",
    "num_kurt = dados_num.apply(lambda x: x.kurtosis()) # Add kurtosis\n",
    "num_skew = dados_num.apply(lambda x: x.skew()) # Add skew\n",
    "num_range = dados_num.apply(lambda x: x.max() - x.min()) # Add range\n",
    "pd.concat([dados_num.describe().T,num_kurt,num_skew,num_range],axis=1).rename(columns={0:'kurtosis',1:'skew',2:'range'}).drop('count',1)"
   ]
  },
  {
   "cell_type": "markdown",
   "id": "a570522f",
   "metadata": {},
   "source": [
    "Nothing strange.\n",
    "\n",
    "The only strange values that we see were the ones that we chose arbitraly to substitute."
   ]
  },
  {
   "cell_type": "markdown",
   "id": "f1a30180",
   "metadata": {},
   "source": [
    "### 1.6.3 Categorical Variables Analysis"
   ]
  },
  {
   "cell_type": "code",
   "execution_count": 78,
   "id": "b60431f7",
   "metadata": {
    "ExecuteTime": {
     "end_time": "2021-12-26T17:23:34.313910Z",
     "start_time": "2021-12-26T17:23:34.272466Z"
    }
   },
   "outputs": [
    {
     "name": "stdout",
     "output_type": "stream",
     "text": [
      "OPEN:\n",
      "1    83.09\n",
      "0    16.91\n",
      "Name: open, dtype: float64\n",
      "\n",
      "PROMO:\n",
      "0    61.89\n",
      "1    38.11\n",
      "Name: promo, dtype: float64\n",
      "\n",
      "STATE_HOLIDAY:\n",
      "None              97.07\n",
      "public holiday     1.91\n",
      "Easter holiday     0.64\n",
      "Christmas          0.38\n",
      "Name: state_holiday, dtype: float64\n",
      "\n",
      "SCHOOL_HOLIDAY:\n",
      "0    82.19\n",
      "1    17.81\n",
      "Name: school_holiday, dtype: float64\n",
      "\n",
      "STORE_TYPE:\n",
      "a    54.20\n",
      "d    30.74\n",
      "c    13.44\n",
      "b     1.62\n",
      "Name: store_type, dtype: float64\n",
      "\n",
      "ASSORTMENT:\n",
      "basic       52.97\n",
      "extended    46.17\n",
      "extra        0.86\n",
      "Name: assortment, dtype: float64\n",
      "\n",
      "PROMO2:\n",
      "0    50.04\n",
      "1    49.96\n",
      "Name: promo2, dtype: float64\n",
      "\n",
      "PROMO_INTERVAL:\n",
      "No promo2           50.04\n",
      "Jan,Apr,Jul,Oct     28.85\n",
      "Feb,May,Aug,Nov     11.67\n",
      "Mar,Jun,Sept,Dec     9.45\n",
      "Name: promo_interval, dtype: float64\n",
      "\n"
     ]
    }
   ],
   "source": [
    "for column in dados_cat.columns.values:\n",
    "    print(column.upper()+':')\n",
    "    print(round(dados_cat[column].value_counts(normalize=True)*100,2))\n",
    "    print('')"
   ]
  },
  {
   "cell_type": "markdown",
   "id": "2ce0f81f",
   "metadata": {},
   "source": [
    "Everything looks nice."
   ]
  },
  {
   "cell_type": "markdown",
   "id": "3ad4044c",
   "metadata": {
    "ExecuteTime": {
     "end_time": "2021-12-26T17:26:38.537896Z",
     "start_time": "2021-12-26T17:26:38.509893Z"
    }
   },
   "source": [
    "## 1.7 Columns and Values Filtering"
   ]
  },
  {
   "cell_type": "code",
   "execution_count": 83,
   "id": "b7d4d3fa",
   "metadata": {
    "ExecuteTime": {
     "end_time": "2021-12-26T17:39:47.760016Z",
     "start_time": "2021-12-26T17:39:47.726958Z"
    }
   },
   "outputs": [],
   "source": [
    "# Let's filter what is useful and useless for our prediction based on the business demand\n",
    "dados.drop('customers',axis=1,inplace=True) # We can't predict using this, because we don't have this answer to input\n",
    "dados = dados[dados['open']==1] # We want to predict sales when the store is open. When it's closed, sales == 0\n",
    "dados.drop('open',axis=1,inplace=True) # This column would be constant == 1, useless for our prediction"
   ]
  },
  {
   "cell_type": "markdown",
   "id": "b45befe5",
   "metadata": {},
   "source": [
    "## Exporting Dataset (After Data Cleaning)"
   ]
  },
  {
   "cell_type": "code",
   "execution_count": 86,
   "id": "0d60a7e6",
   "metadata": {
    "ExecuteTime": {
     "end_time": "2021-12-27T02:07:12.093357Z",
     "start_time": "2021-12-27T02:07:11.658307Z"
    }
   },
   "outputs": [],
   "source": [
    "dados.to_csv('/Users/nando/Comunidade DS/ds_em_producao/data/data_cleaned.csv',index=False)"
   ]
  },
  {
   "cell_type": "markdown",
   "id": "6a213c01",
   "metadata": {},
   "source": [
    "# 2.0 Exploratory Data Analysis"
   ]
  },
  {
   "cell_type": "markdown",
   "id": "7deec34f",
   "metadata": {},
   "source": [
    "## Import Data"
   ]
  },
  {
   "cell_type": "code",
   "execution_count": 177,
   "id": "c560f13f",
   "metadata": {
    "ExecuteTime": {
     "end_time": "2021-12-31T02:01:16.160361Z",
     "start_time": "2021-12-31T02:01:16.040475Z"
    }
   },
   "outputs": [],
   "source": [
    "dados = pd.read_csv('/Users/nando/Comunidade DS/ds_em_producao/data/data_cleaned.csv')"
   ]
  },
  {
   "cell_type": "markdown",
   "id": "19ba8dc7",
   "metadata": {},
   "source": [
    "## 2.1 Hyphotesis"
   ]
  },
  {
   "cell_type": "markdown",
   "id": "1f94bbea",
   "metadata": {},
   "source": [
    "**DATE**\n",
    "\n",
    "**1 -** As lojas vendem muito mais no começo do mês do que no final\n",
    "\n",
    "**2 -** Houve um crescimento de vendas ao longo dos anos\n",
    "\n",
    "**3 -** Lojas vendem mais no fim de semana\n",
    "\n",
    "**4 -** Lojas vendem mais em feriados\n",
    "\n",
    "**5 -** Lojas vendem mais no segundo semestre\n",
    "\n",
    "**6 -** Lojas vendem mais no 2º e 3º trimestre.\n",
    "\n",
    "**7 -** Lojas vendem mais no verão\n",
    "\n",
    "**COMPETITION**\n",
    "\n",
    "**8 -** Se a loja tem competidor ela vende menos\n",
    "\n",
    "**9 -** Quanto mais velha é a competição, menos a loja vende\n",
    "\n",
    "**10 -** Quanto mais longe é o competidor, mais vende a loja\n",
    "\n",
    "**STORE**\n",
    "\n",
    "**11 -** Existem tipos de loja que vendem substancialmente mais\n",
    "\n",
    "**12 -** Quanto mais diversa é a loja, mais ela vende\n",
    "\n",
    "**PROMOTIONS**\n",
    "\n",
    "**13 -** Quando tem promoção as lojas vendem mais\n",
    "\n",
    "**14 -** Quanto mais vezes se tem promoção em um período, menos eficaz ela fica\n",
    "\n",
    "**15 -** Quanto mais vezes se tem promoção em um período, mais a loja vende\n",
    "\n",
    "**16 -** Se a loja acatar a promo2 ela vende mais\n",
    "\n",
    "**17 -** Existem períodos onde a promo2 é mais eficaz em relação às vendas\n",
    "\n",
    "**18 -** Quanto mais antiga a promo2, menos a loja vende"
   ]
  },
  {
   "cell_type": "markdown",
   "id": "2ac406be",
   "metadata": {
    "ExecuteTime": {
     "end_time": "2021-12-27T23:27:02.131185Z",
     "start_time": "2021-12-27T23:27:02.128588Z"
    }
   },
   "source": [
    "## 2.2 Feature Engineering"
   ]
  },
  {
   "cell_type": "code",
   "execution_count": 178,
   "id": "faae161f",
   "metadata": {
    "ExecuteTime": {
     "end_time": "2021-12-31T02:01:17.159930Z",
     "start_time": "2021-12-31T02:01:17.065875Z"
    }
   },
   "outputs": [],
   "source": [
    "# Day, Month, Week and Year Variables\n",
    "dados['day'] = pd.to_datetime(dados['date']).dt.day\n",
    "dados['month'] = pd.to_datetime(dados['date']).dt.month\n",
    "dados['year'] = pd.to_datetime(dados['date']).dt.year\n",
    "dados['week'] = pd.to_datetime(dados['date']).dt.week"
   ]
  },
  {
   "cell_type": "code",
   "execution_count": 179,
   "id": "133acc48",
   "metadata": {
    "ExecuteTime": {
     "end_time": "2021-12-31T02:01:17.288046Z",
     "start_time": "2021-12-31T02:01:17.238032Z"
    }
   },
   "outputs": [],
   "source": [
    "# Semester and Quarter\n",
    "dados['quarter'] = pd.to_datetime(dados['date']).dt.quarter\n",
    "dados['semester'] = pd.to_datetime(dados['date']).dt.quarter.apply(lambda x: 1 if x == 1 or x == 2 else 2)"
   ]
  },
  {
   "cell_type": "code",
   "execution_count": 180,
   "id": "ec5f41c0",
   "metadata": {
    "ExecuteTime": {
     "end_time": "2021-12-31T02:01:27.140697Z",
     "start_time": "2021-12-31T02:01:17.456730Z"
    }
   },
   "outputs": [],
   "source": [
    "# Season\n",
    "def season_of_date(date):\n",
    "    year = str(date.year)\n",
    "    seasons = {'spring': pd.date_range(start='21/03/'+year, end='20/06/'+year),\n",
    "               'summer': pd.date_range(start='21/06/'+year, end='22/09/'+year),\n",
    "               'autumn': pd.date_range(start='23/09/'+year, end='20/12/'+year)}\n",
    "    if date in seasons['spring']:\n",
    "        return 'spring'\n",
    "    if date in seasons['summer']:\n",
    "        return 'summer'\n",
    "    if date in seasons['autumn']:\n",
    "        return 'autumn'\n",
    "    else:\n",
    "        return 'winter'\n",
    "\n",
    "dados['season'] = pd.to_datetime(dados['date']).map(season_of_date)"
   ]
  },
  {
   "cell_type": "code",
   "execution_count": 181,
   "id": "8509564c",
   "metadata": {
    "ExecuteTime": {
     "end_time": "2021-12-31T02:01:44.395692Z",
     "start_time": "2021-12-31T02:01:27.141678Z"
    }
   },
   "outputs": [],
   "source": [
    "# Competition Lifetime\n",
    "dados['competition_lifetime'] = np.nan\n",
    "for index in range(dados.shape[0]):\n",
    "    try:\n",
    "        data = datetime.datetime(dados.loc[index,'competition_open_since_year'],dados.loc[index,'competition_open_since_month'],1)\n",
    "        dados.loc[index, 'competition_lifetime'] = (pd.to_datetime(dados.loc[index,'date']) - data).days\n",
    "        \n",
    "    except:\n",
    "        dados.loc[index,'competition_lifetime'] = -999 # Never opened\n",
    "dados['competition_lifetime'] = dados['competition_lifetime'].astype('int')"
   ]
  },
  {
   "cell_type": "code",
   "execution_count": 182,
   "id": "b289688d",
   "metadata": {
    "ExecuteTime": {
     "end_time": "2021-12-31T02:01:44.411469Z",
     "start_time": "2021-12-31T02:01:44.396477Z"
    }
   },
   "outputs": [],
   "source": [
    "# Competition\n",
    "dados['competition'] = dados['competition_open_since_month'].apply(lambda x: 0 if x == 0 else 1)"
   ]
  },
  {
   "cell_type": "code",
   "execution_count": 183,
   "id": "565f5817",
   "metadata": {
    "ExecuteTime": {
     "end_time": "2021-12-31T02:01:59.543363Z",
     "start_time": "2021-12-31T02:01:44.412567Z"
    }
   },
   "outputs": [],
   "source": [
    "# Promo2 Lifetime\n",
    "dados['promo2_lifetime'] = np.nan\n",
    "for index in range(dados.shape[0]):\n",
    "    if dados.loc[index,'promo_interval'] != 'No promo2':\n",
    "        year = dados.loc[index,'promo2_since_year']\n",
    "        week = dados.loc[index,'promo2_since_week']\n",
    "        date = \"{}-W{}\".format(year,week)\n",
    "        date_datetime = datetime.datetime.strptime(date + '-1', \"%Y-W%W-%w\")\n",
    "        dados.loc[index,'promo2_lifetime'] = (pd.to_datetime(dados.loc[index,'date']) - date_datetime).days\n",
    "    else:\n",
    "        dados.loc[index,'promo2_lifetime'] = -999\n",
    "dados['promo2_lifetime'] = dados['promo2_lifetime'].astype(int)"
   ]
  },
  {
   "cell_type": "code",
   "execution_count": 184,
   "id": "40f0d202",
   "metadata": {
    "ExecuteTime": {
     "end_time": "2021-12-31T02:03:11.052379Z",
     "start_time": "2021-12-31T02:01:59.544007Z"
    }
   },
   "outputs": [],
   "source": [
    "# Promo Count per Week\n",
    "dados['promo_count_per_week'] = np.nan\n",
    "for index in range(dados.shape[0]):\n",
    "    week = dados.loc[index,'week']\n",
    "    store = dados.loc[index,'store']\n",
    "    try:\n",
    "        dados.loc[index,'promo_count_per_week'] = dados[dados['store']==store].groupby('week').sum()['promo'][week]\n",
    "    except:\n",
    "        dados.loc[index,'promo_count_per_week'] = 0\n",
    "dados['promo_count_per_week'] = dados['promo_count_per_week'].astype('int')"
   ]
  },
  {
   "cell_type": "markdown",
   "id": "d26c39ec",
   "metadata": {},
   "source": [
    "## Exporting Dataset (After Feature Engineering)"
   ]
  },
  {
   "cell_type": "code",
   "execution_count": 185,
   "id": "07c52e74",
   "metadata": {
    "ExecuteTime": {
     "end_time": "2021-12-31T02:03:11.338292Z",
     "start_time": "2021-12-31T02:03:11.053034Z"
    }
   },
   "outputs": [],
   "source": [
    "dados.to_csv('/Users/nando/Comunidade DS/ds_em_producao/data/data_feature_engineering',index=False)"
   ]
  },
  {
   "cell_type": "markdown",
   "id": "f4f2df3a",
   "metadata": {},
   "source": [
    "## Import Data"
   ]
  },
  {
   "cell_type": "code",
   "execution_count": 2,
   "id": "5871e59d",
   "metadata": {
    "ExecuteTime": {
     "end_time": "2021-12-31T18:34:48.186348Z",
     "start_time": "2021-12-31T18:34:48.063620Z"
    }
   },
   "outputs": [],
   "source": [
    "dados = pd.read_csv('/Users/nando/Comunidade DS/ds_em_producao/data/data_feature_engineering')"
   ]
  },
  {
   "cell_type": "markdown",
   "id": "69d621f9",
   "metadata": {},
   "source": [
    "## 2.3 Univariate Analysis"
   ]
  },
  {
   "cell_type": "markdown",
   "id": "f79e4334",
   "metadata": {},
   "source": [
    "### 2.3.1 Dependent Variable"
   ]
  },
  {
   "cell_type": "code",
   "execution_count": 193,
   "id": "752856f2",
   "metadata": {
    "ExecuteTime": {
     "end_time": "2021-12-31T02:04:52.094301Z",
     "start_time": "2021-12-31T02:04:51.662495Z"
    },
    "hide_input": true
   },
   "outputs": [
    {
     "data": {
      "image/png": "[encoded data removed]",
      "text/plain": [
       "<Figure size 1296x720 with 1 Axes>"
      ]
     },
     "metadata": {
      "needs_background": "light"
     },
     "output_type": "display_data"
    }
   ],
   "source": [
    "# Distribution Graph\n",
    "\n",
    "plt.figure(figsize=(18,10))\n",
    "sns.histplot(dados['sales'],kde=True);"
   ]
  },
  {
   "cell_type": "code",
   "execution_count": 194,
   "id": "ef3a529f",
   "metadata": {
    "ExecuteTime": {
     "end_time": "2021-12-31T02:04:52.589019Z",
     "start_time": "2021-12-31T02:04:52.562136Z"
    },
    "hide_input": true
   },
   "outputs": [
    {
     "data": {
      "text/html": [
       "<div>\n",
       "<style scoped>\n",
       "    .dataframe tbody tr th:only-of-type {\n",
       "        vertical-align: middle;\n",
       "    }\n",
       "\n",
       "    .dataframe tbody tr th {\n",
       "        vertical-align: top;\n",
       "    }\n",
       "\n",
       "    .dataframe thead th {\n",
       "        text-align: right;\n",
       "    }\n",
       "</style>\n",
       "<table border=\"1\" class=\"dataframe\">\n",
       "  <thead>\n",
       "    <tr style=\"text-align: right;\">\n",
       "      <th></th>\n",
       "      <th>count</th>\n",
       "      <th>mean</th>\n",
       "      <th>std</th>\n",
       "      <th>min</th>\n",
       "      <th>25%</th>\n",
       "      <th>50%</th>\n",
       "      <th>75%</th>\n",
       "      <th>max</th>\n",
       "      <th>kurtosis</th>\n",
       "      <th>skew</th>\n",
       "      <th>range</th>\n",
       "    </tr>\n",
       "  </thead>\n",
       "  <tbody>\n",
       "    <tr>\n",
       "      <th>sales</th>\n",
       "      <td>84521.0</td>\n",
       "      <td>6954.667503</td>\n",
       "      <td>3112.417246</td>\n",
       "      <td>316.0</td>\n",
       "      <td>4855.0</td>\n",
       "      <td>6367.0</td>\n",
       "      <td>8368.0</td>\n",
       "      <td>33913.0</td>\n",
       "      <td>5.002063</td>\n",
       "      <td>1.611212</td>\n",
       "      <td>33597</td>\n",
       "    </tr>\n",
       "  </tbody>\n",
       "</table>\n",
       "</div>"
      ],
      "text/plain": [
       "         count         mean          std    min     25%     50%     75%  \\\n",
       "sales  84521.0  6954.667503  3112.417246  316.0  4855.0  6367.0  8368.0   \n",
       "\n",
       "           max  kurtosis      skew  range  \n",
       "sales  33913.0  5.002063  1.611212  33597  "
      ]
     },
     "execution_count": 194,
     "metadata": {},
     "output_type": "execute_result"
    }
   ],
   "source": [
    "# Descriptive Analysis\n",
    "\n",
    "desc_dep = pd.DataFrame(dados['sales'].describe()).T\n",
    "desc_dep['kurtosis'] = dados['sales'].kurtosis() # Add kurtosis\n",
    "desc_dep['skew'] = dados['sales'].skew() # Add skew\n",
    "desc_dep['range'] = dados['sales'].max() - dados['sales'].min() # Add range\n",
    "desc_dep"
   ]
  },
  {
   "cell_type": "markdown",
   "id": "fd10fcf0",
   "metadata": {},
   "source": [
    "Not a normal distribution, but very close to it.\n",
    "\n",
    "Mean and Median almost the same (6300-6900 sales). But has a little skew and kurtosis not equal 3.\n",
    "\n",
    "It's what i was expecting, positive skewness distribution. (Sales has this behavior)"
   ]
  },
  {
   "cell_type": "markdown",
   "id": "e7c3ff00",
   "metadata": {},
   "source": [
    "## 2.3.2 Independent Variables"
   ]
  },
  {
   "cell_type": "code",
   "execution_count": 195,
   "id": "2690246b",
   "metadata": {
    "ExecuteTime": {
     "end_time": "2021-12-31T02:04:54.616877Z",
     "start_time": "2021-12-31T02:04:54.614453Z"
    },
    "hide_input": false
   },
   "outputs": [],
   "source": [
    "# Store, Day of Week, State Holiday, School Holiday, Store Type and Assortment"
   ]
  },
  {
   "cell_type": "code",
   "execution_count": 230,
   "id": "649f56c9",
   "metadata": {
    "ExecuteTime": {
     "end_time": "2021-12-31T02:42:02.401080Z",
     "start_time": "2021-12-31T02:42:01.852971Z"
    },
    "hide_input": true,
    "scrolled": false
   },
   "outputs": [
    {
     "data": {
      "image/png": "[encoded data removed]",
      "text/plain": [
       "<Figure size 1152x576 with 6 Axes>"
      ]
     },
     "metadata": {
      "needs_background": "light"
     },
     "output_type": "display_data"
    }
   ],
   "source": [
    "plt.figure(figsize=(16,8))\n",
    "plt.subplots_adjust(hspace=0.3,wspace=0.25)\n",
    "\n",
    "plt.subplot(2,3,1)\n",
    "ax = sns.histplot(dados['store'],kde=True)\n",
    "ax.set_title('Store',size=14,pad=8)\n",
    "ax.set_xlabel('')\n",
    "ax.set_ylabel('count',size=11)\n",
    "\n",
    "plt.subplot(2,3,2)\n",
    "ax = sns.countplot(dados['day_of_week'])\n",
    "ax.set_title('Day of Week',size=14,pad=8)\n",
    "ax.set_xlabel('')\n",
    "ax.set_ylabel('count',size=11)\n",
    "\n",
    "plt.subplot(2,3,3)\n",
    "ax = sns.countplot(dados['state_holiday'])\n",
    "ax.set_title('State Holiday',size=14,pad=8)\n",
    "ax.set_xlabel('')\n",
    "ax.set_ylabel('count',size=11)\n",
    "\n",
    "plt.subplot(2,3,4)\n",
    "ax = sns.countplot(dados['school_holiday'])\n",
    "ax.set_title('School Holiday',size=14,pad=8)\n",
    "ax.set_xlabel('')\n",
    "ax.set_ylabel('count',size=11)\n",
    "\n",
    "plt.subplot(2,3,5)\n",
    "ax = sns.countplot(dados['store_type'])\n",
    "ax.set_title('Store Type',size=14,pad=8)\n",
    "ax.set_xlabel('')\n",
    "ax.set_ylabel('count',size=11)\n",
    "\n",
    "plt.subplot(2,3,6)\n",
    "ax = sns.countplot(dados['assortment'])\n",
    "ax.set_title('Assortment',size=14,pad=8)\n",
    "ax.set_xlabel('')\n",
    "ax.set_ylabel('count',size=11)\n",
    "\n",
    "\n",
    "plt.show()"
   ]
  },
  {
   "cell_type": "markdown",
   "id": "eecf8a7d",
   "metadata": {},
   "source": [
    "What we can observe:\n",
    "\n",
    "**Store:** We have the same represatition for all stores\n",
    "\n",
    "**Day of Week:** In sunday it has way less represantation (Probably because the stores are closed this day)\n",
    "\n",
    "**State Holiday and School Holiday:** Seems to behave as expected, more normal days and less holidays. \n",
    "\n",
    "**Store Type:** There's a visible predominance of some store types.\n",
    "\n",
    "**Assortment:** as we have more assortment, we have less representation"
   ]
  },
  {
   "cell_type": "code",
   "execution_count": 198,
   "id": "fe5fdf4c",
   "metadata": {
    "ExecuteTime": {
     "end_time": "2021-12-31T02:06:25.603659Z",
     "start_time": "2021-12-31T02:06:25.600448Z"
    },
    "hide_input": false
   },
   "outputs": [],
   "source": [
    "# competition, competition_distance, competition_lifetime, competition_open_since_month and competition_open_since_year"
   ]
  },
  {
   "cell_type": "code",
   "execution_count": 247,
   "id": "4e045237",
   "metadata": {
    "ExecuteTime": {
     "end_time": "2021-12-31T02:47:56.899686Z",
     "start_time": "2021-12-31T02:47:56.655791Z"
    },
    "hide_input": true
   },
   "outputs": [
    {
     "data": {
      "image/png": "[encoded data removed]",
      "text/plain": [
       "<Figure size 1152x576 with 3 Axes>"
      ]
     },
     "metadata": {
      "needs_background": "light"
     },
     "output_type": "display_data"
    }
   ],
   "source": [
    "plt.figure(figsize=(16,8))\n",
    "plt.subplots_adjust(wspace=0.3)\n",
    "\n",
    "plt.subplot(2,3,1)\n",
    "ax = sns.countplot(dados['competition'])\n",
    "ax.set_title('Competition',size=14,pad=8)\n",
    "ax.set_xlabel('')\n",
    "ax.set_ylabel('count',size=11)\n",
    "\n",
    "plt.subplot(2,3,2)\n",
    "ax = sns.countplot(dados[dados['competition']==1]['competition_open_since_month'])\n",
    "ax.set_title('Competition Since Month (competition==1)',size=14,pad=8)\n",
    "ax.set_xlabel('')\n",
    "ax.set_ylabel('count',size=11)\n",
    "\n",
    "plt.subplot(2,3,3)\n",
    "ax = sns.countplot(dados[dados['competition']==1]['competition_open_since_year'])\n",
    "ax.set_title('Competition Since Year (competition==1)',size=14,pad=8)\n",
    "ax.set_xlabel('')\n",
    "ax.set_ylabel('count',size=11)\n",
    "plt.tick_params(axis='x',rotation=70)\n",
    "\n",
    "plt.show()"
   ]
  },
  {
   "cell_type": "code",
   "execution_count": 260,
   "id": "9e5cc175",
   "metadata": {
    "ExecuteTime": {
     "end_time": "2021-12-31T02:50:28.705144Z",
     "start_time": "2021-12-31T02:50:27.743380Z"
    },
    "hide_input": true
   },
   "outputs": [
    {
     "data": {
      "image/png": "[encoded data removed]",
      "text/plain": [
       "<Figure size 1296x288 with 2 Axes>"
      ]
     },
     "metadata": {
      "needs_background": "light"
     },
     "output_type": "display_data"
    }
   ],
   "source": [
    "plt.figure(figsize=(18,4))\n",
    "plt.subplots_adjust(wspace=0.15)\n",
    "plt.subplot(1,2,1)\n",
    "ax = sns.histplot(dados[dados['competition']==1]['competition_lifetime'],kde=True)\n",
    "ax.set_title('Competition Lifetime (competition==1)',size=14,pad=8)\n",
    "ax.set_xlabel('')\n",
    "ax.set_ylabel('count',size=11)\n",
    "\n",
    "plt.subplot(1,2,2)\n",
    "ax = sns.histplot(dados[dados['competition']==1]['competition_distance'],kde=True)\n",
    "ax.set_title('Competition Distance (competition==1)',size=14,pad=8)\n",
    "ax.set_xlabel('')\n",
    "ax.set_ylabel('count',size=11)\n",
    "\n",
    "plt.show()"
   ]
  },
  {
   "cell_type": "markdown",
   "id": "33b377be",
   "metadata": {
    "hide_input": true
   },
   "source": [
    "What we can observe:\n",
    "\n",
    "**Competition:** We can see that almost every store has competitors\n",
    "\n",
    "**Competition Distance:** Competitors are usually close to the stores. The distribution has a positive skew, what is expected for this kind of feature.\n",
    "\n",
    "**Competition Lifetime:** The competition is recent in most cases. The distribution has a positive skew, what is expected for this kind of feature.\n",
    "\n",
    "**Competition Open Since Month:** We have a peak of competition start in august for some reason, which probably is a interesting insight.\n",
    "\n",
    "**Competition Open Since Year:** We have a peak again, now in 2009 for some reason, which also might be an insight. Beyond that, this features shows in detail what i observed in Competition Lifetime: Most of competitors are very recent (10-15 years)."
   ]
  },
  {
   "cell_type": "code",
   "execution_count": 214,
   "id": "3af07e07",
   "metadata": {
    "ExecuteTime": {
     "end_time": "2021-12-31T02:33:08.131939Z",
     "start_time": "2021-12-31T02:33:08.129157Z"
    }
   },
   "outputs": [],
   "source": [
    "# promo, promo_count_per_week, promo2, promo2_since_week, promo2_since_year, promo2_interval, promo2_lifetime"
   ]
  },
  {
   "cell_type": "code",
   "execution_count": 277,
   "id": "e1c3665b",
   "metadata": {
    "ExecuteTime": {
     "end_time": "2021-12-31T05:18:34.114035Z",
     "start_time": "2021-12-31T05:18:33.544456Z"
    },
    "hide_input": true
   },
   "outputs": [
    {
     "data": {
      "image/png": "[encoded data removed]",
      "text/plain": [
       "<Figure size 1296x864 with 7 Axes>"
      ]
     },
     "metadata": {
      "needs_background": "light"
     },
     "output_type": "display_data"
    }
   ],
   "source": [
    "plt.figure(figsize=(18,12))\n",
    "plt.subplots_adjust(hspace=0.4,wspace=0.25)\n",
    "\n",
    "plt.subplot(3,3,1)\n",
    "ax = sns.countplot(dados['promo'])\n",
    "ax.set_title('Promo',size=14,pad=8)\n",
    "ax.set_xlabel('')\n",
    "ax.set_ylabel('count',size=11)\n",
    "\n",
    "plt.subplot(3,3,2)\n",
    "ax = sns.countplot(dados['promo_count_per_week'])\n",
    "ax.set_title('Promo Count Per Week',size=14,pad=8)\n",
    "ax.set_xlabel('')\n",
    "ax.set_ylabel('count',size=11)\n",
    "\n",
    "plt.subplot(3,3,3)\n",
    "ax = sns.countplot(dados['promo2'])\n",
    "ax.set_title('Promo2',size=14,pad=8)\n",
    "ax.set_xlabel('')\n",
    "ax.set_ylabel('count',size=11)\n",
    "\n",
    "plt.subplot(3,3,4)\n",
    "ax = sns.histplot(dados[dados['promo2']==1]['promo2_since_week'])\n",
    "ax.set_title('Promo2 Since Week (promo2==1)',size=14,pad=8)\n",
    "ax.set_xlabel('')\n",
    "ax.set_ylabel('count',size=11)\n",
    "\n",
    "plt.subplot(3,3,5)\n",
    "ax = sns.countplot(dados[dados['promo2']==1]['promo2_since_year'])\n",
    "ax.set_title('Promo2 Since Year (promo2==1)',size=14,pad=8)\n",
    "ax.set_xlabel('')\n",
    "ax.set_ylabel('count',size=11)\n",
    "\n",
    "plt.subplot(3,3,6)\n",
    "ax = sns.countplot(dados[dados['promo2']==1]['promo_interval'])\n",
    "ax.set_title('Promo2 Interval (promo2==1)',size=14,pad=8)\n",
    "ax.set_xlabel('')\n",
    "ax.set_ylabel('count',size=11)\n",
    "\n",
    "plt.subplot(3,3,7)\n",
    "ax = sns.histplot(dados[dados['promo2']==1]['promo2_lifetime'],kde=True)\n",
    "ax.set_title('Promo2 Lifetime (promo2==1)',size=14,pad=8)\n",
    "ax.set_xlabel('')\n",
    "ax.set_ylabel('count',size=11)\n",
    "\n",
    "\n",
    "plt.show()"
   ]
  },
  {
   "cell_type": "markdown",
   "id": "41f092c0",
   "metadata": {},
   "source": [
    "What we can observe:\n",
    "\n",
    "**Promo:** There's a huge represantation of promo, which means that almost every day we have promo\n",
    "\n",
    "**Promo Count Per Week:** It's common to have a few day promos per week per store, like one or two, or no promo.\n",
    "\n",
    "**Promo2:** Around a half of the stores adopted promo2\n",
    "\n",
    "**Promo2 Since Week:** We have some periods with high and other with almost no acceptance. There must have a good reason for it.\n",
    "\n",
    "**Promo2 Since Year:** We can observe that 2011 was a important year for the promo2, because the representation, if not greater, it's almost the same, never less. We need to observe that 2015 has way less contribution compared to other years, probably because this data doesn't include the whole year of 2015.\n",
    "\n",
    "**Promo2 Interval:** We have a visible difference between the interval adopted, there's one that is chosen most times and others with similar acceptance.\n",
    "\n",
    "**Promo2 Lifetime:** Most of the records are with promo2 already running. We clearly see that most of these records are from promo2 which started no more than 1500 days ago (after that we have a notorious drop), what shows that since 2011 (1500 days) there's a higher adoption of promo2, what already has been observed on Promo2 Since Year."
   ]
  },
  {
   "cell_type": "code",
   "execution_count": null,
   "id": "383180b9",
   "metadata": {},
   "outputs": [],
   "source": [
    "# day, month, year, week, quarter, semester and season"
   ]
  },
  {
   "cell_type": "code",
   "execution_count": 281,
   "id": "52774cfd",
   "metadata": {
    "ExecuteTime": {
     "end_time": "2021-12-31T05:21:46.602023Z",
     "start_time": "2021-12-31T05:21:46.152999Z"
    },
    "hide_input": true,
    "scrolled": false
   },
   "outputs": [
    {
     "data": {
      "image/png": "[encoded data removed]",
      "text/plain": [
       "<Figure size 1296x864 with 7 Axes>"
      ]
     },
     "metadata": {
      "needs_background": "light"
     },
     "output_type": "display_data"
    }
   ],
   "source": [
    "plt.figure(figsize=(18,12))\n",
    "plt.subplots_adjust(hspace=0.4,wspace=0.25)\n",
    "\n",
    "plt.subplot(3,3,1)\n",
    "ax = sns.histplot(dados['day'])\n",
    "ax.set_title('Day',size=14,pad=8)\n",
    "ax.set_xlabel('')\n",
    "ax.set_ylabel('count',size=11)\n",
    "\n",
    "plt.subplot(3,3,2)\n",
    "ax = sns.countplot(dados['month'])\n",
    "ax.set_title('Month',size=14,pad=8)\n",
    "ax.set_xlabel('')\n",
    "ax.set_ylabel('count',size=11)\n",
    "\n",
    "plt.subplot(3,3,3)\n",
    "ax = sns.countplot(dados['year'])\n",
    "ax.set_title('Year',size=14,pad=8)\n",
    "ax.set_xlabel('')\n",
    "ax.set_ylabel('count',size=11)\n",
    "\n",
    "plt.subplot(3,3,4)\n",
    "ax = sns.histplot(dados['week'])\n",
    "ax.set_title('Week',size=14,pad=8)\n",
    "ax.set_xlabel('')\n",
    "ax.set_ylabel('count',size=11)\n",
    "\n",
    "plt.subplot(3,3,5)\n",
    "ax = sns.countplot(dados['quarter'])\n",
    "ax.set_title('Quarter',size=14,pad=8)\n",
    "ax.set_xlabel('')\n",
    "ax.set_ylabel('count',size=11)\n",
    "\n",
    "plt.subplot(3,3,6)\n",
    "ax = sns.countplot(dados['semester'])\n",
    "ax.set_title('Semester',size=14,pad=8)\n",
    "ax.set_xlabel('')\n",
    "ax.set_ylabel('count',size=11)\n",
    "\n",
    "plt.subplot(3,3,7)\n",
    "ax = sns.countplot(dados['season'])\n",
    "ax.set_title('Season',size=14,pad=8)\n",
    "ax.set_xlabel('')\n",
    "ax.set_ylabel('count',size=11)\n",
    "\n",
    "\n",
    "plt.show()"
   ]
  },
  {
   "cell_type": "markdown",
   "id": "19c089ef",
   "metadata": {},
   "source": [
    "What we can observe:\n",
    "\n",
    "**Day:** We have a similar representation between values, but the first and the last that of the month we have less records for some reason.\n",
    "\n",
    "**Month:** Most of the records are from the first semester, probably because 2015 is not completed yet i suppose.\n",
    "\n",
    "**Year:** As we talked all time, 2015 has less records. But 2014 has less than 2013 for some reason.\n",
    "\n",
    "**Week:** We have less representation of the second semester, but there're peak in this variable for some reason\n",
    "\n",
    "**Quarter:** The first semester have equal distribution between it's quarters, the other one doesn't.\n",
    "\n",
    "**Semester:** As already observed, less representation of the second semester.\n",
    "\n",
    "**Season:** Not have a equal distribution, because of the semesters representation difference\n",
    "\n",
    "We can conclude that the time is not very well distributed, we have a clear difference of representation in a lot of features!"
   ]
  },
  {
   "cell_type": "markdown",
   "id": "16c03e29",
   "metadata": {},
   "source": [
    "## 2.4 Bivariate Analysis"
   ]
  },
  {
   "cell_type": "code",
   "execution_count": null,
   "id": "f6be2b11",
   "metadata": {},
   "outputs": [],
   "source": [
    "# Day of Week"
   ]
  },
  {
   "cell_type": "markdown",
   "id": "6dc7fbb4",
   "metadata": {},
   "source": [
    "### H1: As lojas vendem muito mais no começo do mês do que no final"
   ]
  },
  {
   "cell_type": "code",
   "execution_count": 25,
   "id": "8983023d",
   "metadata": {
    "ExecuteTime": {
     "end_time": "2021-12-31T19:20:46.088487Z",
     "start_time": "2021-12-31T19:20:45.098665Z"
    },
    "hide_input": true
   },
   "outputs": [
    {
     "data": {
      "image/png": "[encoded data removed]",
      "text/plain": [
       "<Figure size 1440x576 with 2 Axes>"
      ]
     },
     "metadata": {
      "needs_background": "light"
     },
     "output_type": "display_data"
    }
   ],
   "source": [
    "plt.figure(figsize=(20,8))\n",
    "plt.subplot(2,1,1)\n",
    "sns.barplot(x=dados['day'],y=dados['sales'])\n",
    "plt.subplot(2,1,2)\n",
    "sns.boxplot(x=dados['day'],y=dados['sales'])\n",
    "plt.show()"
   ]
  },
  {
   "cell_type": "code",
   "execution_count": 53,
   "id": "a90983d8",
   "metadata": {
    "ExecuteTime": {
     "end_time": "2021-12-31T19:44:20.643605Z",
     "start_time": "2021-12-31T19:44:19.266417Z"
    },
    "hide_input": true
   },
   "outputs": [
    {
     "data": {
      "image/png": "[encoded data removed]",
      "text/plain": [
       "<Figure size 1152x288 with 3 Axes>"
      ]
     },
     "metadata": {
      "needs_background": "light"
     },
     "output_type": "display_data"
    }
   ],
   "source": [
    "# 1 == 10 first days, 2 == 10 middle days, 3 == 10* (* == or 11) ending days\n",
    "month_period = dados['day'].apply(lambda x: 1 if x<=10 else (2 if 20>=x>=11 else 3)) \n",
    "\n",
    "plt.figure(figsize=(16,4))\n",
    "plt.subplots_adjust(wspace=0.3)\n",
    "\n",
    "plt.subplot(1,3,1)\n",
    "ax = sns.barplot(x=month_period,y=dados['sales'])\n",
    "ax.set_xlabel('month_period')\n",
    "\n",
    "plt.subplot(1,3,2)\n",
    "ax = sns.boxplot(x=month_period,y=dados['sales'])\n",
    "ax.set_xlabel('month_period')\n",
    "\n",
    "plt.subplot(1,3,3)\n",
    "ax = sns.lineplot(x=dados['month'],y=dados['sales'],hue=month_period,palette=['blue','orange','green'])\n",
    "ax.legend(title='month_period')\n",
    "plt.show()"
   ]
  },
  {
   "cell_type": "markdown",
   "id": "53a14af9",
   "metadata": {},
   "source": [
    "The hypotheis is **FALSE**\n",
    "\n",
    "The difference of store sales between days/month_period are highly impacted by the period of the year, as we can see in the last graph.\n",
    "\n",
    "However if we analyse sales on whole year, there's a little difference between days/month_period, but way less than what the hypothesis expected."
   ]
  },
  {
   "cell_type": "markdown",
   "id": "a6996352",
   "metadata": {},
   "source": [
    "### H2: Houve um crescimento de vendas ao longo dos anos"
   ]
  },
  {
   "cell_type": "code",
   "execution_count": 68,
   "id": "c161952f",
   "metadata": {
    "ExecuteTime": {
     "end_time": "2021-12-31T20:09:58.211463Z",
     "start_time": "2021-12-31T20:09:57.596361Z"
    },
    "hide_input": true
   },
   "outputs": [
    {
     "data": {
      "image/png": "[encoded data removed]",
      "text/plain": [
       "<Figure size 1152x288 with 3 Axes>"
      ]
     },
     "metadata": {
      "needs_background": "light"
     },
     "output_type": "display_data"
    }
   ],
   "source": [
    "plt.figure(figsize=(16,4))\n",
    "plt.subplots_adjust(wspace=0.3)\n",
    "\n",
    "plt.subplot(1,3,1)\n",
    "ax = sns.barplot(x=dados.groupby('year').sum()['sales'].index,y=dados.groupby('year').sum()['sales'].values)\n",
    "ax.set_title('Sales (Absolute Values)',size=14)\n",
    "\n",
    "plt.subplot(1,3,2)\n",
    "ax = sns.barplot(x=dados['year'],y=dados['sales'])\n",
    "ax.set_title('Sales (Relative Values)',size=14)\n",
    "\n",
    "plt.subplot(1,3,3)\n",
    "ax = sns.boxplot(x=dados['year'],y=dados['sales'])\n",
    "ax.set_title('Sales (Boxplot)',size=14)\n",
    "\n",
    "plt.show()"
   ]
  },
  {
   "cell_type": "markdown",
   "id": "fdc0ee08",
   "metadata": {},
   "source": [
    "The hypothesis ask for a absolute value analyses, but as we saw on the univariate analysis, these classes are not well balanced.\n",
    "\n",
    "Using relative graphs, we can clearly see that the difference between these years doesn't seem to be relevant. But i'll make a desc. analysis to make sure."
   ]
  },
  {
   "cell_type": "code",
   "execution_count": 75,
   "id": "a5ca382d",
   "metadata": {
    "ExecuteTime": {
     "end_time": "2021-12-31T20:26:38.471199Z",
     "start_time": "2021-12-31T20:26:38.357451Z"
    },
    "hide_input": false
   },
   "outputs": [
    {
     "data": {
      "text/html": [
       "<div>\n",
       "<style scoped>\n",
       "    .dataframe tbody tr th:only-of-type {\n",
       "        vertical-align: middle;\n",
       "    }\n",
       "\n",
       "    .dataframe tbody tr th {\n",
       "        vertical-align: top;\n",
       "    }\n",
       "\n",
       "    .dataframe thead th {\n",
       "        text-align: right;\n",
       "    }\n",
       "</style>\n",
       "<table border=\"1\" class=\"dataframe\">\n",
       "  <thead>\n",
       "    <tr style=\"text-align: right;\">\n",
       "      <th></th>\n",
       "      <th>count</th>\n",
       "      <th>mean</th>\n",
       "      <th>std</th>\n",
       "      <th>min</th>\n",
       "      <th>25%</th>\n",
       "      <th>50%</th>\n",
       "      <th>75%</th>\n",
       "      <th>max</th>\n",
       "    </tr>\n",
       "    <tr>\n",
       "      <th>year</th>\n",
       "      <th></th>\n",
       "      <th></th>\n",
       "      <th></th>\n",
       "      <th></th>\n",
       "      <th></th>\n",
       "      <th></th>\n",
       "      <th></th>\n",
       "      <th></th>\n",
       "    </tr>\n",
       "  </thead>\n",
       "  <tbody>\n",
       "    <tr>\n",
       "      <th>2013</th>\n",
       "      <td>33859.0</td>\n",
       "      <td>6800.396350</td>\n",
       "      <td>3130.805298</td>\n",
       "      <td>316.0</td>\n",
       "      <td>4701.5</td>\n",
       "      <td>6182.0</td>\n",
       "      <td>8174.0</td>\n",
       "      <td>33151.0</td>\n",
       "    </tr>\n",
       "    <tr>\n",
       "      <th>2014</th>\n",
       "      <td>30939.0</td>\n",
       "      <td>7034.304438</td>\n",
       "      <td>3130.023317</td>\n",
       "      <td>663.0</td>\n",
       "      <td>4910.0</td>\n",
       "      <td>6447.0</td>\n",
       "      <td>8480.0</td>\n",
       "      <td>33913.0</td>\n",
       "    </tr>\n",
       "    <tr>\n",
       "      <th>2015</th>\n",
       "      <td>19723.0</td>\n",
       "      <td>7094.584343</td>\n",
       "      <td>3041.092453</td>\n",
       "      <td>714.0</td>\n",
       "      <td>5042.5</td>\n",
       "      <td>6547.0</td>\n",
       "      <td>8528.0</td>\n",
       "      <td>30978.0</td>\n",
       "    </tr>\n",
       "  </tbody>\n",
       "</table>\n",
       "</div>"
      ],
      "text/plain": [
       "        count         mean          std    min     25%     50%     75%  \\\n",
       "year                                                                     \n",
       "2013  33859.0  6800.396350  3130.805298  316.0  4701.5  6182.0  8174.0   \n",
       "2014  30939.0  7034.304438  3130.023317  663.0  4910.0  6447.0  8480.0   \n",
       "2015  19723.0  7094.584343  3041.092453  714.0  5042.5  6547.0  8528.0   \n",
       "\n",
       "          max  \n",
       "year           \n",
       "2013  33151.0  \n",
       "2014  33913.0  \n",
       "2015  30978.0  "
      ]
     },
     "execution_count": 75,
     "metadata": {},
     "output_type": "execute_result"
    }
   ],
   "source": [
    "# Tradicional Descriptive Analysis of sales over the years\n",
    "dados.groupby('year').describe()['sales']"
   ]
  },
  {
   "cell_type": "code",
   "execution_count": 74,
   "id": "c0ee025f",
   "metadata": {
    "ExecuteTime": {
     "end_time": "2021-12-31T20:24:25.800949Z",
     "start_time": "2021-12-31T20:24:25.689814Z"
    }
   },
   "outputs": [
    {
     "data": {
      "text/html": [
       "<div>\n",
       "<style scoped>\n",
       "    .dataframe tbody tr th:only-of-type {\n",
       "        vertical-align: middle;\n",
       "    }\n",
       "\n",
       "    .dataframe tbody tr th {\n",
       "        vertical-align: top;\n",
       "    }\n",
       "\n",
       "    .dataframe thead th {\n",
       "        text-align: right;\n",
       "    }\n",
       "</style>\n",
       "<table border=\"1\" class=\"dataframe\">\n",
       "  <thead>\n",
       "    <tr style=\"text-align: right;\">\n",
       "      <th></th>\n",
       "      <th>count</th>\n",
       "      <th>mean</th>\n",
       "      <th>std</th>\n",
       "      <th>min</th>\n",
       "      <th>25%</th>\n",
       "      <th>50%</th>\n",
       "      <th>75%</th>\n",
       "      <th>max</th>\n",
       "    </tr>\n",
       "    <tr>\n",
       "      <th>year</th>\n",
       "      <th></th>\n",
       "      <th></th>\n",
       "      <th></th>\n",
       "      <th></th>\n",
       "      <th></th>\n",
       "      <th></th>\n",
       "      <th></th>\n",
       "      <th></th>\n",
       "    </tr>\n",
       "  </thead>\n",
       "  <tbody>\n",
       "    <tr>\n",
       "      <th>2013</th>\n",
       "      <td>NaN</td>\n",
       "      <td>NaN</td>\n",
       "      <td>NaN</td>\n",
       "      <td>NaN</td>\n",
       "      <td>NaN</td>\n",
       "      <td>NaN</td>\n",
       "      <td>NaN</td>\n",
       "      <td>NaN</td>\n",
       "    </tr>\n",
       "    <tr>\n",
       "      <th>2014</th>\n",
       "      <td>-8.62</td>\n",
       "      <td>3.44</td>\n",
       "      <td>-0.02</td>\n",
       "      <td>109.81</td>\n",
       "      <td>4.43</td>\n",
       "      <td>4.29</td>\n",
       "      <td>3.74</td>\n",
       "      <td>2.30</td>\n",
       "    </tr>\n",
       "    <tr>\n",
       "      <th>2015</th>\n",
       "      <td>-36.25</td>\n",
       "      <td>0.86</td>\n",
       "      <td>-2.84</td>\n",
       "      <td>7.69</td>\n",
       "      <td>2.70</td>\n",
       "      <td>1.55</td>\n",
       "      <td>0.57</td>\n",
       "      <td>-8.65</td>\n",
       "    </tr>\n",
       "  </tbody>\n",
       "</table>\n",
       "</div>"
      ],
      "text/plain": [
       "      count  mean   std     min   25%   50%   75%   max\n",
       "year                                                   \n",
       "2013    NaN   NaN   NaN     NaN   NaN   NaN   NaN   NaN\n",
       "2014  -8.62  3.44 -0.02  109.81  4.43  4.29  3.74  2.30\n",
       "2015 -36.25  0.86 -2.84    7.69  2.70  1.55  0.57 -8.65"
      ]
     },
     "execution_count": 74,
     "metadata": {},
     "output_type": "execute_result"
    }
   ],
   "source": [
    "# Analysing the percentage of increasment over the years\n",
    "round(dados.groupby('year').describe()['sales'].pct_change()*100,2)"
   ]
  },
  {
   "cell_type": "markdown",
   "id": "6ebd4b13",
   "metadata": {},
   "source": [
    "The hypothesis is **TRUE**\n",
    "\n",
    "There's a difference that we cannot even realize using graph analysis. Even if it's small, it exists as shown in these 2 dataframes."
   ]
  },
  {
   "cell_type": "markdown",
   "id": "3f3a614f",
   "metadata": {},
   "source": [
    "### H3: Lojas vendem mais no fim de semana"
   ]
  },
  {
   "cell_type": "code",
   "execution_count": 94,
   "id": "0d66b48f",
   "metadata": {
    "ExecuteTime": {
     "end_time": "2021-12-31T20:43:29.590464Z",
     "start_time": "2021-12-31T20:43:26.779657Z"
    },
    "hide_input": true
   },
   "outputs": [
    {
     "data": {
      "image/png": "[encoded data removed]",
      "text/plain": [
       "<Figure size 1152x576 with 6 Axes>"
      ]
     },
     "metadata": {
      "needs_background": "light"
     },
     "output_type": "display_data"
    }
   ],
   "source": [
    "weekend = dados['day_of_week'].apply(lambda x: 1 if x==6 or x==7 else 0)\n",
    "\n",
    "plt.figure(figsize=(16,8))\n",
    "plt.subplots_adjust(wspace=0.3)\n",
    "\n",
    "plt.subplot(2,3,1)\n",
    "ax = sns.barplot(x=weekend,y=dados['sales'])\n",
    "ax.set_xlabel('weekend')\n",
    "\n",
    "plt.subplot(2,3,2)\n",
    "ax = sns.boxplot(x=weekend,y=dados['sales'])\n",
    "ax.set_xlabel('weekend')\n",
    "\n",
    "plt.subplot(2,3,3)\n",
    "ax = sns.lineplot(x=dados['month'],y=dados['sales'],hue=weekend)\n",
    "ax.legend(title='weekend')\n",
    "\n",
    "plt.subplot(2,3,4)\n",
    "sns.barplot(x=dados['day_of_week'],y=dados['sales'])\n",
    "\n",
    "plt.subplot(2,3,5)\n",
    "sns.boxplot(x=dados['day_of_week'],y=dados['sales'])\n",
    "\n",
    "plt.subplot(2,3,6)\n",
    "sns.lineplot(x=dados['month'],y=dados['sales'],hue=dados['day_of_week'],palette=['blue','orange','green','red','purple','brown','pink'])\n",
    "\n",
    "plt.show()"
   ]
  },
  {
   "cell_type": "markdown",
   "id": "8cf4e5b2",
   "metadata": {},
   "source": [
    "The hypothesis is **FALSE**\n",
    "\n",
    "We can clearly see a high difference in the first 3 graphs, week days has way more sales all over the year.\n",
    "\n",
    "In the last 3 graphs we can see that sunday is the best day of the week for sales. So, why we can claim that this hypothesis is false? We need to remember what we observed in univariate analysis: most of times stores doesn't even open on sunday's. So probably the stores only opens on especific sundays, which they know that it will be worth it. Then, we cannot say that weekends sells more using sunday as an example! "
   ]
  },
  {
   "cell_type": "markdown",
   "id": "9dbca4c6",
   "metadata": {},
   "source": [
    "### H4: Lojas vendem mais em feriados"
   ]
  },
  {
   "cell_type": "code",
   "execution_count": 95,
   "id": "9e9a0ac6",
   "metadata": {
    "ExecuteTime": {
     "end_time": "2021-12-31T21:04:09.127191Z",
     "start_time": "2021-12-31T21:04:09.121352Z"
    }
   },
   "outputs": [],
   "source": [
    "# State holiday"
   ]
  },
  {
   "cell_type": "code",
   "execution_count": 110,
   "id": "c7f2c318",
   "metadata": {
    "ExecuteTime": {
     "end_time": "2021-12-31T21:12:17.687122Z",
     "start_time": "2021-12-31T21:12:16.852877Z"
    },
    "hide_input": true,
    "scrolled": true
   },
   "outputs": [
    {
     "data": {
      "image/png": "[encoded data removed]",
      "text/plain": [
       "<Figure size 1152x288 with 3 Axes>"
      ]
     },
     "metadata": {
      "needs_background": "light"
     },
     "output_type": "display_data"
    }
   ],
   "source": [
    "plt.figure(figsize=(16,4))\n",
    "plt.subplots_adjust(wspace=0.3)\n",
    "\n",
    "plt.subplot(1,3,1)\n",
    "sns.barplot(x=dados['state_holiday'],y=dados['sales'])\n",
    "\n",
    "plt.subplot(1,3,2)\n",
    "sns.boxplot(x=dados['state_holiday'],y=dados['sales'])\n",
    "\n",
    "plt.subplot(1,3,3)\n",
    "sns.kdeplot(dados[dados['state_holiday']=='None']['sales'])\n",
    "sns.kdeplot(dados[dados['state_holiday']=='public holiday']['sales'])\n",
    "sns.kdeplot(dados[dados['state_holiday']=='Easter holiday']['sales'])\n",
    "sns.kdeplot(dados[dados['state_holiday']=='Christmas']['sales'])\n",
    "plt.legend(['None','Public Holiday','Easter Holiday','Christmas'])\n",
    "plt.xlim(dados['sales'].min())\n",
    "\n",
    "plt.show()"
   ]
  },
  {
   "cell_type": "code",
   "execution_count": 111,
   "id": "54b02c79",
   "metadata": {
    "ExecuteTime": {
     "end_time": "2021-12-31T21:13:21.690128Z",
     "start_time": "2021-12-31T21:13:21.566050Z"
    }
   },
   "outputs": [
    {
     "data": {
      "text/html": [
       "<div>\n",
       "<style scoped>\n",
       "    .dataframe tbody tr th:only-of-type {\n",
       "        vertical-align: middle;\n",
       "    }\n",
       "\n",
       "    .dataframe tbody tr th {\n",
       "        vertical-align: top;\n",
       "    }\n",
       "\n",
       "    .dataframe thead th {\n",
       "        text-align: right;\n",
       "    }\n",
       "</style>\n",
       "<table border=\"1\" class=\"dataframe\">\n",
       "  <thead>\n",
       "    <tr style=\"text-align: right;\">\n",
       "      <th></th>\n",
       "      <th>count</th>\n",
       "      <th>mean</th>\n",
       "      <th>std</th>\n",
       "      <th>min</th>\n",
       "      <th>25%</th>\n",
       "      <th>50%</th>\n",
       "      <th>75%</th>\n",
       "      <th>max</th>\n",
       "    </tr>\n",
       "    <tr>\n",
       "      <th>state_holiday</th>\n",
       "      <th></th>\n",
       "      <th></th>\n",
       "      <th></th>\n",
       "      <th></th>\n",
       "      <th></th>\n",
       "      <th></th>\n",
       "      <th></th>\n",
       "      <th></th>\n",
       "    </tr>\n",
       "  </thead>\n",
       "  <tbody>\n",
       "    <tr>\n",
       "      <th>Christmas</th>\n",
       "      <td>2.0</td>\n",
       "      <td>19681.000000</td>\n",
       "      <td>6454.470699</td>\n",
       "      <td>15117.0</td>\n",
       "      <td>17399.0</td>\n",
       "      <td>19681.0</td>\n",
       "      <td>21963.00</td>\n",
       "      <td>24245.0</td>\n",
       "    </tr>\n",
       "    <tr>\n",
       "      <th>Easter holiday</th>\n",
       "      <td>14.0</td>\n",
       "      <td>7703.714286</td>\n",
       "      <td>7710.994223</td>\n",
       "      <td>1318.0</td>\n",
       "      <td>3900.5</td>\n",
       "      <td>4683.5</td>\n",
       "      <td>8205.25</td>\n",
       "      <td>30848.0</td>\n",
       "    </tr>\n",
       "    <tr>\n",
       "      <th>None</th>\n",
       "      <td>84432.0</td>\n",
       "      <td>6953.049685</td>\n",
       "      <td>3108.002350</td>\n",
       "      <td>316.0</td>\n",
       "      <td>4855.0</td>\n",
       "      <td>6366.0</td>\n",
       "      <td>8367.00</td>\n",
       "      <td>33913.0</td>\n",
       "    </tr>\n",
       "    <tr>\n",
       "      <th>public holiday</th>\n",
       "      <td>73.0</td>\n",
       "      <td>8333.520548</td>\n",
       "      <td>5130.822341</td>\n",
       "      <td>1147.0</td>\n",
       "      <td>5363.0</td>\n",
       "      <td>7318.0</td>\n",
       "      <td>9770.00</td>\n",
       "      <td>33151.0</td>\n",
       "    </tr>\n",
       "  </tbody>\n",
       "</table>\n",
       "</div>"
      ],
      "text/plain": [
       "                  count          mean          std      min      25%      50%  \\\n",
       "state_holiday                                                                   \n",
       "Christmas           2.0  19681.000000  6454.470699  15117.0  17399.0  19681.0   \n",
       "Easter holiday     14.0   7703.714286  7710.994223   1318.0   3900.5   4683.5   \n",
       "None            84432.0   6953.049685  3108.002350    316.0   4855.0   6366.0   \n",
       "public holiday     73.0   8333.520548  5130.822341   1147.0   5363.0   7318.0   \n",
       "\n",
       "                     75%      max  \n",
       "state_holiday                      \n",
       "Christmas       21963.00  24245.0  \n",
       "Easter holiday   8205.25  30848.0  \n",
       "None             8367.00  33913.0  \n",
       "public holiday   9770.00  33151.0  "
      ]
     },
     "execution_count": 111,
     "metadata": {},
     "output_type": "execute_result"
    }
   ],
   "source": [
    "# I want to analyse more accuractely the difference between easter, public holiday and normal days\n",
    "dados.groupby('state_holiday').describe()['sales']"
   ]
  },
  {
   "cell_type": "markdown",
   "id": "6bb04500",
   "metadata": {},
   "source": [
    "For this feature the hypothesis is **DEPENDS on what holiday we are talking about**\n",
    "\n",
    "We can see that christimas has way more sales than ever, it's a very lucrative holiday for the stores. However the other ones don't have this level of impact. \n",
    "\n",
    "There's a notorious incresement on sales on Public Holidays, but not even near to christmas.\n",
    "\n",
    "In easter we have a different behavior, it has less sales, we can see that in the graph and with the descriptive analysis."
   ]
  },
  {
   "cell_type": "code",
   "execution_count": null,
   "id": "3681f4c9",
   "metadata": {},
   "outputs": [],
   "source": [
    "# School Holiday"
   ]
  },
  {
   "cell_type": "code",
   "execution_count": 112,
   "id": "91f89e57",
   "metadata": {
    "ExecuteTime": {
     "end_time": "2021-12-31T21:16:30.656423Z",
     "start_time": "2021-12-31T21:16:29.836526Z"
    },
    "hide_input": true
   },
   "outputs": [
    {
     "data": {
      "image/png": "[encoded data removed]",
      "text/plain": [
       "<Figure size 1152x288 with 3 Axes>"
      ]
     },
     "metadata": {
      "needs_background": "light"
     },
     "output_type": "display_data"
    }
   ],
   "source": [
    "plt.figure(figsize=(16,4))\n",
    "plt.subplots_adjust(wspace=0.3)\n",
    "\n",
    "plt.subplot(1,3,1)\n",
    "sns.barplot(x=dados['school_holiday'],y=dados['sales'])\n",
    "\n",
    "plt.subplot(1,3,2)\n",
    "sns.boxplot(x=dados['school_holiday'],y=dados['sales'])\n",
    "\n",
    "plt.subplot(1,3,3)\n",
    "sns.kdeplot(dados[dados['school_holiday']==1]['sales'])\n",
    "sns.kdeplot(dados[dados['school_holiday']==0]['sales'])\n",
    "plt.legend(['1','0'])\n",
    "plt.xlim(dados['sales'].min())\n",
    "\n",
    "plt.show()"
   ]
  },
  {
   "cell_type": "code",
   "execution_count": 167,
   "id": "3f2e6b7b",
   "metadata": {
    "ExecuteTime": {
     "end_time": "2022-01-01T01:08:06.581372Z",
     "start_time": "2022-01-01T01:08:05.905151Z"
    }
   },
   "outputs": [
    {
     "data": {
      "image/png": "[encoded data removed]",
      "text/plain": [
       "<Figure size 432x288 with 1 Axes>"
      ]
     },
     "metadata": {
      "needs_background": "light"
     },
     "output_type": "display_data"
    }
   ],
   "source": [
    "# Want to see if this 'no difference' between classes is present in the whole year\n",
    "sns.lineplot(x=dados['month'],y=dados['sales'],hue=dados['school_holiday']);"
   ]
  },
  {
   "cell_type": "markdown",
   "id": "74d8f162",
   "metadata": {},
   "source": [
    "We need to investigate this different behavior, because at the first look the classes seems to have no impact on sales."
   ]
  },
  {
   "cell_type": "code",
   "execution_count": 165,
   "id": "61018a2f",
   "metadata": {
    "ExecuteTime": {
     "end_time": "2021-12-31T22:15:46.873408Z",
     "start_time": "2021-12-31T22:15:46.517032Z"
    },
    "scrolled": false
   },
   "outputs": [
    {
     "data": {
      "text/html": [
       "<div>\n",
       "<style scoped>\n",
       "    .dataframe tbody tr th:only-of-type {\n",
       "        vertical-align: middle;\n",
       "    }\n",
       "\n",
       "    .dataframe tbody tr th {\n",
       "        vertical-align: top;\n",
       "    }\n",
       "\n",
       "    .dataframe thead th {\n",
       "        text-align: right;\n",
       "    }\n",
       "</style>\n",
       "<table border=\"1\" class=\"dataframe\">\n",
       "  <thead>\n",
       "    <tr style=\"text-align: right;\">\n",
       "      <th></th>\n",
       "      <th>count sc==0</th>\n",
       "      <th>count sc==1</th>\n",
       "      <th>count diff sc1 - sc0</th>\n",
       "      <th>count pct sc1/sc0</th>\n",
       "      <th>count</th>\n",
       "      <th>mean sc==0</th>\n",
       "      <th>mean sc==1</th>\n",
       "      <th>mean diff sc1 - sc0</th>\n",
       "      <th>mean pct sc1/sc0</th>\n",
       "      <th>mean</th>\n",
       "      <th>std sc==0</th>\n",
       "      <th>std sc==1</th>\n",
       "      <th>std diff sc1 - sc0</th>\n",
       "      <th>std pct sc1/sc0</th>\n",
       "      <th>std</th>\n",
       "      <th>min sc==0</th>\n",
       "      <th>min sc==1</th>\n",
       "      <th>min diff sc1 - sc0</th>\n",
       "      <th>min pct sc1/sc0</th>\n",
       "      <th>min</th>\n",
       "      <th>25% sc==0</th>\n",
       "      <th>25% sc==1</th>\n",
       "      <th>25% diff sc1 - sc0</th>\n",
       "      <th>25% pct sc1/sc0</th>\n",
       "      <th>25%</th>\n",
       "      <th>50% sc==0</th>\n",
       "      <th>50% sc==1</th>\n",
       "      <th>50% diff sc1 - sc0</th>\n",
       "      <th>50% pct sc1/sc0</th>\n",
       "      <th>50%</th>\n",
       "      <th>75% sc==0</th>\n",
       "      <th>75% sc==1</th>\n",
       "      <th>75% diff sc1 - sc0</th>\n",
       "      <th>75% pct sc1/sc0</th>\n",
       "      <th>75%</th>\n",
       "      <th>max sc==0</th>\n",
       "      <th>max sc==1</th>\n",
       "      <th>max diff sc1 - sc0</th>\n",
       "      <th>max pct sc1/sc0</th>\n",
       "      <th>max</th>\n",
       "    </tr>\n",
       "    <tr>\n",
       "      <th>month</th>\n",
       "      <th></th>\n",
       "      <th></th>\n",
       "      <th></th>\n",
       "      <th></th>\n",
       "      <th></th>\n",
       "      <th></th>\n",
       "      <th></th>\n",
       "      <th></th>\n",
       "      <th></th>\n",
       "      <th></th>\n",
       "      <th></th>\n",
       "      <th></th>\n",
       "      <th></th>\n",
       "      <th></th>\n",
       "      <th></th>\n",
       "      <th></th>\n",
       "      <th></th>\n",
       "      <th></th>\n",
       "      <th></th>\n",
       "      <th></th>\n",
       "      <th></th>\n",
       "      <th></th>\n",
       "      <th></th>\n",
       "      <th></th>\n",
       "      <th></th>\n",
       "      <th></th>\n",
       "      <th></th>\n",
       "      <th></th>\n",
       "      <th></th>\n",
       "      <th></th>\n",
       "      <th></th>\n",
       "      <th></th>\n",
       "      <th></th>\n",
       "      <th></th>\n",
       "      <th></th>\n",
       "      <th></th>\n",
       "      <th></th>\n",
       "      <th></th>\n",
       "      <th></th>\n",
       "      <th></th>\n",
       "    </tr>\n",
       "  </thead>\n",
       "  <tbody>\n",
       "    <tr>\n",
       "      <th>1</th>\n",
       "      <td>7480.0</td>\n",
       "      <td>1114.0</td>\n",
       "      <td>-6366.0</td>\n",
       "      <td>-85.11</td>\n",
       "      <td>0</td>\n",
       "      <td>6544.399332</td>\n",
       "      <td>7029.419210</td>\n",
       "      <td>485.019879</td>\n",
       "      <td>7.41</td>\n",
       "      <td>0</td>\n",
       "      <td>2857.252324</td>\n",
       "      <td>2958.637875</td>\n",
       "      <td>101.385551</td>\n",
       "      <td>3.55</td>\n",
       "      <td>0</td>\n",
       "      <td>829.0</td>\n",
       "      <td>1538.0</td>\n",
       "      <td>709.0</td>\n",
       "      <td>85.52</td>\n",
       "      <td>0</td>\n",
       "      <td>4609.75</td>\n",
       "      <td>4973.50</td>\n",
       "      <td>363.75</td>\n",
       "      <td>7.89</td>\n",
       "      <td>0</td>\n",
       "      <td>6037.0</td>\n",
       "      <td>6472.5</td>\n",
       "      <td>435.5</td>\n",
       "      <td>7.21</td>\n",
       "      <td>0</td>\n",
       "      <td>7928.00</td>\n",
       "      <td>8441.50</td>\n",
       "      <td>513.50</td>\n",
       "      <td>6.48</td>\n",
       "      <td>0</td>\n",
       "      <td>32263.0</td>\n",
       "      <td>20098.0</td>\n",
       "      <td>-12165.0</td>\n",
       "      <td>-37.71</td>\n",
       "      <td>0</td>\n",
       "    </tr>\n",
       "    <tr>\n",
       "      <th>2</th>\n",
       "      <td>7254.0</td>\n",
       "      <td>697.0</td>\n",
       "      <td>-6557.0</td>\n",
       "      <td>-90.39</td>\n",
       "      <td>0</td>\n",
       "      <td>6486.098153</td>\n",
       "      <td>7173.413199</td>\n",
       "      <td>687.315047</td>\n",
       "      <td>10.60</td>\n",
       "      <td>0</td>\n",
       "      <td>2808.678686</td>\n",
       "      <td>3026.886079</td>\n",
       "      <td>218.207394</td>\n",
       "      <td>7.77</td>\n",
       "      <td>0</td>\n",
       "      <td>625.0</td>\n",
       "      <td>1641.0</td>\n",
       "      <td>1016.0</td>\n",
       "      <td>162.56</td>\n",
       "      <td>0</td>\n",
       "      <td>4622.00</td>\n",
       "      <td>4959.00</td>\n",
       "      <td>337.00</td>\n",
       "      <td>7.29</td>\n",
       "      <td>0</td>\n",
       "      <td>6022.0</td>\n",
       "      <td>6773.0</td>\n",
       "      <td>751.0</td>\n",
       "      <td>12.47</td>\n",
       "      <td>0</td>\n",
       "      <td>7771.00</td>\n",
       "      <td>8720.00</td>\n",
       "      <td>949.00</td>\n",
       "      <td>12.21</td>\n",
       "      <td>0</td>\n",
       "      <td>29876.0</td>\n",
       "      <td>21051.0</td>\n",
       "      <td>-8825.0</td>\n",
       "      <td>-29.54</td>\n",
       "      <td>0</td>\n",
       "    </tr>\n",
       "    <tr>\n",
       "      <th>3</th>\n",
       "      <td>7956.0</td>\n",
       "      <td>755.0</td>\n",
       "      <td>-7201.0</td>\n",
       "      <td>-90.51</td>\n",
       "      <td>0</td>\n",
       "      <td>6752.917421</td>\n",
       "      <td>9051.131126</td>\n",
       "      <td>2298.213705</td>\n",
       "      <td>34.03</td>\n",
       "      <td>0</td>\n",
       "      <td>2990.485884</td>\n",
       "      <td>3737.000477</td>\n",
       "      <td>746.514593</td>\n",
       "      <td>24.96</td>\n",
       "      <td>0</td>\n",
       "      <td>714.0</td>\n",
       "      <td>2153.0</td>\n",
       "      <td>1439.0</td>\n",
       "      <td>201.54</td>\n",
       "      <td>0</td>\n",
       "      <td>4732.50</td>\n",
       "      <td>6411.00</td>\n",
       "      <td>1678.50</td>\n",
       "      <td>35.47</td>\n",
       "      <td>0</td>\n",
       "      <td>6201.5</td>\n",
       "      <td>8392.0</td>\n",
       "      <td>2190.5</td>\n",
       "      <td>35.32</td>\n",
       "      <td>0</td>\n",
       "      <td>8090.25</td>\n",
       "      <td>11093.50</td>\n",
       "      <td>3003.25</td>\n",
       "      <td>37.12</td>\n",
       "      <td>0</td>\n",
       "      <td>27866.0</td>\n",
       "      <td>30729.0</td>\n",
       "      <td>2863.0</td>\n",
       "      <td>10.27</td>\n",
       "      <td>0</td>\n",
       "    </tr>\n",
       "    <tr>\n",
       "      <th>4</th>\n",
       "      <td>6251.0</td>\n",
       "      <td>1991.0</td>\n",
       "      <td>-4260.0</td>\n",
       "      <td>-68.15</td>\n",
       "      <td>0</td>\n",
       "      <td>6987.101744</td>\n",
       "      <td>7223.382722</td>\n",
       "      <td>236.280979</td>\n",
       "      <td>3.38</td>\n",
       "      <td>0</td>\n",
       "      <td>3162.234505</td>\n",
       "      <td>3215.750337</td>\n",
       "      <td>53.515831</td>\n",
       "      <td>1.69</td>\n",
       "      <td>0</td>\n",
       "      <td>663.0</td>\n",
       "      <td>1318.0</td>\n",
       "      <td>655.0</td>\n",
       "      <td>98.79</td>\n",
       "      <td>0</td>\n",
       "      <td>4816.00</td>\n",
       "      <td>4946.00</td>\n",
       "      <td>130.00</td>\n",
       "      <td>2.70</td>\n",
       "      <td>0</td>\n",
       "      <td>6353.0</td>\n",
       "      <td>6515.0</td>\n",
       "      <td>162.0</td>\n",
       "      <td>2.55</td>\n",
       "      <td>0</td>\n",
       "      <td>8535.50</td>\n",
       "      <td>8797.00</td>\n",
       "      <td>261.50</td>\n",
       "      <td>3.06</td>\n",
       "      <td>0</td>\n",
       "      <td>30848.0</td>\n",
       "      <td>29944.0</td>\n",
       "      <td>-904.0</td>\n",
       "      <td>-2.93</td>\n",
       "      <td>0</td>\n",
       "    </tr>\n",
       "    <tr>\n",
       "      <th>5</th>\n",
       "      <td>7350.0</td>\n",
       "      <td>631.0</td>\n",
       "      <td>-6719.0</td>\n",
       "      <td>-91.41</td>\n",
       "      <td>0</td>\n",
       "      <td>7109.595238</td>\n",
       "      <td>7406.120444</td>\n",
       "      <td>296.525206</td>\n",
       "      <td>4.17</td>\n",
       "      <td>0</td>\n",
       "      <td>3002.677640</td>\n",
       "      <td>3125.278199</td>\n",
       "      <td>122.600559</td>\n",
       "      <td>4.08</td>\n",
       "      <td>0</td>\n",
       "      <td>923.0</td>\n",
       "      <td>2272.0</td>\n",
       "      <td>1349.0</td>\n",
       "      <td>146.15</td>\n",
       "      <td>0</td>\n",
       "      <td>5123.00</td>\n",
       "      <td>5100.50</td>\n",
       "      <td>-22.50</td>\n",
       "      <td>-0.44</td>\n",
       "      <td>0</td>\n",
       "      <td>6609.0</td>\n",
       "      <td>6804.0</td>\n",
       "      <td>195.0</td>\n",
       "      <td>2.95</td>\n",
       "      <td>0</td>\n",
       "      <td>8545.75</td>\n",
       "      <td>8903.50</td>\n",
       "      <td>357.75</td>\n",
       "      <td>4.19</td>\n",
       "      <td>0</td>\n",
       "      <td>33151.0</td>\n",
       "      <td>25478.0</td>\n",
       "      <td>-7673.0</td>\n",
       "      <td>-23.15</td>\n",
       "      <td>0</td>\n",
       "    </tr>\n",
       "    <tr>\n",
       "      <th>6</th>\n",
       "      <td>7823.0</td>\n",
       "      <td>559.0</td>\n",
       "      <td>-7264.0</td>\n",
       "      <td>-92.85</td>\n",
       "      <td>0</td>\n",
       "      <td>6936.888534</td>\n",
       "      <td>7707.125224</td>\n",
       "      <td>770.236690</td>\n",
       "      <td>11.10</td>\n",
       "      <td>0</td>\n",
       "      <td>3155.689363</td>\n",
       "      <td>3252.484761</td>\n",
       "      <td>96.795398</td>\n",
       "      <td>3.07</td>\n",
       "      <td>0</td>\n",
       "      <td>575.0</td>\n",
       "      <td>2695.0</td>\n",
       "      <td>2120.0</td>\n",
       "      <td>368.70</td>\n",
       "      <td>0</td>\n",
       "      <td>4820.50</td>\n",
       "      <td>5483.00</td>\n",
       "      <td>662.50</td>\n",
       "      <td>13.74</td>\n",
       "      <td>0</td>\n",
       "      <td>6275.0</td>\n",
       "      <td>6945.0</td>\n",
       "      <td>670.0</td>\n",
       "      <td>10.68</td>\n",
       "      <td>0</td>\n",
       "      <td>8335.50</td>\n",
       "      <td>9040.50</td>\n",
       "      <td>705.00</td>\n",
       "      <td>8.46</td>\n",
       "      <td>0</td>\n",
       "      <td>30732.0</td>\n",
       "      <td>27177.0</td>\n",
       "      <td>-3555.0</td>\n",
       "      <td>-11.57</td>\n",
       "      <td>0</td>\n",
       "    </tr>\n",
       "    <tr>\n",
       "      <th>7</th>\n",
       "      <td>4685.0</td>\n",
       "      <td>3912.0</td>\n",
       "      <td>-773.0</td>\n",
       "      <td>-16.50</td>\n",
       "      <td>0</td>\n",
       "      <td>6649.221558</td>\n",
       "      <td>7316.887270</td>\n",
       "      <td>667.665712</td>\n",
       "      <td>10.04</td>\n",
       "      <td>0</td>\n",
       "      <td>2770.719372</td>\n",
       "      <td>3159.188351</td>\n",
       "      <td>388.468979</td>\n",
       "      <td>14.02</td>\n",
       "      <td>0</td>\n",
       "      <td>943.0</td>\n",
       "      <td>1143.0</td>\n",
       "      <td>200.0</td>\n",
       "      <td>21.21</td>\n",
       "      <td>0</td>\n",
       "      <td>4780.00</td>\n",
       "      <td>5098.75</td>\n",
       "      <td>318.75</td>\n",
       "      <td>6.67</td>\n",
       "      <td>0</td>\n",
       "      <td>6207.0</td>\n",
       "      <td>6708.0</td>\n",
       "      <td>501.0</td>\n",
       "      <td>8.07</td>\n",
       "      <td>0</td>\n",
       "      <td>8016.00</td>\n",
       "      <td>8827.75</td>\n",
       "      <td>811.75</td>\n",
       "      <td>10.13</td>\n",
       "      <td>0</td>\n",
       "      <td>25750.0</td>\n",
       "      <td>27508.0</td>\n",
       "      <td>1758.0</td>\n",
       "      <td>6.83</td>\n",
       "      <td>0</td>\n",
       "    </tr>\n",
       "    <tr>\n",
       "      <th>8</th>\n",
       "      <td>2078.0</td>\n",
       "      <td>3362.0</td>\n",
       "      <td>1284.0</td>\n",
       "      <td>61.79</td>\n",
       "      <td>0</td>\n",
       "      <td>6384.756978</td>\n",
       "      <td>6788.764128</td>\n",
       "      <td>404.007151</td>\n",
       "      <td>6.33</td>\n",
       "      <td>0</td>\n",
       "      <td>3291.234570</td>\n",
       "      <td>2763.125980</td>\n",
       "      <td>-528.108590</td>\n",
       "      <td>-16.05</td>\n",
       "      <td>0</td>\n",
       "      <td>316.0</td>\n",
       "      <td>1007.0</td>\n",
       "      <td>691.0</td>\n",
       "      <td>218.67</td>\n",
       "      <td>0</td>\n",
       "      <td>4322.00</td>\n",
       "      <td>4888.50</td>\n",
       "      <td>566.50</td>\n",
       "      <td>13.11</td>\n",
       "      <td>0</td>\n",
       "      <td>5783.5</td>\n",
       "      <td>6290.5</td>\n",
       "      <td>507.0</td>\n",
       "      <td>8.77</td>\n",
       "      <td>0</td>\n",
       "      <td>7697.75</td>\n",
       "      <td>8118.50</td>\n",
       "      <td>420.75</td>\n",
       "      <td>5.47</td>\n",
       "      <td>0</td>\n",
       "      <td>33913.0</td>\n",
       "      <td>23970.0</td>\n",
       "      <td>-9943.0</td>\n",
       "      <td>-29.32</td>\n",
       "      <td>0</td>\n",
       "    </tr>\n",
       "    <tr>\n",
       "      <th>9</th>\n",
       "      <td>4742.0</td>\n",
       "      <td>433.0</td>\n",
       "      <td>-4309.0</td>\n",
       "      <td>-90.87</td>\n",
       "      <td>0</td>\n",
       "      <td>6524.718895</td>\n",
       "      <td>6512.392610</td>\n",
       "      <td>-12.326285</td>\n",
       "      <td>-0.19</td>\n",
       "      <td>0</td>\n",
       "      <td>2808.172904</td>\n",
       "      <td>2773.359508</td>\n",
       "      <td>-34.813396</td>\n",
       "      <td>-1.24</td>\n",
       "      <td>0</td>\n",
       "      <td>1092.0</td>\n",
       "      <td>1573.0</td>\n",
       "      <td>481.0</td>\n",
       "      <td>44.05</td>\n",
       "      <td>0</td>\n",
       "      <td>4648.25</td>\n",
       "      <td>4447.00</td>\n",
       "      <td>-201.25</td>\n",
       "      <td>-4.33</td>\n",
       "      <td>0</td>\n",
       "      <td>5954.0</td>\n",
       "      <td>5997.0</td>\n",
       "      <td>43.0</td>\n",
       "      <td>0.72</td>\n",
       "      <td>0</td>\n",
       "      <td>7791.00</td>\n",
       "      <td>7837.00</td>\n",
       "      <td>46.00</td>\n",
       "      <td>0.59</td>\n",
       "      <td>0</td>\n",
       "      <td>27782.0</td>\n",
       "      <td>18297.0</td>\n",
       "      <td>-9485.0</td>\n",
       "      <td>-34.14</td>\n",
       "      <td>0</td>\n",
       "    </tr>\n",
       "    <tr>\n",
       "      <th>10</th>\n",
       "      <td>3537.0</td>\n",
       "      <td>1758.0</td>\n",
       "      <td>-1779.0</td>\n",
       "      <td>-50.30</td>\n",
       "      <td>0</td>\n",
       "      <td>6668.745264</td>\n",
       "      <td>6613.743458</td>\n",
       "      <td>-55.001806</td>\n",
       "      <td>-0.82</td>\n",
       "      <td>0</td>\n",
       "      <td>2877.806092</td>\n",
       "      <td>2808.069184</td>\n",
       "      <td>-69.736907</td>\n",
       "      <td>-2.42</td>\n",
       "      <td>0</td>\n",
       "      <td>917.0</td>\n",
       "      <td>1197.0</td>\n",
       "      <td>280.0</td>\n",
       "      <td>30.53</td>\n",
       "      <td>0</td>\n",
       "      <td>4784.00</td>\n",
       "      <td>4744.25</td>\n",
       "      <td>-39.75</td>\n",
       "      <td>-0.83</td>\n",
       "      <td>0</td>\n",
       "      <td>6199.0</td>\n",
       "      <td>6030.0</td>\n",
       "      <td>-169.0</td>\n",
       "      <td>-2.73</td>\n",
       "      <td>0</td>\n",
       "      <td>7992.00</td>\n",
       "      <td>7744.00</td>\n",
       "      <td>-248.00</td>\n",
       "      <td>-3.10</td>\n",
       "      <td>0</td>\n",
       "      <td>30280.0</td>\n",
       "      <td>23980.0</td>\n",
       "      <td>-6300.0</td>\n",
       "      <td>-20.81</td>\n",
       "      <td>0</td>\n",
       "    </tr>\n",
       "    <tr>\n",
       "      <th>11</th>\n",
       "      <td>5147.0</td>\n",
       "      <td>27.0</td>\n",
       "      <td>-5120.0</td>\n",
       "      <td>-99.48</td>\n",
       "      <td>0</td>\n",
       "      <td>7193.875850</td>\n",
       "      <td>9962.555556</td>\n",
       "      <td>2768.679706</td>\n",
       "      <td>38.49</td>\n",
       "      <td>0</td>\n",
       "      <td>3000.700397</td>\n",
       "      <td>4568.685515</td>\n",
       "      <td>1567.985118</td>\n",
       "      <td>52.25</td>\n",
       "      <td>0</td>\n",
       "      <td>842.0</td>\n",
       "      <td>5240.0</td>\n",
       "      <td>4398.0</td>\n",
       "      <td>522.33</td>\n",
       "      <td>0</td>\n",
       "      <td>5190.50</td>\n",
       "      <td>6862.50</td>\n",
       "      <td>1672.00</td>\n",
       "      <td>32.21</td>\n",
       "      <td>0</td>\n",
       "      <td>6713.0</td>\n",
       "      <td>8347.0</td>\n",
       "      <td>1634.0</td>\n",
       "      <td>24.34</td>\n",
       "      <td>0</td>\n",
       "      <td>8574.00</td>\n",
       "      <td>10223.00</td>\n",
       "      <td>1649.00</td>\n",
       "      <td>19.23</td>\n",
       "      <td>0</td>\n",
       "      <td>28544.0</td>\n",
       "      <td>22275.0</td>\n",
       "      <td>-6269.0</td>\n",
       "      <td>-21.96</td>\n",
       "      <td>0</td>\n",
       "    </tr>\n",
       "    <tr>\n",
       "      <th>12</th>\n",
       "      <td>3844.0</td>\n",
       "      <td>1135.0</td>\n",
       "      <td>-2709.0</td>\n",
       "      <td>-70.47</td>\n",
       "      <td>0</td>\n",
       "      <td>8841.063215</td>\n",
       "      <td>7698.967401</td>\n",
       "      <td>-1142.095815</td>\n",
       "      <td>-12.92</td>\n",
       "      <td>0</td>\n",
       "      <td>4071.375088</td>\n",
       "      <td>4251.618276</td>\n",
       "      <td>180.243188</td>\n",
       "      <td>4.43</td>\n",
       "      <td>0</td>\n",
       "      <td>1255.0</td>\n",
       "      <td>972.0</td>\n",
       "      <td>-283.0</td>\n",
       "      <td>-22.55</td>\n",
       "      <td>0</td>\n",
       "      <td>6060.50</td>\n",
       "      <td>4666.50</td>\n",
       "      <td>-1394.00</td>\n",
       "      <td>-23.00</td>\n",
       "      <td>0</td>\n",
       "      <td>8034.5</td>\n",
       "      <td>6617.0</td>\n",
       "      <td>-1417.5</td>\n",
       "      <td>-17.64</td>\n",
       "      <td>0</td>\n",
       "      <td>10710.75</td>\n",
       "      <td>9808.50</td>\n",
       "      <td>-902.25</td>\n",
       "      <td>-8.42</td>\n",
       "      <td>0</td>\n",
       "      <td>32170.0</td>\n",
       "      <td>31141.0</td>\n",
       "      <td>-1029.0</td>\n",
       "      <td>-3.20</td>\n",
       "      <td>0</td>\n",
       "    </tr>\n",
       "  </tbody>\n",
       "</table>\n",
       "</div>"
      ],
      "text/plain": [
       "       count sc==0  count sc==1  count diff sc1 - sc0  count pct sc1/sc0  \\\n",
       "month                                                                      \n",
       "1           7480.0       1114.0               -6366.0             -85.11   \n",
       "2           7254.0        697.0               -6557.0             -90.39   \n",
       "3           7956.0        755.0               -7201.0             -90.51   \n",
       "4           6251.0       1991.0               -4260.0             -68.15   \n",
       "5           7350.0        631.0               -6719.0             -91.41   \n",
       "6           7823.0        559.0               -7264.0             -92.85   \n",
       "7           4685.0       3912.0                -773.0             -16.50   \n",
       "8           2078.0       3362.0                1284.0              61.79   \n",
       "9           4742.0        433.0               -4309.0             -90.87   \n",
       "10          3537.0       1758.0               -1779.0             -50.30   \n",
       "11          5147.0         27.0               -5120.0             -99.48   \n",
       "12          3844.0       1135.0               -2709.0             -70.47   \n",
       "\n",
       "       count   mean sc==0   mean sc==1  mean diff sc1 - sc0  mean pct sc1/sc0  \\\n",
       "month                                                                           \n",
       "1          0  6544.399332  7029.419210           485.019879              7.41   \n",
       "2          0  6486.098153  7173.413199           687.315047             10.60   \n",
       "3          0  6752.917421  9051.131126          2298.213705             34.03   \n",
       "4          0  6987.101744  7223.382722           236.280979              3.38   \n",
       "5          0  7109.595238  7406.120444           296.525206              4.17   \n",
       "6          0  6936.888534  7707.125224           770.236690             11.10   \n",
       "7          0  6649.221558  7316.887270           667.665712             10.04   \n",
       "8          0  6384.756978  6788.764128           404.007151              6.33   \n",
       "9          0  6524.718895  6512.392610           -12.326285             -0.19   \n",
       "10         0  6668.745264  6613.743458           -55.001806             -0.82   \n",
       "11         0  7193.875850  9962.555556          2768.679706             38.49   \n",
       "12         0  8841.063215  7698.967401         -1142.095815            -12.92   \n",
       "\n",
       "       mean    std sc==0    std sc==1  std diff sc1 - sc0  std pct sc1/sc0  \\\n",
       "month                                                                        \n",
       "1         0  2857.252324  2958.637875          101.385551             3.55   \n",
       "2         0  2808.678686  3026.886079          218.207394             7.77   \n",
       "3         0  2990.485884  3737.000477          746.514593            24.96   \n",
       "4         0  3162.234505  3215.750337           53.515831             1.69   \n",
       "5         0  3002.677640  3125.278199          122.600559             4.08   \n",
       "6         0  3155.689363  3252.484761           96.795398             3.07   \n",
       "7         0  2770.719372  3159.188351          388.468979            14.02   \n",
       "8         0  3291.234570  2763.125980         -528.108590           -16.05   \n",
       "9         0  2808.172904  2773.359508          -34.813396            -1.24   \n",
       "10        0  2877.806092  2808.069184          -69.736907            -2.42   \n",
       "11        0  3000.700397  4568.685515         1567.985118            52.25   \n",
       "12        0  4071.375088  4251.618276          180.243188             4.43   \n",
       "\n",
       "       std  min sc==0  min sc==1  min diff sc1 - sc0  min pct sc1/sc0  min  \\\n",
       "month                                                                        \n",
       "1        0      829.0     1538.0               709.0            85.52    0   \n",
       "2        0      625.0     1641.0              1016.0           162.56    0   \n",
       "3        0      714.0     2153.0              1439.0           201.54    0   \n",
       "4        0      663.0     1318.0               655.0            98.79    0   \n",
       "5        0      923.0     2272.0              1349.0           146.15    0   \n",
       "6        0      575.0     2695.0              2120.0           368.70    0   \n",
       "7        0      943.0     1143.0               200.0            21.21    0   \n",
       "8        0      316.0     1007.0               691.0           218.67    0   \n",
       "9        0     1092.0     1573.0               481.0            44.05    0   \n",
       "10       0      917.0     1197.0               280.0            30.53    0   \n",
       "11       0      842.0     5240.0              4398.0           522.33    0   \n",
       "12       0     1255.0      972.0              -283.0           -22.55    0   \n",
       "\n",
       "       25% sc==0  25% sc==1  25% diff sc1 - sc0  25% pct sc1/sc0  25%  \\\n",
       "month                                                                   \n",
       "1        4609.75    4973.50              363.75             7.89    0   \n",
       "2        4622.00    4959.00              337.00             7.29    0   \n",
       "3        4732.50    6411.00             1678.50            35.47    0   \n",
       "4        4816.00    4946.00              130.00             2.70    0   \n",
       "5        5123.00    5100.50              -22.50            -0.44    0   \n",
       "6        4820.50    5483.00              662.50            13.74    0   \n",
       "7        4780.00    5098.75              318.75             6.67    0   \n",
       "8        4322.00    4888.50              566.50            13.11    0   \n",
       "9        4648.25    4447.00             -201.25            -4.33    0   \n",
       "10       4784.00    4744.25              -39.75            -0.83    0   \n",
       "11       5190.50    6862.50             1672.00            32.21    0   \n",
       "12       6060.50    4666.50            -1394.00           -23.00    0   \n",
       "\n",
       "       50% sc==0  50% sc==1  50% diff sc1 - sc0  50% pct sc1/sc0  50%  \\\n",
       "month                                                                   \n",
       "1         6037.0     6472.5               435.5             7.21    0   \n",
       "2         6022.0     6773.0               751.0            12.47    0   \n",
       "3         6201.5     8392.0              2190.5            35.32    0   \n",
       "4         6353.0     6515.0               162.0             2.55    0   \n",
       "5         6609.0     6804.0               195.0             2.95    0   \n",
       "6         6275.0     6945.0               670.0            10.68    0   \n",
       "7         6207.0     6708.0               501.0             8.07    0   \n",
       "8         5783.5     6290.5               507.0             8.77    0   \n",
       "9         5954.0     5997.0                43.0             0.72    0   \n",
       "10        6199.0     6030.0              -169.0            -2.73    0   \n",
       "11        6713.0     8347.0              1634.0            24.34    0   \n",
       "12        8034.5     6617.0             -1417.5           -17.64    0   \n",
       "\n",
       "       75% sc==0  75% sc==1  75% diff sc1 - sc0  75% pct sc1/sc0  75%  \\\n",
       "month                                                                   \n",
       "1        7928.00    8441.50              513.50             6.48    0   \n",
       "2        7771.00    8720.00              949.00            12.21    0   \n",
       "3        8090.25   11093.50             3003.25            37.12    0   \n",
       "4        8535.50    8797.00              261.50             3.06    0   \n",
       "5        8545.75    8903.50              357.75             4.19    0   \n",
       "6        8335.50    9040.50              705.00             8.46    0   \n",
       "7        8016.00    8827.75              811.75            10.13    0   \n",
       "8        7697.75    8118.50              420.75             5.47    0   \n",
       "9        7791.00    7837.00               46.00             0.59    0   \n",
       "10       7992.00    7744.00             -248.00            -3.10    0   \n",
       "11       8574.00   10223.00             1649.00            19.23    0   \n",
       "12      10710.75    9808.50             -902.25            -8.42    0   \n",
       "\n",
       "       max sc==0  max sc==1  max diff sc1 - sc0  max pct sc1/sc0  max  \n",
       "month                                                                  \n",
       "1        32263.0    20098.0            -12165.0           -37.71    0  \n",
       "2        29876.0    21051.0             -8825.0           -29.54    0  \n",
       "3        27866.0    30729.0              2863.0            10.27    0  \n",
       "4        30848.0    29944.0              -904.0            -2.93    0  \n",
       "5        33151.0    25478.0             -7673.0           -23.15    0  \n",
       "6        30732.0    27177.0             -3555.0           -11.57    0  \n",
       "7        25750.0    27508.0              1758.0             6.83    0  \n",
       "8        33913.0    23970.0             -9943.0           -29.32    0  \n",
       "9        27782.0    18297.0             -9485.0           -34.14    0  \n",
       "10       30280.0    23980.0             -6300.0           -20.81    0  \n",
       "11       28544.0    22275.0             -6269.0           -21.96    0  \n",
       "12       32170.0    31141.0             -1029.0            -3.20    0  "
      ]
     },
     "execution_count": 165,
     "metadata": {},
     "output_type": "execute_result"
    }
   ],
   "source": [
    "# Let's go deeper and analyse using descriptive analysis\n",
    "df_aux = pd.DataFrame()\n",
    "df_aux1 = dados[dados['school_holiday']==1].groupby('month').describe()['sales']\n",
    "df_aux0 = dados[dados['school_holiday']==0].groupby('month').describe()['sales']\n",
    "for column in df_aux1.columns.values:\n",
    "    df_aux[f'{column} sc==0'] = df_aux0[column]\n",
    "    df_aux[f'{column} sc==1'] = df_aux1[column]\n",
    "    df_aux[f'{column} diff sc1 - sc0'] = df_aux[f'{column} sc==1']-df_aux[f'{column} sc==0']\n",
    "    df_aux[f'{column} pct sc1/sc0'] = round(((df_aux[f'{column} sc==1']/df_aux[f'{column} sc==0'])-1)*100,2)\n",
    "    df_aux[f'{column}'] = pd.Series([0,0,0,0,0,0,0,0,0,0,0,0,0])\n",
    "df_aux"
   ]
  },
  {
   "cell_type": "markdown",
   "id": "b67c82e9",
   "metadata": {},
   "source": [
    "For this feature the hypothesis **DEPENDS on what month we are talking about** \n",
    "\n",
    "At the first look we saw almost the same behavior between classes, no difference on store sales.\n",
    "\n",
    "However when we observe the behavior of the variable over the time, we can see that the classes have a huge dependence of which month we are looking at. We realized that in most months there's higher sales on school holidays and only a few months we have more sales in normal days."
   ]
  },
  {
   "cell_type": "code",
   "execution_count": null,
   "id": "d15c7e47",
   "metadata": {},
   "outputs": [],
   "source": []
  }
 ],
 "metadata": {
  "kernelspec": {
   "display_name": "Python 3 (ipykernel)",
   "language": "python",
   "name": "python3"
  },
  "language_info": {
   "codemirror_mode": {
    "name": "ipython",
    "version": 3
   },
   "file_extension": ".py",
   "mimetype": "text/x-python",
   "name": "python",
   "nbconvert_exporter": "python",
   "pygments_lexer": "ipython3",
   "version": "3.9.2"
  }
 },
 "nbformat": 4,
 "nbformat_minor": 5
}
